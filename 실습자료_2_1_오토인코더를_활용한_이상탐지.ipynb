{
  "nbformat": 4,
  "nbformat_minor": 0,
  "metadata": {
    "colab": {
      "provenance": [],
      "toc_visible": true,
      "authorship_tag": "ABX9TyPKPaSyCZZD+fq6SyrpBXjB",
      "include_colab_link": true
    },
    "kernelspec": {
      "name": "python3",
      "display_name": "Python 3"
    },
    "language_info": {
      "name": "python"
    },
    "accelerator": "GPU",
    "widgets": {
      "application/vnd.jupyter.widget-state+json": {
        "a32f1b5275f8428e963581eef61985cd": {
          "model_module": "@jupyter-widgets/controls",
          "model_name": "HBoxModel",
          "model_module_version": "1.5.0",
          "state": {
            "_dom_classes": [],
            "_model_module": "@jupyter-widgets/controls",
            "_model_module_version": "1.5.0",
            "_model_name": "HBoxModel",
            "_view_count": null,
            "_view_module": "@jupyter-widgets/controls",
            "_view_module_version": "1.5.0",
            "_view_name": "HBoxView",
            "box_style": "",
            "children": [
              "IPY_MODEL_cf0497cbb47d4ef49cfc1bf28383dc2f",
              "IPY_MODEL_9bf6abf0e86545639bc056d55a6ea241",
              "IPY_MODEL_dd8d94d13d0d47119fe4a994f793fde2"
            ],
            "layout": "IPY_MODEL_c82b5fb5831048fc9cab124b6587d241"
          }
        },
        "cf0497cbb47d4ef49cfc1bf28383dc2f": {
          "model_module": "@jupyter-widgets/controls",
          "model_name": "HTMLModel",
          "model_module_version": "1.5.0",
          "state": {
            "_dom_classes": [],
            "_model_module": "@jupyter-widgets/controls",
            "_model_module_version": "1.5.0",
            "_model_name": "HTMLModel",
            "_view_count": null,
            "_view_module": "@jupyter-widgets/controls",
            "_view_module_version": "1.5.0",
            "_view_name": "HTMLView",
            "description": "",
            "description_tooltip": null,
            "layout": "IPY_MODEL_bc4ee721780c4e4f940ddbb622e93041",
            "placeholder": "​",
            "style": "IPY_MODEL_ef1f6f646a484d47adace36783348a17",
            "value": "100%"
          }
        },
        "9bf6abf0e86545639bc056d55a6ea241": {
          "model_module": "@jupyter-widgets/controls",
          "model_name": "FloatProgressModel",
          "model_module_version": "1.5.0",
          "state": {
            "_dom_classes": [],
            "_model_module": "@jupyter-widgets/controls",
            "_model_module_version": "1.5.0",
            "_model_name": "FloatProgressModel",
            "_view_count": null,
            "_view_module": "@jupyter-widgets/controls",
            "_view_module_version": "1.5.0",
            "_view_name": "ProgressView",
            "bar_style": "success",
            "description": "",
            "description_tooltip": null,
            "layout": "IPY_MODEL_2aaded506a1a49659e05872494a21e2e",
            "max": 9912422,
            "min": 0,
            "orientation": "horizontal",
            "style": "IPY_MODEL_16db792b0ca043cc9d917938244e5d8d",
            "value": 9912422
          }
        },
        "dd8d94d13d0d47119fe4a994f793fde2": {
          "model_module": "@jupyter-widgets/controls",
          "model_name": "HTMLModel",
          "model_module_version": "1.5.0",
          "state": {
            "_dom_classes": [],
            "_model_module": "@jupyter-widgets/controls",
            "_model_module_version": "1.5.0",
            "_model_name": "HTMLModel",
            "_view_count": null,
            "_view_module": "@jupyter-widgets/controls",
            "_view_module_version": "1.5.0",
            "_view_name": "HTMLView",
            "description": "",
            "description_tooltip": null,
            "layout": "IPY_MODEL_c1aa94b71af54513b5ad0559a24a7207",
            "placeholder": "​",
            "style": "IPY_MODEL_1db9237fd7e74b01a04fe46b55745c4e",
            "value": " 9912422/9912422 [00:00&lt;00:00, 62796790.86it/s]"
          }
        },
        "c82b5fb5831048fc9cab124b6587d241": {
          "model_module": "@jupyter-widgets/base",
          "model_name": "LayoutModel",
          "model_module_version": "1.2.0",
          "state": {
            "_model_module": "@jupyter-widgets/base",
            "_model_module_version": "1.2.0",
            "_model_name": "LayoutModel",
            "_view_count": null,
            "_view_module": "@jupyter-widgets/base",
            "_view_module_version": "1.2.0",
            "_view_name": "LayoutView",
            "align_content": null,
            "align_items": null,
            "align_self": null,
            "border": null,
            "bottom": null,
            "display": null,
            "flex": null,
            "flex_flow": null,
            "grid_area": null,
            "grid_auto_columns": null,
            "grid_auto_flow": null,
            "grid_auto_rows": null,
            "grid_column": null,
            "grid_gap": null,
            "grid_row": null,
            "grid_template_areas": null,
            "grid_template_columns": null,
            "grid_template_rows": null,
            "height": null,
            "justify_content": null,
            "justify_items": null,
            "left": null,
            "margin": null,
            "max_height": null,
            "max_width": null,
            "min_height": null,
            "min_width": null,
            "object_fit": null,
            "object_position": null,
            "order": null,
            "overflow": null,
            "overflow_x": null,
            "overflow_y": null,
            "padding": null,
            "right": null,
            "top": null,
            "visibility": null,
            "width": null
          }
        },
        "bc4ee721780c4e4f940ddbb622e93041": {
          "model_module": "@jupyter-widgets/base",
          "model_name": "LayoutModel",
          "model_module_version": "1.2.0",
          "state": {
            "_model_module": "@jupyter-widgets/base",
            "_model_module_version": "1.2.0",
            "_model_name": "LayoutModel",
            "_view_count": null,
            "_view_module": "@jupyter-widgets/base",
            "_view_module_version": "1.2.0",
            "_view_name": "LayoutView",
            "align_content": null,
            "align_items": null,
            "align_self": null,
            "border": null,
            "bottom": null,
            "display": null,
            "flex": null,
            "flex_flow": null,
            "grid_area": null,
            "grid_auto_columns": null,
            "grid_auto_flow": null,
            "grid_auto_rows": null,
            "grid_column": null,
            "grid_gap": null,
            "grid_row": null,
            "grid_template_areas": null,
            "grid_template_columns": null,
            "grid_template_rows": null,
            "height": null,
            "justify_content": null,
            "justify_items": null,
            "left": null,
            "margin": null,
            "max_height": null,
            "max_width": null,
            "min_height": null,
            "min_width": null,
            "object_fit": null,
            "object_position": null,
            "order": null,
            "overflow": null,
            "overflow_x": null,
            "overflow_y": null,
            "padding": null,
            "right": null,
            "top": null,
            "visibility": null,
            "width": null
          }
        },
        "ef1f6f646a484d47adace36783348a17": {
          "model_module": "@jupyter-widgets/controls",
          "model_name": "DescriptionStyleModel",
          "model_module_version": "1.5.0",
          "state": {
            "_model_module": "@jupyter-widgets/controls",
            "_model_module_version": "1.5.0",
            "_model_name": "DescriptionStyleModel",
            "_view_count": null,
            "_view_module": "@jupyter-widgets/base",
            "_view_module_version": "1.2.0",
            "_view_name": "StyleView",
            "description_width": ""
          }
        },
        "2aaded506a1a49659e05872494a21e2e": {
          "model_module": "@jupyter-widgets/base",
          "model_name": "LayoutModel",
          "model_module_version": "1.2.0",
          "state": {
            "_model_module": "@jupyter-widgets/base",
            "_model_module_version": "1.2.0",
            "_model_name": "LayoutModel",
            "_view_count": null,
            "_view_module": "@jupyter-widgets/base",
            "_view_module_version": "1.2.0",
            "_view_name": "LayoutView",
            "align_content": null,
            "align_items": null,
            "align_self": null,
            "border": null,
            "bottom": null,
            "display": null,
            "flex": null,
            "flex_flow": null,
            "grid_area": null,
            "grid_auto_columns": null,
            "grid_auto_flow": null,
            "grid_auto_rows": null,
            "grid_column": null,
            "grid_gap": null,
            "grid_row": null,
            "grid_template_areas": null,
            "grid_template_columns": null,
            "grid_template_rows": null,
            "height": null,
            "justify_content": null,
            "justify_items": null,
            "left": null,
            "margin": null,
            "max_height": null,
            "max_width": null,
            "min_height": null,
            "min_width": null,
            "object_fit": null,
            "object_position": null,
            "order": null,
            "overflow": null,
            "overflow_x": null,
            "overflow_y": null,
            "padding": null,
            "right": null,
            "top": null,
            "visibility": null,
            "width": null
          }
        },
        "16db792b0ca043cc9d917938244e5d8d": {
          "model_module": "@jupyter-widgets/controls",
          "model_name": "ProgressStyleModel",
          "model_module_version": "1.5.0",
          "state": {
            "_model_module": "@jupyter-widgets/controls",
            "_model_module_version": "1.5.0",
            "_model_name": "ProgressStyleModel",
            "_view_count": null,
            "_view_module": "@jupyter-widgets/base",
            "_view_module_version": "1.2.0",
            "_view_name": "StyleView",
            "bar_color": null,
            "description_width": ""
          }
        },
        "c1aa94b71af54513b5ad0559a24a7207": {
          "model_module": "@jupyter-widgets/base",
          "model_name": "LayoutModel",
          "model_module_version": "1.2.0",
          "state": {
            "_model_module": "@jupyter-widgets/base",
            "_model_module_version": "1.2.0",
            "_model_name": "LayoutModel",
            "_view_count": null,
            "_view_module": "@jupyter-widgets/base",
            "_view_module_version": "1.2.0",
            "_view_name": "LayoutView",
            "align_content": null,
            "align_items": null,
            "align_self": null,
            "border": null,
            "bottom": null,
            "display": null,
            "flex": null,
            "flex_flow": null,
            "grid_area": null,
            "grid_auto_columns": null,
            "grid_auto_flow": null,
            "grid_auto_rows": null,
            "grid_column": null,
            "grid_gap": null,
            "grid_row": null,
            "grid_template_areas": null,
            "grid_template_columns": null,
            "grid_template_rows": null,
            "height": null,
            "justify_content": null,
            "justify_items": null,
            "left": null,
            "margin": null,
            "max_height": null,
            "max_width": null,
            "min_height": null,
            "min_width": null,
            "object_fit": null,
            "object_position": null,
            "order": null,
            "overflow": null,
            "overflow_x": null,
            "overflow_y": null,
            "padding": null,
            "right": null,
            "top": null,
            "visibility": null,
            "width": null
          }
        },
        "1db9237fd7e74b01a04fe46b55745c4e": {
          "model_module": "@jupyter-widgets/controls",
          "model_name": "DescriptionStyleModel",
          "model_module_version": "1.5.0",
          "state": {
            "_model_module": "@jupyter-widgets/controls",
            "_model_module_version": "1.5.0",
            "_model_name": "DescriptionStyleModel",
            "_view_count": null,
            "_view_module": "@jupyter-widgets/base",
            "_view_module_version": "1.2.0",
            "_view_name": "StyleView",
            "description_width": ""
          }
        },
        "0cd7844a246c4d8296afc1d5a771caf0": {
          "model_module": "@jupyter-widgets/controls",
          "model_name": "HBoxModel",
          "model_module_version": "1.5.0",
          "state": {
            "_dom_classes": [],
            "_model_module": "@jupyter-widgets/controls",
            "_model_module_version": "1.5.0",
            "_model_name": "HBoxModel",
            "_view_count": null,
            "_view_module": "@jupyter-widgets/controls",
            "_view_module_version": "1.5.0",
            "_view_name": "HBoxView",
            "box_style": "",
            "children": [
              "IPY_MODEL_23d84732bb6d4bd19c326ca1cdf8b8a1",
              "IPY_MODEL_4f49e35dbd6d48cdabf62fc59ec4855c",
              "IPY_MODEL_92c182fda9ba4a38aed6f4c02ea01a6d"
            ],
            "layout": "IPY_MODEL_5e81d3c4db474ca4a36808e2d3f324ad"
          }
        },
        "23d84732bb6d4bd19c326ca1cdf8b8a1": {
          "model_module": "@jupyter-widgets/controls",
          "model_name": "HTMLModel",
          "model_module_version": "1.5.0",
          "state": {
            "_dom_classes": [],
            "_model_module": "@jupyter-widgets/controls",
            "_model_module_version": "1.5.0",
            "_model_name": "HTMLModel",
            "_view_count": null,
            "_view_module": "@jupyter-widgets/controls",
            "_view_module_version": "1.5.0",
            "_view_name": "HTMLView",
            "description": "",
            "description_tooltip": null,
            "layout": "IPY_MODEL_210d405f55bc4f8bb200919e27af97e5",
            "placeholder": "​",
            "style": "IPY_MODEL_c047e0d264cc45aea468773dd39584d3",
            "value": "100%"
          }
        },
        "4f49e35dbd6d48cdabf62fc59ec4855c": {
          "model_module": "@jupyter-widgets/controls",
          "model_name": "FloatProgressModel",
          "model_module_version": "1.5.0",
          "state": {
            "_dom_classes": [],
            "_model_module": "@jupyter-widgets/controls",
            "_model_module_version": "1.5.0",
            "_model_name": "FloatProgressModel",
            "_view_count": null,
            "_view_module": "@jupyter-widgets/controls",
            "_view_module_version": "1.5.0",
            "_view_name": "ProgressView",
            "bar_style": "success",
            "description": "",
            "description_tooltip": null,
            "layout": "IPY_MODEL_4c8f130b48734ca6b355eb78bf8e6c08",
            "max": 28881,
            "min": 0,
            "orientation": "horizontal",
            "style": "IPY_MODEL_ff5a2e497e1242aaad158f624eeb918b",
            "value": 28881
          }
        },
        "92c182fda9ba4a38aed6f4c02ea01a6d": {
          "model_module": "@jupyter-widgets/controls",
          "model_name": "HTMLModel",
          "model_module_version": "1.5.0",
          "state": {
            "_dom_classes": [],
            "_model_module": "@jupyter-widgets/controls",
            "_model_module_version": "1.5.0",
            "_model_name": "HTMLModel",
            "_view_count": null,
            "_view_module": "@jupyter-widgets/controls",
            "_view_module_version": "1.5.0",
            "_view_name": "HTMLView",
            "description": "",
            "description_tooltip": null,
            "layout": "IPY_MODEL_1cb742dc91dc4165bed7c85b7e031e9f",
            "placeholder": "​",
            "style": "IPY_MODEL_8177aa93d5bc478db9926f0120e93d5c",
            "value": " 28881/28881 [00:00&lt;00:00, 789533.09it/s]"
          }
        },
        "5e81d3c4db474ca4a36808e2d3f324ad": {
          "model_module": "@jupyter-widgets/base",
          "model_name": "LayoutModel",
          "model_module_version": "1.2.0",
          "state": {
            "_model_module": "@jupyter-widgets/base",
            "_model_module_version": "1.2.0",
            "_model_name": "LayoutModel",
            "_view_count": null,
            "_view_module": "@jupyter-widgets/base",
            "_view_module_version": "1.2.0",
            "_view_name": "LayoutView",
            "align_content": null,
            "align_items": null,
            "align_self": null,
            "border": null,
            "bottom": null,
            "display": null,
            "flex": null,
            "flex_flow": null,
            "grid_area": null,
            "grid_auto_columns": null,
            "grid_auto_flow": null,
            "grid_auto_rows": null,
            "grid_column": null,
            "grid_gap": null,
            "grid_row": null,
            "grid_template_areas": null,
            "grid_template_columns": null,
            "grid_template_rows": null,
            "height": null,
            "justify_content": null,
            "justify_items": null,
            "left": null,
            "margin": null,
            "max_height": null,
            "max_width": null,
            "min_height": null,
            "min_width": null,
            "object_fit": null,
            "object_position": null,
            "order": null,
            "overflow": null,
            "overflow_x": null,
            "overflow_y": null,
            "padding": null,
            "right": null,
            "top": null,
            "visibility": null,
            "width": null
          }
        },
        "210d405f55bc4f8bb200919e27af97e5": {
          "model_module": "@jupyter-widgets/base",
          "model_name": "LayoutModel",
          "model_module_version": "1.2.0",
          "state": {
            "_model_module": "@jupyter-widgets/base",
            "_model_module_version": "1.2.0",
            "_model_name": "LayoutModel",
            "_view_count": null,
            "_view_module": "@jupyter-widgets/base",
            "_view_module_version": "1.2.0",
            "_view_name": "LayoutView",
            "align_content": null,
            "align_items": null,
            "align_self": null,
            "border": null,
            "bottom": null,
            "display": null,
            "flex": null,
            "flex_flow": null,
            "grid_area": null,
            "grid_auto_columns": null,
            "grid_auto_flow": null,
            "grid_auto_rows": null,
            "grid_column": null,
            "grid_gap": null,
            "grid_row": null,
            "grid_template_areas": null,
            "grid_template_columns": null,
            "grid_template_rows": null,
            "height": null,
            "justify_content": null,
            "justify_items": null,
            "left": null,
            "margin": null,
            "max_height": null,
            "max_width": null,
            "min_height": null,
            "min_width": null,
            "object_fit": null,
            "object_position": null,
            "order": null,
            "overflow": null,
            "overflow_x": null,
            "overflow_y": null,
            "padding": null,
            "right": null,
            "top": null,
            "visibility": null,
            "width": null
          }
        },
        "c047e0d264cc45aea468773dd39584d3": {
          "model_module": "@jupyter-widgets/controls",
          "model_name": "DescriptionStyleModel",
          "model_module_version": "1.5.0",
          "state": {
            "_model_module": "@jupyter-widgets/controls",
            "_model_module_version": "1.5.0",
            "_model_name": "DescriptionStyleModel",
            "_view_count": null,
            "_view_module": "@jupyter-widgets/base",
            "_view_module_version": "1.2.0",
            "_view_name": "StyleView",
            "description_width": ""
          }
        },
        "4c8f130b48734ca6b355eb78bf8e6c08": {
          "model_module": "@jupyter-widgets/base",
          "model_name": "LayoutModel",
          "model_module_version": "1.2.0",
          "state": {
            "_model_module": "@jupyter-widgets/base",
            "_model_module_version": "1.2.0",
            "_model_name": "LayoutModel",
            "_view_count": null,
            "_view_module": "@jupyter-widgets/base",
            "_view_module_version": "1.2.0",
            "_view_name": "LayoutView",
            "align_content": null,
            "align_items": null,
            "align_self": null,
            "border": null,
            "bottom": null,
            "display": null,
            "flex": null,
            "flex_flow": null,
            "grid_area": null,
            "grid_auto_columns": null,
            "grid_auto_flow": null,
            "grid_auto_rows": null,
            "grid_column": null,
            "grid_gap": null,
            "grid_row": null,
            "grid_template_areas": null,
            "grid_template_columns": null,
            "grid_template_rows": null,
            "height": null,
            "justify_content": null,
            "justify_items": null,
            "left": null,
            "margin": null,
            "max_height": null,
            "max_width": null,
            "min_height": null,
            "min_width": null,
            "object_fit": null,
            "object_position": null,
            "order": null,
            "overflow": null,
            "overflow_x": null,
            "overflow_y": null,
            "padding": null,
            "right": null,
            "top": null,
            "visibility": null,
            "width": null
          }
        },
        "ff5a2e497e1242aaad158f624eeb918b": {
          "model_module": "@jupyter-widgets/controls",
          "model_name": "ProgressStyleModel",
          "model_module_version": "1.5.0",
          "state": {
            "_model_module": "@jupyter-widgets/controls",
            "_model_module_version": "1.5.0",
            "_model_name": "ProgressStyleModel",
            "_view_count": null,
            "_view_module": "@jupyter-widgets/base",
            "_view_module_version": "1.2.0",
            "_view_name": "StyleView",
            "bar_color": null,
            "description_width": ""
          }
        },
        "1cb742dc91dc4165bed7c85b7e031e9f": {
          "model_module": "@jupyter-widgets/base",
          "model_name": "LayoutModel",
          "model_module_version": "1.2.0",
          "state": {
            "_model_module": "@jupyter-widgets/base",
            "_model_module_version": "1.2.0",
            "_model_name": "LayoutModel",
            "_view_count": null,
            "_view_module": "@jupyter-widgets/base",
            "_view_module_version": "1.2.0",
            "_view_name": "LayoutView",
            "align_content": null,
            "align_items": null,
            "align_self": null,
            "border": null,
            "bottom": null,
            "display": null,
            "flex": null,
            "flex_flow": null,
            "grid_area": null,
            "grid_auto_columns": null,
            "grid_auto_flow": null,
            "grid_auto_rows": null,
            "grid_column": null,
            "grid_gap": null,
            "grid_row": null,
            "grid_template_areas": null,
            "grid_template_columns": null,
            "grid_template_rows": null,
            "height": null,
            "justify_content": null,
            "justify_items": null,
            "left": null,
            "margin": null,
            "max_height": null,
            "max_width": null,
            "min_height": null,
            "min_width": null,
            "object_fit": null,
            "object_position": null,
            "order": null,
            "overflow": null,
            "overflow_x": null,
            "overflow_y": null,
            "padding": null,
            "right": null,
            "top": null,
            "visibility": null,
            "width": null
          }
        },
        "8177aa93d5bc478db9926f0120e93d5c": {
          "model_module": "@jupyter-widgets/controls",
          "model_name": "DescriptionStyleModel",
          "model_module_version": "1.5.0",
          "state": {
            "_model_module": "@jupyter-widgets/controls",
            "_model_module_version": "1.5.0",
            "_model_name": "DescriptionStyleModel",
            "_view_count": null,
            "_view_module": "@jupyter-widgets/base",
            "_view_module_version": "1.2.0",
            "_view_name": "StyleView",
            "description_width": ""
          }
        },
        "f7f436f610c4418293ed169fd4fa8b76": {
          "model_module": "@jupyter-widgets/controls",
          "model_name": "HBoxModel",
          "model_module_version": "1.5.0",
          "state": {
            "_dom_classes": [],
            "_model_module": "@jupyter-widgets/controls",
            "_model_module_version": "1.5.0",
            "_model_name": "HBoxModel",
            "_view_count": null,
            "_view_module": "@jupyter-widgets/controls",
            "_view_module_version": "1.5.0",
            "_view_name": "HBoxView",
            "box_style": "",
            "children": [
              "IPY_MODEL_ca50111d2c7c402a85777c0010d00010",
              "IPY_MODEL_63d337c7bf074ca9869bf1aa08615ab9",
              "IPY_MODEL_2e265f1864f64b629fa5953ef3df6e3b"
            ],
            "layout": "IPY_MODEL_75c59ccc6ec94dd5a902b14a11cd22d5"
          }
        },
        "ca50111d2c7c402a85777c0010d00010": {
          "model_module": "@jupyter-widgets/controls",
          "model_name": "HTMLModel",
          "model_module_version": "1.5.0",
          "state": {
            "_dom_classes": [],
            "_model_module": "@jupyter-widgets/controls",
            "_model_module_version": "1.5.0",
            "_model_name": "HTMLModel",
            "_view_count": null,
            "_view_module": "@jupyter-widgets/controls",
            "_view_module_version": "1.5.0",
            "_view_name": "HTMLView",
            "description": "",
            "description_tooltip": null,
            "layout": "IPY_MODEL_9bddc5a5dfba4371a88ced00b0f31d3e",
            "placeholder": "​",
            "style": "IPY_MODEL_efee1864289448378732b60f95318e84",
            "value": "100%"
          }
        },
        "63d337c7bf074ca9869bf1aa08615ab9": {
          "model_module": "@jupyter-widgets/controls",
          "model_name": "FloatProgressModel",
          "model_module_version": "1.5.0",
          "state": {
            "_dom_classes": [],
            "_model_module": "@jupyter-widgets/controls",
            "_model_module_version": "1.5.0",
            "_model_name": "FloatProgressModel",
            "_view_count": null,
            "_view_module": "@jupyter-widgets/controls",
            "_view_module_version": "1.5.0",
            "_view_name": "ProgressView",
            "bar_style": "success",
            "description": "",
            "description_tooltip": null,
            "layout": "IPY_MODEL_d6f646fcfc484eaba776a2a2f5d668bb",
            "max": 1648877,
            "min": 0,
            "orientation": "horizontal",
            "style": "IPY_MODEL_be750edb81de45bebeccaad6c085060b",
            "value": 1648877
          }
        },
        "2e265f1864f64b629fa5953ef3df6e3b": {
          "model_module": "@jupyter-widgets/controls",
          "model_name": "HTMLModel",
          "model_module_version": "1.5.0",
          "state": {
            "_dom_classes": [],
            "_model_module": "@jupyter-widgets/controls",
            "_model_module_version": "1.5.0",
            "_model_name": "HTMLModel",
            "_view_count": null,
            "_view_module": "@jupyter-widgets/controls",
            "_view_module_version": "1.5.0",
            "_view_name": "HTMLView",
            "description": "",
            "description_tooltip": null,
            "layout": "IPY_MODEL_ccb6c550dbad48f88ff7f15207b901b9",
            "placeholder": "​",
            "style": "IPY_MODEL_c822de2b4788448dbc2aa62ee90cbae4",
            "value": " 1648877/1648877 [00:00&lt;00:00, 58266562.73it/s]"
          }
        },
        "75c59ccc6ec94dd5a902b14a11cd22d5": {
          "model_module": "@jupyter-widgets/base",
          "model_name": "LayoutModel",
          "model_module_version": "1.2.0",
          "state": {
            "_model_module": "@jupyter-widgets/base",
            "_model_module_version": "1.2.0",
            "_model_name": "LayoutModel",
            "_view_count": null,
            "_view_module": "@jupyter-widgets/base",
            "_view_module_version": "1.2.0",
            "_view_name": "LayoutView",
            "align_content": null,
            "align_items": null,
            "align_self": null,
            "border": null,
            "bottom": null,
            "display": null,
            "flex": null,
            "flex_flow": null,
            "grid_area": null,
            "grid_auto_columns": null,
            "grid_auto_flow": null,
            "grid_auto_rows": null,
            "grid_column": null,
            "grid_gap": null,
            "grid_row": null,
            "grid_template_areas": null,
            "grid_template_columns": null,
            "grid_template_rows": null,
            "height": null,
            "justify_content": null,
            "justify_items": null,
            "left": null,
            "margin": null,
            "max_height": null,
            "max_width": null,
            "min_height": null,
            "min_width": null,
            "object_fit": null,
            "object_position": null,
            "order": null,
            "overflow": null,
            "overflow_x": null,
            "overflow_y": null,
            "padding": null,
            "right": null,
            "top": null,
            "visibility": null,
            "width": null
          }
        },
        "9bddc5a5dfba4371a88ced00b0f31d3e": {
          "model_module": "@jupyter-widgets/base",
          "model_name": "LayoutModel",
          "model_module_version": "1.2.0",
          "state": {
            "_model_module": "@jupyter-widgets/base",
            "_model_module_version": "1.2.0",
            "_model_name": "LayoutModel",
            "_view_count": null,
            "_view_module": "@jupyter-widgets/base",
            "_view_module_version": "1.2.0",
            "_view_name": "LayoutView",
            "align_content": null,
            "align_items": null,
            "align_self": null,
            "border": null,
            "bottom": null,
            "display": null,
            "flex": null,
            "flex_flow": null,
            "grid_area": null,
            "grid_auto_columns": null,
            "grid_auto_flow": null,
            "grid_auto_rows": null,
            "grid_column": null,
            "grid_gap": null,
            "grid_row": null,
            "grid_template_areas": null,
            "grid_template_columns": null,
            "grid_template_rows": null,
            "height": null,
            "justify_content": null,
            "justify_items": null,
            "left": null,
            "margin": null,
            "max_height": null,
            "max_width": null,
            "min_height": null,
            "min_width": null,
            "object_fit": null,
            "object_position": null,
            "order": null,
            "overflow": null,
            "overflow_x": null,
            "overflow_y": null,
            "padding": null,
            "right": null,
            "top": null,
            "visibility": null,
            "width": null
          }
        },
        "efee1864289448378732b60f95318e84": {
          "model_module": "@jupyter-widgets/controls",
          "model_name": "DescriptionStyleModel",
          "model_module_version": "1.5.0",
          "state": {
            "_model_module": "@jupyter-widgets/controls",
            "_model_module_version": "1.5.0",
            "_model_name": "DescriptionStyleModel",
            "_view_count": null,
            "_view_module": "@jupyter-widgets/base",
            "_view_module_version": "1.2.0",
            "_view_name": "StyleView",
            "description_width": ""
          }
        },
        "d6f646fcfc484eaba776a2a2f5d668bb": {
          "model_module": "@jupyter-widgets/base",
          "model_name": "LayoutModel",
          "model_module_version": "1.2.0",
          "state": {
            "_model_module": "@jupyter-widgets/base",
            "_model_module_version": "1.2.0",
            "_model_name": "LayoutModel",
            "_view_count": null,
            "_view_module": "@jupyter-widgets/base",
            "_view_module_version": "1.2.0",
            "_view_name": "LayoutView",
            "align_content": null,
            "align_items": null,
            "align_self": null,
            "border": null,
            "bottom": null,
            "display": null,
            "flex": null,
            "flex_flow": null,
            "grid_area": null,
            "grid_auto_columns": null,
            "grid_auto_flow": null,
            "grid_auto_rows": null,
            "grid_column": null,
            "grid_gap": null,
            "grid_row": null,
            "grid_template_areas": null,
            "grid_template_columns": null,
            "grid_template_rows": null,
            "height": null,
            "justify_content": null,
            "justify_items": null,
            "left": null,
            "margin": null,
            "max_height": null,
            "max_width": null,
            "min_height": null,
            "min_width": null,
            "object_fit": null,
            "object_position": null,
            "order": null,
            "overflow": null,
            "overflow_x": null,
            "overflow_y": null,
            "padding": null,
            "right": null,
            "top": null,
            "visibility": null,
            "width": null
          }
        },
        "be750edb81de45bebeccaad6c085060b": {
          "model_module": "@jupyter-widgets/controls",
          "model_name": "ProgressStyleModel",
          "model_module_version": "1.5.0",
          "state": {
            "_model_module": "@jupyter-widgets/controls",
            "_model_module_version": "1.5.0",
            "_model_name": "ProgressStyleModel",
            "_view_count": null,
            "_view_module": "@jupyter-widgets/base",
            "_view_module_version": "1.2.0",
            "_view_name": "StyleView",
            "bar_color": null,
            "description_width": ""
          }
        },
        "ccb6c550dbad48f88ff7f15207b901b9": {
          "model_module": "@jupyter-widgets/base",
          "model_name": "LayoutModel",
          "model_module_version": "1.2.0",
          "state": {
            "_model_module": "@jupyter-widgets/base",
            "_model_module_version": "1.2.0",
            "_model_name": "LayoutModel",
            "_view_count": null,
            "_view_module": "@jupyter-widgets/base",
            "_view_module_version": "1.2.0",
            "_view_name": "LayoutView",
            "align_content": null,
            "align_items": null,
            "align_self": null,
            "border": null,
            "bottom": null,
            "display": null,
            "flex": null,
            "flex_flow": null,
            "grid_area": null,
            "grid_auto_columns": null,
            "grid_auto_flow": null,
            "grid_auto_rows": null,
            "grid_column": null,
            "grid_gap": null,
            "grid_row": null,
            "grid_template_areas": null,
            "grid_template_columns": null,
            "grid_template_rows": null,
            "height": null,
            "justify_content": null,
            "justify_items": null,
            "left": null,
            "margin": null,
            "max_height": null,
            "max_width": null,
            "min_height": null,
            "min_width": null,
            "object_fit": null,
            "object_position": null,
            "order": null,
            "overflow": null,
            "overflow_x": null,
            "overflow_y": null,
            "padding": null,
            "right": null,
            "top": null,
            "visibility": null,
            "width": null
          }
        },
        "c822de2b4788448dbc2aa62ee90cbae4": {
          "model_module": "@jupyter-widgets/controls",
          "model_name": "DescriptionStyleModel",
          "model_module_version": "1.5.0",
          "state": {
            "_model_module": "@jupyter-widgets/controls",
            "_model_module_version": "1.5.0",
            "_model_name": "DescriptionStyleModel",
            "_view_count": null,
            "_view_module": "@jupyter-widgets/base",
            "_view_module_version": "1.2.0",
            "_view_name": "StyleView",
            "description_width": ""
          }
        },
        "42851dd2ac8c4d7199ad4b7b8df41656": {
          "model_module": "@jupyter-widgets/controls",
          "model_name": "HBoxModel",
          "model_module_version": "1.5.0",
          "state": {
            "_dom_classes": [],
            "_model_module": "@jupyter-widgets/controls",
            "_model_module_version": "1.5.0",
            "_model_name": "HBoxModel",
            "_view_count": null,
            "_view_module": "@jupyter-widgets/controls",
            "_view_module_version": "1.5.0",
            "_view_name": "HBoxView",
            "box_style": "",
            "children": [
              "IPY_MODEL_331711cf954b4da2a4be00cac461276e",
              "IPY_MODEL_5595fc9b185849a984b54a86bc5dd284",
              "IPY_MODEL_c4c627dd8b9b426da98471c20954f778"
            ],
            "layout": "IPY_MODEL_ecd115d0b7c2432d911e2c8bc7ccdfc7"
          }
        },
        "331711cf954b4da2a4be00cac461276e": {
          "model_module": "@jupyter-widgets/controls",
          "model_name": "HTMLModel",
          "model_module_version": "1.5.0",
          "state": {
            "_dom_classes": [],
            "_model_module": "@jupyter-widgets/controls",
            "_model_module_version": "1.5.0",
            "_model_name": "HTMLModel",
            "_view_count": null,
            "_view_module": "@jupyter-widgets/controls",
            "_view_module_version": "1.5.0",
            "_view_name": "HTMLView",
            "description": "",
            "description_tooltip": null,
            "layout": "IPY_MODEL_dc6064c5bbab47fc84d44f78439ab4b0",
            "placeholder": "​",
            "style": "IPY_MODEL_1d696bc9496c473eb76ea7b4ab072c82",
            "value": "100%"
          }
        },
        "5595fc9b185849a984b54a86bc5dd284": {
          "model_module": "@jupyter-widgets/controls",
          "model_name": "FloatProgressModel",
          "model_module_version": "1.5.0",
          "state": {
            "_dom_classes": [],
            "_model_module": "@jupyter-widgets/controls",
            "_model_module_version": "1.5.0",
            "_model_name": "FloatProgressModel",
            "_view_count": null,
            "_view_module": "@jupyter-widgets/controls",
            "_view_module_version": "1.5.0",
            "_view_name": "ProgressView",
            "bar_style": "success",
            "description": "",
            "description_tooltip": null,
            "layout": "IPY_MODEL_0af27d5ed2864dcf9c7b7c413cf3d4a6",
            "max": 4542,
            "min": 0,
            "orientation": "horizontal",
            "style": "IPY_MODEL_a9feb0dea2d14dd29815d598866f6391",
            "value": 4542
          }
        },
        "c4c627dd8b9b426da98471c20954f778": {
          "model_module": "@jupyter-widgets/controls",
          "model_name": "HTMLModel",
          "model_module_version": "1.5.0",
          "state": {
            "_dom_classes": [],
            "_model_module": "@jupyter-widgets/controls",
            "_model_module_version": "1.5.0",
            "_model_name": "HTMLModel",
            "_view_count": null,
            "_view_module": "@jupyter-widgets/controls",
            "_view_module_version": "1.5.0",
            "_view_name": "HTMLView",
            "description": "",
            "description_tooltip": null,
            "layout": "IPY_MODEL_1b8e52c9a6a24d3b9791bb26f215314c",
            "placeholder": "​",
            "style": "IPY_MODEL_8449c3331aa64a65a323547311282b98",
            "value": " 4542/4542 [00:00&lt;00:00, 248218.59it/s]"
          }
        },
        "ecd115d0b7c2432d911e2c8bc7ccdfc7": {
          "model_module": "@jupyter-widgets/base",
          "model_name": "LayoutModel",
          "model_module_version": "1.2.0",
          "state": {
            "_model_module": "@jupyter-widgets/base",
            "_model_module_version": "1.2.0",
            "_model_name": "LayoutModel",
            "_view_count": null,
            "_view_module": "@jupyter-widgets/base",
            "_view_module_version": "1.2.0",
            "_view_name": "LayoutView",
            "align_content": null,
            "align_items": null,
            "align_self": null,
            "border": null,
            "bottom": null,
            "display": null,
            "flex": null,
            "flex_flow": null,
            "grid_area": null,
            "grid_auto_columns": null,
            "grid_auto_flow": null,
            "grid_auto_rows": null,
            "grid_column": null,
            "grid_gap": null,
            "grid_row": null,
            "grid_template_areas": null,
            "grid_template_columns": null,
            "grid_template_rows": null,
            "height": null,
            "justify_content": null,
            "justify_items": null,
            "left": null,
            "margin": null,
            "max_height": null,
            "max_width": null,
            "min_height": null,
            "min_width": null,
            "object_fit": null,
            "object_position": null,
            "order": null,
            "overflow": null,
            "overflow_x": null,
            "overflow_y": null,
            "padding": null,
            "right": null,
            "top": null,
            "visibility": null,
            "width": null
          }
        },
        "dc6064c5bbab47fc84d44f78439ab4b0": {
          "model_module": "@jupyter-widgets/base",
          "model_name": "LayoutModel",
          "model_module_version": "1.2.0",
          "state": {
            "_model_module": "@jupyter-widgets/base",
            "_model_module_version": "1.2.0",
            "_model_name": "LayoutModel",
            "_view_count": null,
            "_view_module": "@jupyter-widgets/base",
            "_view_module_version": "1.2.0",
            "_view_name": "LayoutView",
            "align_content": null,
            "align_items": null,
            "align_self": null,
            "border": null,
            "bottom": null,
            "display": null,
            "flex": null,
            "flex_flow": null,
            "grid_area": null,
            "grid_auto_columns": null,
            "grid_auto_flow": null,
            "grid_auto_rows": null,
            "grid_column": null,
            "grid_gap": null,
            "grid_row": null,
            "grid_template_areas": null,
            "grid_template_columns": null,
            "grid_template_rows": null,
            "height": null,
            "justify_content": null,
            "justify_items": null,
            "left": null,
            "margin": null,
            "max_height": null,
            "max_width": null,
            "min_height": null,
            "min_width": null,
            "object_fit": null,
            "object_position": null,
            "order": null,
            "overflow": null,
            "overflow_x": null,
            "overflow_y": null,
            "padding": null,
            "right": null,
            "top": null,
            "visibility": null,
            "width": null
          }
        },
        "1d696bc9496c473eb76ea7b4ab072c82": {
          "model_module": "@jupyter-widgets/controls",
          "model_name": "DescriptionStyleModel",
          "model_module_version": "1.5.0",
          "state": {
            "_model_module": "@jupyter-widgets/controls",
            "_model_module_version": "1.5.0",
            "_model_name": "DescriptionStyleModel",
            "_view_count": null,
            "_view_module": "@jupyter-widgets/base",
            "_view_module_version": "1.2.0",
            "_view_name": "StyleView",
            "description_width": ""
          }
        },
        "0af27d5ed2864dcf9c7b7c413cf3d4a6": {
          "model_module": "@jupyter-widgets/base",
          "model_name": "LayoutModel",
          "model_module_version": "1.2.0",
          "state": {
            "_model_module": "@jupyter-widgets/base",
            "_model_module_version": "1.2.0",
            "_model_name": "LayoutModel",
            "_view_count": null,
            "_view_module": "@jupyter-widgets/base",
            "_view_module_version": "1.2.0",
            "_view_name": "LayoutView",
            "align_content": null,
            "align_items": null,
            "align_self": null,
            "border": null,
            "bottom": null,
            "display": null,
            "flex": null,
            "flex_flow": null,
            "grid_area": null,
            "grid_auto_columns": null,
            "grid_auto_flow": null,
            "grid_auto_rows": null,
            "grid_column": null,
            "grid_gap": null,
            "grid_row": null,
            "grid_template_areas": null,
            "grid_template_columns": null,
            "grid_template_rows": null,
            "height": null,
            "justify_content": null,
            "justify_items": null,
            "left": null,
            "margin": null,
            "max_height": null,
            "max_width": null,
            "min_height": null,
            "min_width": null,
            "object_fit": null,
            "object_position": null,
            "order": null,
            "overflow": null,
            "overflow_x": null,
            "overflow_y": null,
            "padding": null,
            "right": null,
            "top": null,
            "visibility": null,
            "width": null
          }
        },
        "a9feb0dea2d14dd29815d598866f6391": {
          "model_module": "@jupyter-widgets/controls",
          "model_name": "ProgressStyleModel",
          "model_module_version": "1.5.0",
          "state": {
            "_model_module": "@jupyter-widgets/controls",
            "_model_module_version": "1.5.0",
            "_model_name": "ProgressStyleModel",
            "_view_count": null,
            "_view_module": "@jupyter-widgets/base",
            "_view_module_version": "1.2.0",
            "_view_name": "StyleView",
            "bar_color": null,
            "description_width": ""
          }
        },
        "1b8e52c9a6a24d3b9791bb26f215314c": {
          "model_module": "@jupyter-widgets/base",
          "model_name": "LayoutModel",
          "model_module_version": "1.2.0",
          "state": {
            "_model_module": "@jupyter-widgets/base",
            "_model_module_version": "1.2.0",
            "_model_name": "LayoutModel",
            "_view_count": null,
            "_view_module": "@jupyter-widgets/base",
            "_view_module_version": "1.2.0",
            "_view_name": "LayoutView",
            "align_content": null,
            "align_items": null,
            "align_self": null,
            "border": null,
            "bottom": null,
            "display": null,
            "flex": null,
            "flex_flow": null,
            "grid_area": null,
            "grid_auto_columns": null,
            "grid_auto_flow": null,
            "grid_auto_rows": null,
            "grid_column": null,
            "grid_gap": null,
            "grid_row": null,
            "grid_template_areas": null,
            "grid_template_columns": null,
            "grid_template_rows": null,
            "height": null,
            "justify_content": null,
            "justify_items": null,
            "left": null,
            "margin": null,
            "max_height": null,
            "max_width": null,
            "min_height": null,
            "min_width": null,
            "object_fit": null,
            "object_position": null,
            "order": null,
            "overflow": null,
            "overflow_x": null,
            "overflow_y": null,
            "padding": null,
            "right": null,
            "top": null,
            "visibility": null,
            "width": null
          }
        },
        "8449c3331aa64a65a323547311282b98": {
          "model_module": "@jupyter-widgets/controls",
          "model_name": "DescriptionStyleModel",
          "model_module_version": "1.5.0",
          "state": {
            "_model_module": "@jupyter-widgets/controls",
            "_model_module_version": "1.5.0",
            "_model_name": "DescriptionStyleModel",
            "_view_count": null,
            "_view_module": "@jupyter-widgets/base",
            "_view_module_version": "1.2.0",
            "_view_name": "StyleView",
            "description_width": ""
          }
        },
        "a6bdbf34d97042b9b8dc768f886db40d": {
          "model_module": "@jupyter-widgets/controls",
          "model_name": "HBoxModel",
          "model_module_version": "1.5.0",
          "state": {
            "_dom_classes": [],
            "_model_module": "@jupyter-widgets/controls",
            "_model_module_version": "1.5.0",
            "_model_name": "HBoxModel",
            "_view_count": null,
            "_view_module": "@jupyter-widgets/controls",
            "_view_module_version": "1.5.0",
            "_view_name": "HBoxView",
            "box_style": "",
            "children": [
              "IPY_MODEL_f77debbd3a1247d08bc343d422dc3570",
              "IPY_MODEL_622fd9638d1b4c33b008508fd2930689",
              "IPY_MODEL_d6b7ce94858b4b8aac317dbf63425650"
            ],
            "layout": "IPY_MODEL_4565f9f97dd7458297f29c67c8a65a61"
          }
        },
        "f77debbd3a1247d08bc343d422dc3570": {
          "model_module": "@jupyter-widgets/controls",
          "model_name": "HTMLModel",
          "model_module_version": "1.5.0",
          "state": {
            "_dom_classes": [],
            "_model_module": "@jupyter-widgets/controls",
            "_model_module_version": "1.5.0",
            "_model_name": "HTMLModel",
            "_view_count": null,
            "_view_module": "@jupyter-widgets/controls",
            "_view_module_version": "1.5.0",
            "_view_name": "HTMLView",
            "description": "",
            "description_tooltip": null,
            "layout": "IPY_MODEL_2c058defbc9743e9aedb41aa15f21900",
            "placeholder": "​",
            "style": "IPY_MODEL_ec89b9f5c9b44cdd83bfc8815d844fcc",
            "value": "Epoch 49: 100%"
          }
        },
        "622fd9638d1b4c33b008508fd2930689": {
          "model_module": "@jupyter-widgets/controls",
          "model_name": "FloatProgressModel",
          "model_module_version": "1.5.0",
          "state": {
            "_dom_classes": [],
            "_model_module": "@jupyter-widgets/controls",
            "_model_module_version": "1.5.0",
            "_model_name": "FloatProgressModel",
            "_view_count": null,
            "_view_module": "@jupyter-widgets/controls",
            "_view_module_version": "1.5.0",
            "_view_name": "ProgressView",
            "bar_style": "success",
            "description": "",
            "description_tooltip": null,
            "layout": "IPY_MODEL_f5d391bb9bb14bcf908e69f2ae3697d7",
            "max": 47,
            "min": 0,
            "orientation": "horizontal",
            "style": "IPY_MODEL_565c125bc38143358e206a939a40a7fb",
            "value": 47
          }
        },
        "d6b7ce94858b4b8aac317dbf63425650": {
          "model_module": "@jupyter-widgets/controls",
          "model_name": "HTMLModel",
          "model_module_version": "1.5.0",
          "state": {
            "_dom_classes": [],
            "_model_module": "@jupyter-widgets/controls",
            "_model_module_version": "1.5.0",
            "_model_name": "HTMLModel",
            "_view_count": null,
            "_view_module": "@jupyter-widgets/controls",
            "_view_module_version": "1.5.0",
            "_view_name": "HTMLView",
            "description": "",
            "description_tooltip": null,
            "layout": "IPY_MODEL_bb22e8f949294b179396386d918ad773",
            "placeholder": "​",
            "style": "IPY_MODEL_a5868a2ae3584cfbaaf237ae9746c7ae",
            "value": " 47/47 [00:00&lt;00:00, 176.73it/s, v_num=0]"
          }
        },
        "4565f9f97dd7458297f29c67c8a65a61": {
          "model_module": "@jupyter-widgets/base",
          "model_name": "LayoutModel",
          "model_module_version": "1.2.0",
          "state": {
            "_model_module": "@jupyter-widgets/base",
            "_model_module_version": "1.2.0",
            "_model_name": "LayoutModel",
            "_view_count": null,
            "_view_module": "@jupyter-widgets/base",
            "_view_module_version": "1.2.0",
            "_view_name": "LayoutView",
            "align_content": null,
            "align_items": null,
            "align_self": null,
            "border": null,
            "bottom": null,
            "display": "inline-flex",
            "flex": null,
            "flex_flow": "row wrap",
            "grid_area": null,
            "grid_auto_columns": null,
            "grid_auto_flow": null,
            "grid_auto_rows": null,
            "grid_column": null,
            "grid_gap": null,
            "grid_row": null,
            "grid_template_areas": null,
            "grid_template_columns": null,
            "grid_template_rows": null,
            "height": null,
            "justify_content": null,
            "justify_items": null,
            "left": null,
            "margin": null,
            "max_height": null,
            "max_width": null,
            "min_height": null,
            "min_width": null,
            "object_fit": null,
            "object_position": null,
            "order": null,
            "overflow": null,
            "overflow_x": null,
            "overflow_y": null,
            "padding": null,
            "right": null,
            "top": null,
            "visibility": null,
            "width": "100%"
          }
        },
        "2c058defbc9743e9aedb41aa15f21900": {
          "model_module": "@jupyter-widgets/base",
          "model_name": "LayoutModel",
          "model_module_version": "1.2.0",
          "state": {
            "_model_module": "@jupyter-widgets/base",
            "_model_module_version": "1.2.0",
            "_model_name": "LayoutModel",
            "_view_count": null,
            "_view_module": "@jupyter-widgets/base",
            "_view_module_version": "1.2.0",
            "_view_name": "LayoutView",
            "align_content": null,
            "align_items": null,
            "align_self": null,
            "border": null,
            "bottom": null,
            "display": null,
            "flex": null,
            "flex_flow": null,
            "grid_area": null,
            "grid_auto_columns": null,
            "grid_auto_flow": null,
            "grid_auto_rows": null,
            "grid_column": null,
            "grid_gap": null,
            "grid_row": null,
            "grid_template_areas": null,
            "grid_template_columns": null,
            "grid_template_rows": null,
            "height": null,
            "justify_content": null,
            "justify_items": null,
            "left": null,
            "margin": null,
            "max_height": null,
            "max_width": null,
            "min_height": null,
            "min_width": null,
            "object_fit": null,
            "object_position": null,
            "order": null,
            "overflow": null,
            "overflow_x": null,
            "overflow_y": null,
            "padding": null,
            "right": null,
            "top": null,
            "visibility": null,
            "width": null
          }
        },
        "ec89b9f5c9b44cdd83bfc8815d844fcc": {
          "model_module": "@jupyter-widgets/controls",
          "model_name": "DescriptionStyleModel",
          "model_module_version": "1.5.0",
          "state": {
            "_model_module": "@jupyter-widgets/controls",
            "_model_module_version": "1.5.0",
            "_model_name": "DescriptionStyleModel",
            "_view_count": null,
            "_view_module": "@jupyter-widgets/base",
            "_view_module_version": "1.2.0",
            "_view_name": "StyleView",
            "description_width": ""
          }
        },
        "f5d391bb9bb14bcf908e69f2ae3697d7": {
          "model_module": "@jupyter-widgets/base",
          "model_name": "LayoutModel",
          "model_module_version": "1.2.0",
          "state": {
            "_model_module": "@jupyter-widgets/base",
            "_model_module_version": "1.2.0",
            "_model_name": "LayoutModel",
            "_view_count": null,
            "_view_module": "@jupyter-widgets/base",
            "_view_module_version": "1.2.0",
            "_view_name": "LayoutView",
            "align_content": null,
            "align_items": null,
            "align_self": null,
            "border": null,
            "bottom": null,
            "display": null,
            "flex": "2",
            "flex_flow": null,
            "grid_area": null,
            "grid_auto_columns": null,
            "grid_auto_flow": null,
            "grid_auto_rows": null,
            "grid_column": null,
            "grid_gap": null,
            "grid_row": null,
            "grid_template_areas": null,
            "grid_template_columns": null,
            "grid_template_rows": null,
            "height": null,
            "justify_content": null,
            "justify_items": null,
            "left": null,
            "margin": null,
            "max_height": null,
            "max_width": null,
            "min_height": null,
            "min_width": null,
            "object_fit": null,
            "object_position": null,
            "order": null,
            "overflow": null,
            "overflow_x": null,
            "overflow_y": null,
            "padding": null,
            "right": null,
            "top": null,
            "visibility": null,
            "width": null
          }
        },
        "565c125bc38143358e206a939a40a7fb": {
          "model_module": "@jupyter-widgets/controls",
          "model_name": "ProgressStyleModel",
          "model_module_version": "1.5.0",
          "state": {
            "_model_module": "@jupyter-widgets/controls",
            "_model_module_version": "1.5.0",
            "_model_name": "ProgressStyleModel",
            "_view_count": null,
            "_view_module": "@jupyter-widgets/base",
            "_view_module_version": "1.2.0",
            "_view_name": "StyleView",
            "bar_color": null,
            "description_width": ""
          }
        },
        "bb22e8f949294b179396386d918ad773": {
          "model_module": "@jupyter-widgets/base",
          "model_name": "LayoutModel",
          "model_module_version": "1.2.0",
          "state": {
            "_model_module": "@jupyter-widgets/base",
            "_model_module_version": "1.2.0",
            "_model_name": "LayoutModel",
            "_view_count": null,
            "_view_module": "@jupyter-widgets/base",
            "_view_module_version": "1.2.0",
            "_view_name": "LayoutView",
            "align_content": null,
            "align_items": null,
            "align_self": null,
            "border": null,
            "bottom": null,
            "display": null,
            "flex": null,
            "flex_flow": null,
            "grid_area": null,
            "grid_auto_columns": null,
            "grid_auto_flow": null,
            "grid_auto_rows": null,
            "grid_column": null,
            "grid_gap": null,
            "grid_row": null,
            "grid_template_areas": null,
            "grid_template_columns": null,
            "grid_template_rows": null,
            "height": null,
            "justify_content": null,
            "justify_items": null,
            "left": null,
            "margin": null,
            "max_height": null,
            "max_width": null,
            "min_height": null,
            "min_width": null,
            "object_fit": null,
            "object_position": null,
            "order": null,
            "overflow": null,
            "overflow_x": null,
            "overflow_y": null,
            "padding": null,
            "right": null,
            "top": null,
            "visibility": null,
            "width": null
          }
        },
        "a5868a2ae3584cfbaaf237ae9746c7ae": {
          "model_module": "@jupyter-widgets/controls",
          "model_name": "DescriptionStyleModel",
          "model_module_version": "1.5.0",
          "state": {
            "_model_module": "@jupyter-widgets/controls",
            "_model_module_version": "1.5.0",
            "_model_name": "DescriptionStyleModel",
            "_view_count": null,
            "_view_module": "@jupyter-widgets/base",
            "_view_module_version": "1.2.0",
            "_view_name": "StyleView",
            "description_width": ""
          }
        }
      }
    }
  },
  "cells": [
    {
      "cell_type": "markdown",
      "metadata": {
        "id": "view-in-github",
        "colab_type": "text"
      },
      "source": [
        "<a href=\"https://colab.research.google.com/github/shryu8902/KAERI_mini_BS/blob/main/%EC%8B%A4%EC%8A%B5%EC%9E%90%EB%A3%8C_2_1_%EC%98%A4%ED%86%A0%EC%9D%B8%EC%BD%94%EB%8D%94%EB%A5%BC_%ED%99%9C%EC%9A%A9%ED%95%9C_%EC%9D%B4%EC%83%81%ED%83%90%EC%A7%80.ipynb\" target=\"_parent\"><img src=\"https://colab.research.google.com/assets/colab-badge.svg\" alt=\"Open In Colab\"/></a>"
      ]
    },
    {
      "cell_type": "markdown",
      "metadata": {
        "id": "W6Z4b0ZI3QmX"
      },
      "source": [
        "# 오토인코더를 활용한 이상탐지 실습자료\n",
        "\n",
        "본 실습 자료에서는 오토인코더를 활용한 이상탐지 과정을 살펴보도록하겠습니다.\n",
        "\n",
        "1. MNIST 데이터를 활용한 hold-out class 이상탐지 셋팅\n",
        "2. 이상탐지를 위한 오토인코더 모델 생성 및 학습\n",
        "3. 테스트 셋에 대한 이상탐지 성능 판단\n"
      ]
    },
    {
      "cell_type": "markdown",
      "metadata": {
        "id": "hGpD6Ue73vNP"
      },
      "source": [
        "실습은 pytorch와 pytorch-lightning 라이브러리를 활용하여 진행합니다.\n",
        "\n",
        "아래의 코드 블록을 실행시키면서 결과를 확인할 수 있습니다.\n",
        "\n",
        "MNIST 데이터 셋으로부터 0을 정상으로, 나머지 1 ~ 9를 비정상으로 가정할 것입니다.\n",
        "오토인코더 모델을 학습하고, AUROC 계산까지 수행해 보도록하겟습니다.\n"
      ]
    },
    {
      "cell_type": "markdown",
      "metadata": {
        "id": "Ypnn7AJ_kVi7"
      },
      "source": [
        "### 라이브러리 준비\n",
        "\n",
        "먼저 아래의 코드를 통해 필요 라이브러리를 불러옵니다."
      ]
    },
    {
      "cell_type": "code",
      "metadata": {
        "colab": {
          "base_uri": "https://localhost:8080/"
        },
        "id": "_S4oLW4y5O64",
        "outputId": "32a2f7c0-7179-4a59-d19e-1cdb294d9c2f"
      },
      "source": [
        "!pip install pytorch-lightning\n",
        "import numpy as np\n",
        "import pandas as pd\n",
        "import matplotlib.pyplot as plt\n",
        "import torch\n",
        "import pytorch_lightning as pl\n",
        "from pytorch_lightning.callbacks import EarlyStopping\n",
        "from torch.utils.data import DataLoader, random_split, TensorDataset\n",
        "from torchvision import transforms \n",
        "from torchvision.datasets import MNIST\n",
        "import os"
      ],
      "execution_count": null,
      "outputs": [
        {
          "output_type": "stream",
          "name": "stdout",
          "text": [
            "Looking in indexes: https://pypi.org/simple, https://us-python.pkg.dev/colab-wheels/public/simple/\n",
            "Collecting pytorch-lightning\n",
            "  Downloading pytorch_lightning-2.0.1-py3-none-any.whl (716 kB)\n",
            "\u001b[2K     \u001b[90m━━━━━━━━━━━━━━━━━━━━━━━━━━━━━━━━━━━━━━━\u001b[0m \u001b[32m716.4/716.4 KB\u001b[0m \u001b[31m7.3 MB/s\u001b[0m eta \u001b[36m0:00:00\u001b[0m\n",
            "\u001b[?25hRequirement already satisfied: fsspec[http]>2021.06.0 in /usr/local/lib/python3.9/dist-packages (from pytorch-lightning) (2023.3.0)\n",
            "Requirement already satisfied: PyYAML>=5.4 in /usr/local/lib/python3.9/dist-packages (from pytorch-lightning) (6.0)\n",
            "Collecting torchmetrics>=0.7.0\n",
            "  Downloading torchmetrics-0.11.4-py3-none-any.whl (519 kB)\n",
            "\u001b[2K     \u001b[90m━━━━━━━━━━━━━━━━━━━━━━━━━━━━━━━━━━━━━━\u001b[0m \u001b[32m519.2/519.2 KB\u001b[0m \u001b[31m27.5 MB/s\u001b[0m eta \u001b[36m0:00:00\u001b[0m\n",
            "\u001b[?25hRequirement already satisfied: tqdm>=4.57.0 in /usr/local/lib/python3.9/dist-packages (from pytorch-lightning) (4.65.0)\n",
            "Requirement already satisfied: numpy>=1.17.2 in /usr/local/lib/python3.9/dist-packages (from pytorch-lightning) (1.22.4)\n",
            "Collecting lightning-utilities>=0.7.0\n",
            "  Downloading lightning_utilities-0.8.0-py3-none-any.whl (20 kB)\n",
            "Requirement already satisfied: packaging>=17.1 in /usr/local/lib/python3.9/dist-packages (from pytorch-lightning) (23.0)\n",
            "Requirement already satisfied: torch>=1.11.0 in /usr/local/lib/python3.9/dist-packages (from pytorch-lightning) (1.13.1+cu116)\n",
            "Requirement already satisfied: typing-extensions>=4.0.0 in /usr/local/lib/python3.9/dist-packages (from pytorch-lightning) (4.5.0)\n",
            "Collecting aiohttp!=4.0.0a0,!=4.0.0a1\n",
            "  Downloading aiohttp-3.8.4-cp39-cp39-manylinux_2_17_x86_64.manylinux2014_x86_64.whl (1.0 MB)\n",
            "\u001b[2K     \u001b[90m━━━━━━━━━━━━━━━━━━━━━━━━━━━━━━━━━━━━━━━━\u001b[0m \u001b[32m1.0/1.0 MB\u001b[0m \u001b[31m67.3 MB/s\u001b[0m eta \u001b[36m0:00:00\u001b[0m\n",
            "\u001b[?25hRequirement already satisfied: requests in /usr/local/lib/python3.9/dist-packages (from fsspec[http]>2021.06.0->pytorch-lightning) (2.27.1)\n",
            "Collecting frozenlist>=1.1.1\n",
            "  Downloading frozenlist-1.3.3-cp39-cp39-manylinux_2_5_x86_64.manylinux1_x86_64.manylinux_2_17_x86_64.manylinux2014_x86_64.whl (158 kB)\n",
            "\u001b[2K     \u001b[90m━━━━━━━━━━━━━━━━━━━━━━━━━━━━━━━━━━━━━━\u001b[0m \u001b[32m158.8/158.8 KB\u001b[0m \u001b[31m21.3 MB/s\u001b[0m eta \u001b[36m0:00:00\u001b[0m\n",
            "\u001b[?25hCollecting multidict<7.0,>=4.5\n",
            "  Downloading multidict-6.0.4-cp39-cp39-manylinux_2_17_x86_64.manylinux2014_x86_64.whl (114 kB)\n",
            "\u001b[2K     \u001b[90m━━━━━━━━━━━━━━━━━━━━━━━━━━━━━━━━━━━━━━━\u001b[0m \u001b[32m114.2/114.2 KB\u001b[0m \u001b[31m1.3 MB/s\u001b[0m eta \u001b[36m0:00:00\u001b[0m\n",
            "\u001b[?25hCollecting aiosignal>=1.1.2\n",
            "  Downloading aiosignal-1.3.1-py3-none-any.whl (7.6 kB)\n",
            "Requirement already satisfied: attrs>=17.3.0 in /usr/local/lib/python3.9/dist-packages (from aiohttp!=4.0.0a0,!=4.0.0a1->fsspec[http]>2021.06.0->pytorch-lightning) (22.2.0)\n",
            "Collecting async-timeout<5.0,>=4.0.0a3\n",
            "  Downloading async_timeout-4.0.2-py3-none-any.whl (5.8 kB)\n",
            "Collecting yarl<2.0,>=1.0\n",
            "  Downloading yarl-1.8.2-cp39-cp39-manylinux_2_17_x86_64.manylinux2014_x86_64.whl (264 kB)\n",
            "\u001b[2K     \u001b[90m━━━━━━━━━━━━━━━━━━━━━━━━━━━━━━━━━━━━━━\u001b[0m \u001b[32m264.6/264.6 KB\u001b[0m \u001b[31m32.3 MB/s\u001b[0m eta \u001b[36m0:00:00\u001b[0m\n",
            "\u001b[?25hRequirement already satisfied: charset-normalizer<4.0,>=2.0 in /usr/local/lib/python3.9/dist-packages (from aiohttp!=4.0.0a0,!=4.0.0a1->fsspec[http]>2021.06.0->pytorch-lightning) (2.0.12)\n",
            "Requirement already satisfied: certifi>=2017.4.17 in /usr/local/lib/python3.9/dist-packages (from requests->fsspec[http]>2021.06.0->pytorch-lightning) (2022.12.7)\n",
            "Requirement already satisfied: urllib3<1.27,>=1.21.1 in /usr/local/lib/python3.9/dist-packages (from requests->fsspec[http]>2021.06.0->pytorch-lightning) (1.26.15)\n",
            "Requirement already satisfied: idna<4,>=2.5 in /usr/local/lib/python3.9/dist-packages (from requests->fsspec[http]>2021.06.0->pytorch-lightning) (3.4)\n",
            "Installing collected packages: multidict, lightning-utilities, frozenlist, async-timeout, yarl, torchmetrics, aiosignal, aiohttp, pytorch-lightning\n",
            "Successfully installed aiohttp-3.8.4 aiosignal-1.3.1 async-timeout-4.0.2 frozenlist-1.3.3 lightning-utilities-0.8.0 multidict-6.0.4 pytorch-lightning-2.0.1 torchmetrics-0.11.4 yarl-1.8.2\n"
          ]
        }
      ]
    },
    {
      "cell_type": "markdown",
      "metadata": {
        "id": "wb8RPMgSj6ng"
      },
      "source": [
        "### MNIST 데이터셋 준비\n",
        "\n",
        "라이브러리 내장 함수를 활용해서 MNIST 데이터셋을 다운로드하고 이상탐지 실습을 위한 데이터셋을 구성합니다."
      ]
    },
    {
      "cell_type": "code",
      "metadata": {
        "colab": {
          "base_uri": "https://localhost:8080/",
          "height": 431,
          "referenced_widgets": [
            "a32f1b5275f8428e963581eef61985cd",
            "cf0497cbb47d4ef49cfc1bf28383dc2f",
            "9bf6abf0e86545639bc056d55a6ea241",
            "dd8d94d13d0d47119fe4a994f793fde2",
            "c82b5fb5831048fc9cab124b6587d241",
            "bc4ee721780c4e4f940ddbb622e93041",
            "ef1f6f646a484d47adace36783348a17",
            "2aaded506a1a49659e05872494a21e2e",
            "16db792b0ca043cc9d917938244e5d8d",
            "c1aa94b71af54513b5ad0559a24a7207",
            "1db9237fd7e74b01a04fe46b55745c4e",
            "0cd7844a246c4d8296afc1d5a771caf0",
            "23d84732bb6d4bd19c326ca1cdf8b8a1",
            "4f49e35dbd6d48cdabf62fc59ec4855c",
            "92c182fda9ba4a38aed6f4c02ea01a6d",
            "5e81d3c4db474ca4a36808e2d3f324ad",
            "210d405f55bc4f8bb200919e27af97e5",
            "c047e0d264cc45aea468773dd39584d3",
            "4c8f130b48734ca6b355eb78bf8e6c08",
            "ff5a2e497e1242aaad158f624eeb918b",
            "1cb742dc91dc4165bed7c85b7e031e9f",
            "8177aa93d5bc478db9926f0120e93d5c",
            "f7f436f610c4418293ed169fd4fa8b76",
            "ca50111d2c7c402a85777c0010d00010",
            "63d337c7bf074ca9869bf1aa08615ab9",
            "2e265f1864f64b629fa5953ef3df6e3b",
            "75c59ccc6ec94dd5a902b14a11cd22d5",
            "9bddc5a5dfba4371a88ced00b0f31d3e",
            "efee1864289448378732b60f95318e84",
            "d6f646fcfc484eaba776a2a2f5d668bb",
            "be750edb81de45bebeccaad6c085060b",
            "ccb6c550dbad48f88ff7f15207b901b9",
            "c822de2b4788448dbc2aa62ee90cbae4",
            "42851dd2ac8c4d7199ad4b7b8df41656",
            "331711cf954b4da2a4be00cac461276e",
            "5595fc9b185849a984b54a86bc5dd284",
            "c4c627dd8b9b426da98471c20954f778",
            "ecd115d0b7c2432d911e2c8bc7ccdfc7",
            "dc6064c5bbab47fc84d44f78439ab4b0",
            "1d696bc9496c473eb76ea7b4ab072c82",
            "0af27d5ed2864dcf9c7b7c413cf3d4a6",
            "a9feb0dea2d14dd29815d598866f6391",
            "1b8e52c9a6a24d3b9791bb26f215314c",
            "8449c3331aa64a65a323547311282b98"
          ]
        },
        "id": "FPd6Ja5IZeox",
        "outputId": "fb9c1d63-b09d-4546-c843-daac41c981c6"
      },
      "source": [
        "dataset_train = MNIST('', train=True, download=True, transform=transforms.ToTensor())\n",
        "dataset_test = MNIST('',train=False, download=True, transform=transforms.ToTensor())"
      ],
      "execution_count": null,
      "outputs": [
        {
          "output_type": "stream",
          "name": "stdout",
          "text": [
            "Downloading http://yann.lecun.com/exdb/mnist/train-images-idx3-ubyte.gz\n",
            "Downloading http://yann.lecun.com/exdb/mnist/train-images-idx3-ubyte.gz to MNIST/raw/train-images-idx3-ubyte.gz\n"
          ]
        },
        {
          "output_type": "display_data",
          "data": {
            "text/plain": [
              "  0%|          | 0/9912422 [00:00<?, ?it/s]"
            ],
            "application/vnd.jupyter.widget-view+json": {
              "version_major": 2,
              "version_minor": 0,
              "model_id": "a32f1b5275f8428e963581eef61985cd"
            }
          },
          "metadata": {}
        },
        {
          "output_type": "stream",
          "name": "stdout",
          "text": [
            "Extracting MNIST/raw/train-images-idx3-ubyte.gz to MNIST/raw\n",
            "\n",
            "Downloading http://yann.lecun.com/exdb/mnist/train-labels-idx1-ubyte.gz\n",
            "Downloading http://yann.lecun.com/exdb/mnist/train-labels-idx1-ubyte.gz to MNIST/raw/train-labels-idx1-ubyte.gz\n"
          ]
        },
        {
          "output_type": "display_data",
          "data": {
            "text/plain": [
              "  0%|          | 0/28881 [00:00<?, ?it/s]"
            ],
            "application/vnd.jupyter.widget-view+json": {
              "version_major": 2,
              "version_minor": 0,
              "model_id": "0cd7844a246c4d8296afc1d5a771caf0"
            }
          },
          "metadata": {}
        },
        {
          "output_type": "stream",
          "name": "stdout",
          "text": [
            "Extracting MNIST/raw/train-labels-idx1-ubyte.gz to MNIST/raw\n",
            "\n",
            "Downloading http://yann.lecun.com/exdb/mnist/t10k-images-idx3-ubyte.gz\n",
            "Downloading http://yann.lecun.com/exdb/mnist/t10k-images-idx3-ubyte.gz to MNIST/raw/t10k-images-idx3-ubyte.gz\n"
          ]
        },
        {
          "output_type": "display_data",
          "data": {
            "text/plain": [
              "  0%|          | 0/1648877 [00:00<?, ?it/s]"
            ],
            "application/vnd.jupyter.widget-view+json": {
              "version_major": 2,
              "version_minor": 0,
              "model_id": "f7f436f610c4418293ed169fd4fa8b76"
            }
          },
          "metadata": {}
        },
        {
          "output_type": "stream",
          "name": "stdout",
          "text": [
            "Extracting MNIST/raw/t10k-images-idx3-ubyte.gz to MNIST/raw\n",
            "\n",
            "Downloading http://yann.lecun.com/exdb/mnist/t10k-labels-idx1-ubyte.gz\n",
            "Downloading http://yann.lecun.com/exdb/mnist/t10k-labels-idx1-ubyte.gz to MNIST/raw/t10k-labels-idx1-ubyte.gz\n"
          ]
        },
        {
          "output_type": "display_data",
          "data": {
            "text/plain": [
              "  0%|          | 0/4542 [00:00<?, ?it/s]"
            ],
            "application/vnd.jupyter.widget-view+json": {
              "version_major": 2,
              "version_minor": 0,
              "model_id": "42851dd2ac8c4d7199ad4b7b8df41656"
            }
          },
          "metadata": {}
        },
        {
          "output_type": "stream",
          "name": "stdout",
          "text": [
            "Extracting MNIST/raw/t10k-labels-idx1-ubyte.gz to MNIST/raw\n",
            "\n"
          ]
        }
      ]
    },
    {
      "cell_type": "markdown",
      "metadata": {
        "id": "SIxR1ZMqkCNC"
      },
      "source": [
        "각 데이터셋을 프린트해보면 데이터셋 구성에 대한 설명을 확인할 수 있습니다.\n",
        "\n",
        " train, test데이터가 각각 60000개, 10000개로 구성되어있는 것을 확인할 수 있습니다."
      ]
    },
    {
      "cell_type": "code",
      "metadata": {
        "colab": {
          "base_uri": "https://localhost:8080/"
        },
        "id": "ULtguC0mkBa4",
        "outputId": "a65fb790-7db0-4385-d128-4a08c29ac39e"
      },
      "source": [
        "print(dataset_train)\n",
        "print(dataset_test)"
      ],
      "execution_count": null,
      "outputs": [
        {
          "output_type": "stream",
          "name": "stdout",
          "text": [
            "Dataset MNIST\n",
            "    Number of datapoints: 60000\n",
            "    Root location: \n",
            "    Split: Train\n",
            "    StandardTransform\n",
            "Transform: ToTensor()\n",
            "Dataset MNIST\n",
            "    Number of datapoints: 10000\n",
            "    Root location: \n",
            "    Split: Test\n",
            "    StandardTransform\n",
            "Transform: ToTensor()\n"
          ]
        }
      ]
    },
    {
      "cell_type": "markdown",
      "metadata": {
        "id": "h248yj6wkRSz"
      },
      "source": [
        "다음으로 이상탐지를 위한 hold-out class detection으로 데이터를 재구성하겠습니다.\n",
        "\n",
        "0을 정상데이터로, 그외 클래스 (1~9)는 비정상데이터로 가정할 것입니다.\n",
        "\n",
        "테스트셋 내의 정상 데이터 (0인 데이터)의 수가 980개이므로, 비정상 테스트셋의 수를 동일하게 맞추도록 하겠습니다.\n",
        "\n",
        "코드 수행 결과 정상 학습 입력데이터, 정상 테스트 입력 데이터, 비정상 테스트 입력 데이터를 생성합니다."
      ]
    },
    {
      "cell_type": "code",
      "metadata": {
        "colab": {
          "base_uri": "https://localhost:8080/"
        },
        "id": "2RPCT5DyZudy",
        "outputId": "7e8714aa-4199-4d25-f9b5-5140324dfd1a"
      },
      "source": [
        "NORMAL_CLASS = 0 # 정상 클래스 label을 0으로\n",
        "normal_train_input = dataset_train.data[dataset_train.targets == NORMAL_CLASS]/256 #학습 데이터셋 내 0인 데이터를 정상 학습 데이터셋으로 + 데이터 정규화\n",
        "normal_test_input = dataset_test.data[dataset_test.targets == NORMAL_CLASS]/256 #테스트 데이터셋 내 0인 데이터를 정상 테스트 데이터셋으로 + 데이터 정규화\n",
        "abnormal_test_input = dataset_test.data[dataset_test.targets != NORMAL_CLASS][:980]/256 #테스트 데이터셋 내 0 외 데이터를 비정상 테스트 데이터셋으로 + 데이터 정규화\n",
        "print(len(normal_train_input))\n",
        "print(len(normal_test_input))\n",
        "print(len(abnormal_test_input))"
      ],
      "execution_count": null,
      "outputs": [
        {
          "output_type": "stream",
          "name": "stdout",
          "text": [
            "5923\n",
            "980\n",
            "980\n"
          ]
        }
      ]
    },
    {
      "cell_type": "markdown",
      "metadata": {
        "id": "2ULklPJ_lbvk"
      },
      "source": [
        "학습 정상 데이터와 테스트 비정상 데이터에 대한 샘플들을 그려보도록하겠습니다."
      ]
    },
    {
      "cell_type": "code",
      "metadata": {
        "colab": {
          "base_uri": "https://localhost:8080/",
          "height": 352
        },
        "id": "-5dryeT7aWg8",
        "outputId": "7d791208-ed5d-4f71-963c-41ea1dc2ab0e"
      },
      "source": [
        "for i in range(10):\n",
        "    plt.subplot(2,5, i+1)\n",
        "    plt.imshow(normal_train_input[i,...], cmap=plt.cm.gray_r)\n",
        "plt.tight_layout()"
      ],
      "execution_count": null,
      "outputs": [
        {
          "output_type": "display_data",
          "data": {
            "text/plain": [
              "<Figure size 640x480 with 10 Axes>"
            ],
            "image/png": "[encoded data removed]"
          },
          "metadata": {}
        }
      ]
    },
    {
      "cell_type": "code",
      "metadata": {
        "colab": {
          "base_uri": "https://localhost:8080/",
          "height": 352
        },
        "id": "NCQX3JPhhOSP",
        "outputId": "2dc71c8f-e3cf-425b-fede-278c012a37f2"
      },
      "source": [
        "for i in range(10):\n",
        "    plt.subplot(2,5, i+1)\n",
        "    plt.imshow(abnormal_test_input[i,...], cmap=plt.cm.gray_r)\n",
        "plt.tight_layout()"
      ],
      "execution_count": null,
      "outputs": [
        {
          "output_type": "display_data",
          "data": {
            "text/plain": [
              "<Figure size 640x480 with 10 Axes>"
            ],
            "image/png": "[encoded data removed]"
          },
          "metadata": {}
        }
      ]
    },
    {
      "cell_type": "markdown",
      "source": [
        "입력 데이터의 형태를 살펴보겠습니다.\n",
        "그레이 스케일 데이터이기 때문에 [H,W] 의 shape을 가지고 있습니다."
      ],
      "metadata": {
        "id": "Ev2EK5sELZdT"
      }
    },
    {
      "cell_type": "code",
      "source": [
        "abnormal_test_input[0,...].shape"
      ],
      "metadata": {
        "colab": {
          "base_uri": "https://localhost:8080/"
        },
        "id": "eQp6s2edLUNq",
        "outputId": "7b490b7a-f6ac-4836-da56-5d874895cc23"
      },
      "execution_count": null,
      "outputs": [
        {
          "output_type": "execute_result",
          "data": {
            "text/plain": [
              "torch.Size([28, 28])"
            ]
          },
          "metadata": {},
          "execution_count": 8
        }
      ]
    },
    {
      "cell_type": "markdown",
      "metadata": {
        "id": "MRhIInIYeOeN"
      },
      "source": [
        "## 딥러닝 모델 만들기\n",
        "\n",
        "파이토치 라이트닝 모듈로  간단한 오토인코더 모델을 구현해보도록하겠습니다.\n",
        "파이토치 라이트닝은 파이토치에 대한 high-level interface를 제공하여 쉽게 모델 개발 및 학습을 할 수 있도록 도와줍니다.\n",
        "\n",
        "\n",
        "파이토치 라이트닝 모델은 딥러닝 모델을 정의하고, 라이트닝 모델 내에서 training, validation, test, predict 수행 내용들을 정의하면 라이브러리에서 제공하는 trainer를 통해 keras와 유사하게 fit,predict function 들을 통해 모델을 활용할 수 있습니다.\n",
        "\n",
        "\n",
        "오토인코더는 가장 기본적인 fully connected layer를 활용하였습니다.\n",
        "\n",
        "- 입력 : x\n",
        "- 출력 : x'\n",
        "- 모델 구조 :Input - Dense(256)-LReLU-Dense(64)-LReLU-Dense(256)-LReLU-Dense(784)\n",
        "- optimizer : Adam\n",
        "- Learning rate : 1e-3\n",
        "- epcoh : 50\n",
        "- batch size : 128\n",
        "\n"
      ]
    },
    {
      "cell_type": "code",
      "metadata": {
        "id": "mgKjEYjfeR-F"
      },
      "source": [
        "from torch import nn\n",
        "from torch.nn import functional as F\n",
        "class SimpleAE(pl.LightningModule):\n",
        "    def __init__(self):\n",
        "        super().__init__()\n",
        "\n",
        "        # 문제 1. 원하는 모델을 만들어보세요\n",
        "        self.autoencoder = \n",
        "        \n",
        "    def forward(self, x):\n",
        "        # 모델의 forward path를 정의합니다.\n",
        "        # 오토인코더가 출력으로 복원 결과와 샘플별 mean squared error를 출력하도록 구성하였습니다.\n",
        "        # 결과적으로 mean sqaured error를 이상점수로서 활용할 것입니다.\n",
        "        # 문제 2. 포워드 패스에서 모델의 출력값 (28*28 차원 벡터)와 복원 오차 점수를 동시에 출력하도록 구성해보세요.\n",
        "        return output.view(*(x.size())), mse\n",
        "\n",
        "    def configure_optimizers(self):\n",
        "        optimizer = torch.optim.Adam(self.parameters(), lr=1e-3) # 학습에 사용할 optimizer를 정의합니다.\n",
        "        # learning rate scheduler 등을 활용하고 싶다면 다음의 주석 코드로 변경하여 사용 할 수 있습니다. (validation 로더가 필요)\n",
        "        # lr_scheduler = torch.optim.lr_scheduler.ReduceLROnPlateau(optimizer, mode='min', factor = 0.2, patience = 10, min_lr = 5e-5)\n",
        "        # return {\"optimizer\":optimizer, \"lr_scheduler\":lr_scheduler, \"monitor\":\"val_loss\"}\n",
        "        return optimizer\n",
        "\n",
        "    def training_step(self, batch, batch_idx):\n",
        "        # training loop에서 수행할 내용을 정의합니다. 입력 배치가 input, output의 tuple로 들어오므로 input 데이터만 사용합니다.\n",
        "        x = batch[0]\n",
        "        x_label = x.view(-1,28*28) # 앞서 살펴본 데이터의 쉐잎이 [28,28]인 매트릭스 였는데 이를 벡터로 바꿔줍니다.\n",
        "        output = self.autoencoder(x)\n",
        "        loss = F.mse_loss(output, x_label)\n",
        "        self.log('train_loss', loss)\n",
        "        return loss\n",
        "\n",
        "    def validation_step(self, batch, batch_idx):\n",
        "        # validation loop에서 수행할 내용을 정의합니다. 마찬가지로 test loop에서 수행할 내용은 test_step에서 정의하여 사용할 수 있습니다.\n",
        "        # 자세한 내용은 pytorch lightining documentation을 참고하시면 됩니다.\n",
        "        x = batch[0]\n",
        "        x_label = x.view(-1,28*28)\n",
        "        output = self.autoencoder(x)\n",
        "        loss = F.mse_loss(output, x_label)\n",
        "        self.log('val_loss', loss)\n"
      ],
      "execution_count": null,
      "outputs": []
    },
    {
      "cell_type": "markdown",
      "metadata": {
        "id": "9oQh4hUwnmZh"
      },
      "source": [
        "### 학습데이터셋 준비\n",
        "\n",
        "MNIST 데이터셋을 재구성 학습하기때문에 학습용 데이터셋을 다시 구성하고 로더를 만듭니다."
      ]
    },
    {
      "cell_type": "code",
      "metadata": {
        "id": "n6EGvs9nf1tL"
      },
      "source": [
        "training_set = TensorDataset(normal_train_input)\n",
        "train_loader = DataLoader(training_set, batch_size = 128)"
      ],
      "execution_count": null,
      "outputs": []
    },
    {
      "cell_type": "markdown",
      "metadata": {
        "id": "YVieSYmKn0BD"
      },
      "source": [
        "### 모델 학습\n",
        "\n",
        "준비된 데이터로부터 모델 학습을 시작해보도록 하겠습니다.\n",
        "\n",
        "앞서 정의한 파이토치 라이트닝 모델 클래스를 통해 오토인코더를 학습합니다.\n",
        "트레이너를 선언하고 fit function에 대상 모델과 데이터로더를 넣어주면 keras와 유사하게 모델 학습이 진행되는 것을 확인 할 수 있습니다."
      ]
    },
    {
      "cell_type": "code",
      "metadata": {
        "colab": {
          "base_uri": "https://localhost:8080/",
          "height": 426,
          "referenced_widgets": [
            "a6bdbf34d97042b9b8dc768f886db40d",
            "f77debbd3a1247d08bc343d422dc3570",
            "622fd9638d1b4c33b008508fd2930689",
            "d6b7ce94858b4b8aac317dbf63425650",
            "4565f9f97dd7458297f29c67c8a65a61",
            "2c058defbc9743e9aedb41aa15f21900",
            "ec89b9f5c9b44cdd83bfc8815d844fcc",
            "f5d391bb9bb14bcf908e69f2ae3697d7",
            "565c125bc38143358e206a939a40a7fb",
            "bb22e8f949294b179396386d918ad773",
            "a5868a2ae3584cfbaaf237ae9746c7ae"
          ]
        },
        "id": "gl21haB9gCmc",
        "outputId": "f6a2b802-7e4d-4c45-b850-062e5ae49cca"
      },
      "source": [
        "AE = SimpleAE()\n",
        "\n",
        "trainer = pl.Trainer(max_epochs = 50)\n",
        "trainer.fit(AE, train_loader)"
      ],
      "execution_count": null,
      "outputs": [
        {
          "output_type": "stream",
          "name": "stderr",
          "text": [
            "INFO:pytorch_lightning.utilities.rank_zero:GPU available: True (cuda), used: True\n",
            "INFO:pytorch_lightning.utilities.rank_zero:TPU available: False, using: 0 TPU cores\n",
            "INFO:pytorch_lightning.utilities.rank_zero:IPU available: False, using: 0 IPUs\n",
            "INFO:pytorch_lightning.utilities.rank_zero:HPU available: False, using: 0 HPUs\n",
            "/usr/local/lib/python3.9/dist-packages/pytorch_lightning/trainer/configuration_validator.py:72: PossibleUserWarning: You defined a `validation_step` but have no `val_dataloader`. Skipping val loop.\n",
            "  rank_zero_warn(\n",
            "WARNING:pytorch_lightning.loggers.tensorboard:Missing logger folder: /content/lightning_logs\n",
            "INFO:pytorch_lightning.accelerators.cuda:LOCAL_RANK: 0 - CUDA_VISIBLE_DEVICES: [0]\n",
            "INFO:pytorch_lightning.callbacks.model_summary:\n",
            "  | Name        | Type       | Params\n",
            "-------------------------------------------\n",
            "0 | autoencoder | Sequential | 435 K \n",
            "-------------------------------------------\n",
            "435 K     Trainable params\n",
            "0         Non-trainable params\n",
            "435 K     Total params\n",
            "1.742     Total estimated model params size (MB)\n",
            "/usr/local/lib/python3.9/dist-packages/pytorch_lightning/loops/fit_loop.py:280: PossibleUserWarning: The number of training batches (47) is smaller than the logging interval Trainer(log_every_n_steps=50). Set a lower value for log_every_n_steps if you want to see logs for the training epoch.\n",
            "  rank_zero_warn(\n"
          ]
        },
        {
          "output_type": "display_data",
          "data": {
            "text/plain": [
              "Training: 0it [00:00, ?it/s]"
            ],
            "application/vnd.jupyter.widget-view+json": {
              "version_major": 2,
              "version_minor": 0,
              "model_id": "a6bdbf34d97042b9b8dc768f886db40d"
            }
          },
          "metadata": {}
        },
        {
          "output_type": "stream",
          "name": "stderr",
          "text": [
            "INFO:pytorch_lightning.utilities.rank_zero:`Trainer.fit` stopped: `max_epochs=50` reached.\n"
          ]
        }
      ]
    },
    {
      "cell_type": "markdown",
      "metadata": {
        "id": "695wVYbUn9tz"
      },
      "source": [
        "## 학습결과확인\n",
        "\n",
        "이전 함수를 살펴보면 forward 함수에서 복원값과 샘플별 이상점수(mse)를 함께 출력하도록 구성하였습니다.\n",
        "\n",
        "**정상** 테스트 데이터와 비정상 테스트 데이터 샘플을 통해 모델 결과를 살펴보도록하겠습니다."
      ]
    },
    {
      "cell_type": "code",
      "metadata": {
        "id": "aOj1gc9QlxWn"
      },
      "source": [
        "recon_normal, score_normal = AE(normal_test_input)\n",
        "recon_abnormal, score_abnormal = AE(abnormal_test_input)"
      ],
      "execution_count": null,
      "outputs": []
    },
    {
      "cell_type": "markdown",
      "metadata": {
        "id": "dLCBMezAofNK"
      },
      "source": [
        "### 정상 테스트 데이터\n",
        "\n",
        "먼저 정상 테스트 데이터의 샘플 결과입니다.\n",
        "\n",
        "상단이 실제 입력데이터, 하단이 복원값에 해당합니다."
      ]
    },
    {
      "cell_type": "code",
      "metadata": {
        "colab": {
          "base_uri": "https://localhost:8080/",
          "height": 352
        },
        "id": "AXnUXZ6tl_vj",
        "outputId": "68b5df80-3ecb-4abf-af69-6c05592f3b19"
      },
      "source": [
        "for i in range(10):\n",
        "    plt.subplot(2,5, i+1)\n",
        "    if i < 5:\n",
        "        plt.imshow(normal_test_input[i,...], cmap=plt.cm.gray_r)\n",
        "    else:\n",
        "        plt.imshow(recon_normal[i,...].detach().numpy(), cmap=plt.cm.gray_r)\n",
        "plt.tight_layout()"
      ],
      "execution_count": null,
      "outputs": [
        {
          "output_type": "display_data",
          "data": {
            "text/plain": [
              "<Figure size 640x480 with 10 Axes>"
            ],
            "image/png": "[encoded data removed]"
          },
          "metadata": {}
        }
      ]
    },
    {
      "cell_type": "markdown",
      "metadata": {
        "id": "dx1AkJgconYh"
      },
      "source": [
        "### 비정상 테스트 데이터\n",
        "\n",
        "비정상 테스트 데이터의 샘플결과입니다.\n",
        "\n",
        "마찬가지로 상단이 실제 입력 데이터, 하단이 복원값이며,  \n",
        "0을 제외한 데이터로 학습이 되지않았기때문에 복원이 이상하게 되는 것을 확인할 수 있습니다."
      ]
    },
    {
      "cell_type": "code",
      "metadata": {
        "colab": {
          "base_uri": "https://localhost:8080/",
          "height": 352
        },
        "id": "QDztgGvEnIxR",
        "outputId": "fa75a0e4-eda9-4bcb-fb99-8eb911a4eeb2"
      },
      "source": [
        "for i in range(10):\n",
        "    plt.subplot(2,5, i+1)\n",
        "    if i < 5:\n",
        "        plt.imshow(abnormal_test_input[i,...], cmap=plt.cm.gray_r)\n",
        "    else:\n",
        "        plt.imshow(recon_abnormal[i,...].detach().numpy(), cmap=plt.cm.gray_r)\n",
        "plt.tight_layout()"
      ],
      "execution_count": null,
      "outputs": [
        {
          "output_type": "display_data",
          "data": {
            "text/plain": [
              "<Figure size 640x480 with 10 Axes>"
            ],
            "image/png": "[encoded data removed]"
          },
          "metadata": {}
        }
      ]
    },
    {
      "cell_type": "markdown",
      "metadata": {
        "id": "Fg_7rOnvozCi"
      },
      "source": [
        "## 성능 평가\n",
        "\n",
        "모델로부터 확보한 이상점수를 기반으로 성능평가지표를 계산해보도록하겠습니다."
      ]
    },
    {
      "cell_type": "markdown",
      "source": [
        "### ROC curve 와 AUROC\n",
        "\n",
        "먼저 ROC curve를 그리고 AUROC를 계산해보도록 하겠습니다.\n",
        "\n",
        "먼저 all_score는 정상, 비정상 테스트셋에 대한 이상점수입니다.\n",
        "이상점수로는 복원오차인 mean squared error를 사용하였습니다.\n",
        "\n",
        "all_label은 hold-out setting에 따른 정상/비정상 레이블입니다.\n",
        "정상 데이터는 0으로, 비정상 데이터는 1로 레이블링합니다."
      ],
      "metadata": {
        "id": "oeUbafKiOqyq"
      }
    },
    {
      "cell_type": "code",
      "metadata": {
        "id": "dRbOlpMzn0po"
      },
      "source": [
        "all_score = np.concatenate([score_normal.detach().numpy(),score_abnormal.detach().numpy()])\n",
        "all_label = np.concatenate([np.zeros(980),np.ones(980)]) # 정상 테스트 데이터 980개, 비정상 테스트 데이터 980개에 대한 정상/비정상 레이블"
      ],
      "execution_count": null,
      "outputs": []
    },
    {
      "cell_type": "code",
      "metadata": {
        "colab": {
          "base_uri": "https://localhost:8080/"
        },
        "id": "5CMHdj4VoSmX",
        "outputId": "f40c7b3f-9079-450f-94dc-bad0969e78e1"
      },
      "source": [
        "all_label"
      ],
      "execution_count": null,
      "outputs": [
        {
          "output_type": "execute_result",
          "data": {
            "text/plain": [
              "array([0., 0., 0., ..., 1., 1., 1.])"
            ]
          },
          "metadata": {},
          "execution_count": 16
        }
      ]
    },
    {
      "cell_type": "markdown",
      "metadata": {
        "id": "rFsb9ZFGpOMM"
      },
      "source": [
        "Scikit-learn 내장 합수를 통해 fpr, tpr, auroc를 계산합니다."
      ]
    },
    {
      "cell_type": "code",
      "metadata": {
        "colab": {
          "base_uri": "https://localhost:8080/",
          "height": 490
        },
        "id": "qBJTieQQnZua",
        "outputId": "853fe0da-34b9-4462-ba2c-1c43bf96be87"
      },
      "source": [
        "from sklearn import metrics\n",
        "\n",
        "def plot_roc_curve(fpr, tpr):\n",
        "    plt.plot(fpr, tpr, color='red', label='ROC')\n",
        "    plt.plot([0, 1], [0, 1], color='green', linestyle='--')\n",
        "    plt.xlabel('False Positive Rate')\n",
        "    plt.ylabel('True Positive Rate')\n",
        "    plt.title('Receiver Operating Characteristic Curve')\n",
        "    plt.legend()\n",
        "    plt.show()\n",
        "    auc = metrics.auc(fpr, tpr)\n",
        "    print('AUC : {}'.format(auc))\n",
        "\n",
        "fpr, tpr, thresh = metrics.roc_curve(all_label, all_score)\n",
        "plot_roc_curve(fpr,tpr)\n"
      ],
      "execution_count": null,
      "outputs": [
        {
          "output_type": "display_data",
          "data": {
            "text/plain": [
              "<Figure size 640x480 with 1 Axes>"
            ],
            "image/png": "[encoded data removed]"
          },
          "metadata": {}
        },
        {
          "output_type": "stream",
          "name": "stdout",
          "text": [
            "AUC : 0.9943096626405665\n"
          ]
        }
      ]
    },
    {
      "cell_type": "markdown",
      "source": [
        "### Precision-recall curve와 PRAUC\n",
        "\n",
        "다음으로 Imbalance 데이터 성능지표로 활용되는 Precision-recall curve와 PRAUC를 계산해보도록하겠습니다.\n"
      ],
      "metadata": {
        "id": "h-mWjC_4OV4-"
      }
    },
    {
      "cell_type": "code",
      "source": [
        "def plot_pr_curve(precision, recall):\n",
        "    plt.plot(recall, precision, color='red', label='ROC')\n",
        "    # plt.plot([0, 1], [0, 1], color='green', linestyle='--')\n",
        "    plt.xlabel('Recall, True Positive Rate')\n",
        "    plt.ylabel('Precision')\n",
        "    plt.title('Receiver Operating Characteristic Curve')\n",
        "    plt.legend()\n",
        "    plt.show()\n",
        "    auc = metrics.auc(recall, precision)\n",
        "    print('AUC : {}'.format(auc))\n",
        "\n",
        "precision, recall, thresh = metrics.precision_recall_curve(all_label, all_score)\n",
        "plot_pr_curve(precision, recall)\n"
      ],
      "metadata": {
        "id": "FSVlUnhfOU4V",
        "colab": {
          "base_uri": "https://localhost:8080/",
          "height": 490
        },
        "outputId": "035a905f-1a30-4913-92c1-b5cea574e831"
      },
      "execution_count": null,
      "outputs": [
        {
          "output_type": "display_data",
          "data": {
            "text/plain": [
              "<Figure size 640x480 with 1 Axes>"
            ],
            "image/png": "[encoded data removed]"
          },
          "metadata": {}
        },
        {
          "output_type": "stream",
          "name": "stdout",
          "text": [
            "AUC : 0.9936853232258187\n"
          ]
        }
      ]
    },
    {
      "cell_type": "markdown",
      "metadata": {
        "id": "DbMkRIXtphmz"
      },
      "source": [
        "### 이상점수 분포 확인\n",
        "\n",
        "마지막으로 정상/비정상 데이터의 이상점수가 각각 어떻게 분포되어있는지 살펴보도록 하겠습니다."
      ]
    },
    {
      "cell_type": "code",
      "metadata": {
        "id": "okJoXkuopsTZ",
        "colab": {
          "base_uri": "https://localhost:8080/",
          "height": 467
        },
        "outputId": "5a75ec36-5151-45b2-a1f3-16e7ceaaf8dc"
      },
      "source": [
        "import seaborn as sns\n",
        "\n",
        "DF = pd.DataFrame({'SCORE':all_score, 'LABEL':all_label})\n",
        "sns.histplot(DF,x='SCORE',hue='LABEL')"
      ],
      "execution_count": null,
      "outputs": [
        {
          "output_type": "execute_result",
          "data": {
            "text/plain": [
              "<Axes: xlabel='SCORE', ylabel='Count'>"
            ]
          },
          "metadata": {},
          "execution_count": 19
        },
        {
          "output_type": "display_data",
          "data": {
            "text/plain": [
              "<Figure size 640x480 with 1 Axes>"
            ],
            "image/png": "[encoded data removed]"
          },
          "metadata": {}
        }
      ]
    },
    {
      "cell_type": "markdown",
      "metadata": {
        "id": "Y227HOYVpxhC"
      },
      "source": [
        "파란색은 정상 테스트 데이터의 이상점수 분포이고, 주황색은 비정상 테스트 데이터의 이상점수 분포입니다.\n",
        "두 개의 점수 분포 사이의 분리가 어느정도 잘 이루어 지는 것을 확인 할 수 있습니다.\n",
        "\n",
        "다시 위의 그래프를 학습된 정상 데이터에 대한 이상점수 분포를 포함하여 그려보도록하겠습니다. 학습 정상 데이터의 레이블은 -1로 설정하였습니다."
      ]
    },
    {
      "cell_type": "code",
      "source": [
        "recon_train_normal, score_train_normal = AE(normal_train_input[:980,...])\n",
        "all_score_p = np.concatenate([score_train_normal.detach().numpy(), all_score])\n",
        "all_label_p = np.concatenate([-1*np.ones(980), all_label])"
      ],
      "metadata": {
        "id": "w_njmzPvjfQU"
      },
      "execution_count": null,
      "outputs": []
    },
    {
      "cell_type": "code",
      "source": [
        "DF2 = pd.DataFrame({'SCORE':all_score_p, 'LABEL':all_label_p})\n",
        "sns.histplot(DF2,x='SCORE',hue='LABEL')"
      ],
      "metadata": {
        "colab": {
          "base_uri": "https://localhost:8080/",
          "height": 467
        },
        "id": "VucF_NDFj3hl",
        "outputId": "2b12f952-6aea-4e5a-e4ec-08ea3e9bc09e"
      },
      "execution_count": null,
      "outputs": [
        {
          "output_type": "execute_result",
          "data": {
            "text/plain": [
              "<Axes: xlabel='SCORE', ylabel='Count'>"
            ]
          },
          "metadata": {},
          "execution_count": 21
        },
        {
          "output_type": "display_data",
          "data": {
            "text/plain": [
              "<Figure size 640x480 with 1 Axes>"
            ],
            "image/png": "[encoded data removed]"
          },
          "metadata": {}
        }
      ]
    },
    {
      "cell_type": "markdown",
      "source": [
        "그래프를 보면 정상 학습데이터와 정상 테스트 데이터의 이상점수 분포는 유사하고, 비정상 테스트 데이터의 이상점수 분포는 나머지와 상이한, 이상탐지에서 원하는 형태의 결과가 나타나는 것을 볼 수 있습니다."
      ],
      "metadata": {
        "id": "wZzMQtGvkmi0"
      }
    },
    {
      "cell_type": "markdown",
      "source": [
        "# Mahalanobis distance 활용\n",
        "\n",
        "이번에는 예측 오차를 일종의 feature로 보고 Mahalanobis distance를 적용해보도록하겠습니다.\n",
        "즉 오토인코더를 f(x) 라 하면 Mhalanobis distance를 계산하기 위해 사용되는 새로운 피쳐 벡터는 y = f(x)-x가 되게 됩니다.\n",
        "\n",
        "결국 정상(학습)데이터의 오차 분포를 모델링하여 새로운 샘플의 오차와 학습 데이터의 분포 사이의 거리를 이상점수로 사용하게 됩니다."
      ],
      "metadata": {
        "id": "aynSdz8gMTkT"
      }
    },
    {
      "cell_type": "code",
      "source": [
        "recon_train, score_train = AE(normal_train_input)\n",
        "print(\"recon_shape\", recon_train.shape)\n",
        "print(\"input_shape\", normal_train_input.shape)\n",
        "## Mahalanobis distance를 계산하기 위해서 벡터형태로 바꿔줍니다.\n",
        "\n",
        "train_err_np = (recon_train-normal_train_input).detach().numpy().reshape(-1,28*28)\n",
        "train_err_np.shape"
      ],
      "metadata": {
        "colab": {
          "base_uri": "https://localhost:8080/"
        },
        "id": "PtOaJhP9NDMo",
        "outputId": "b9c22778-6f53-445f-a821-da5f843919e6"
      },
      "execution_count": null,
      "outputs": [
        {
          "output_type": "stream",
          "name": "stdout",
          "text": [
            "recon_shape torch.Size([5923, 28, 28])\n",
            "input_shape torch.Size([5923, 28, 28])\n"
          ]
        }
      ]
    },
    {
      "cell_type": "code",
      "source": [
        "#동일한 작업을 정상 테스트, 비정상 테스트 데이터 셋에도 수행해줍니다.\n",
        "#recon_normal, score_normal = AE(normal_test_input)\n",
        "#recon_abnormal, score_abnormal = AE(abnormal_test_input)\n",
        "test_normal_err_np = (recon_normal - normal_test_input).detach().numpy().reshape(-1,28*28)\n",
        "test_abnormal_err_np = (recon_abnormal - abnormal_test_input).detach().numpy().reshape(-1,28*28)"
      ],
      "metadata": {
        "id": "ntkj6L5DNwvB"
      },
      "execution_count": null,
      "outputs": []
    },
    {
      "cell_type": "markdown",
      "source": [
        "Mahalanobis distance를 계산하기 위해서는 먼저 정상 데이터 분포에 대한 평균과 Covariance matrix를 구해야합니다. 이를 PCA를 통해서 수행해보겠습니다.\n"
      ],
      "metadata": {
        "id": "AYlscHf-Onof"
      }
    },
    {
      "cell_type": "code",
      "source": [
        "from sklearn.decomposition import PCA\n",
        "MaDis = PCA(whiten=True) #whiten option을 켜줘야 함)\n",
        "MaDis.fit(train_err_np)"
      ],
      "metadata": {
        "colab": {
          "base_uri": "https://localhost:8080/",
          "height": 75
        },
        "id": "0ZPbgse6OyO2",
        "outputId": "39f7d669-a80f-4230-ce93-7d1edc14b16e"
      },
      "execution_count": null,
      "outputs": [
        {
          "output_type": "execute_result",
          "data": {
            "text/plain": [
              "PCA(whiten=True)"
            ],
            "text/html": [
              "<style>#sk-container-id-1 {color: black;background-color: white;}#sk-container-id-1 pre{padding: 0;}#sk-container-id-1 div.sk-toggleable {background-color: white;}#sk-container-id-1 label.sk-toggleable__label {cursor: pointer;display: block;width: 100%;margin-bottom: 0;padding: 0.3em;box-sizing: border-box;text-align: center;}#sk-container-id-1 label.sk-toggleable__label-arrow:before {content: \"▸\";float: left;margin-right: 0.25em;color: #696969;}#sk-container-id-1 label.sk-toggleable__label-arrow:hover:before {color: black;}#sk-container-id-1 div.sk-estimator:hover label.sk-toggleable__label-arrow:before {color: black;}#sk-container-id-1 div.sk-toggleable__content {max-height: 0;max-width: 0;overflow: hidden;text-align: left;background-color: #f0f8ff;}#sk-container-id-1 div.sk-toggleable__content pre {margin: 0.2em;color: black;border-radius: 0.25em;background-color: #f0f8ff;}#sk-container-id-1 input.sk-toggleable__control:checked~div.sk-toggleable__content {max-height: 200px;max-width: 100%;overflow: auto;}#sk-container-id-1 input.sk-toggleable__control:checked~label.sk-toggleable__label-arrow:before {content: \"▾\";}#sk-container-id-1 div.sk-estimator input.sk-toggleable__control:checked~label.sk-toggleable__label {background-color: #d4ebff;}#sk-container-id-1 div.sk-label input.sk-toggleable__control:checked~label.sk-toggleable__label {background-color: #d4ebff;}#sk-container-id-1 input.sk-hidden--visually {border: 0;clip: rect(1px 1px 1px 1px);clip: rect(1px, 1px, 1px, 1px);height: 1px;margin: -1px;overflow: hidden;padding: 0;position: absolute;width: 1px;}#sk-container-id-1 div.sk-estimator {font-family: monospace;background-color: #f0f8ff;border: 1px dotted black;border-radius: 0.25em;box-sizing: border-box;margin-bottom: 0.5em;}#sk-container-id-1 div.sk-estimator:hover {background-color: #d4ebff;}#sk-container-id-1 div.sk-parallel-item::after {content: \"\";width: 100%;border-bottom: 1px solid gray;flex-grow: 1;}#sk-container-id-1 div.sk-label:hover label.sk-toggleable__label {background-color: #d4ebff;}#sk-container-id-1 div.sk-serial::before {content: \"\";position: absolute;border-left: 1px solid gray;box-sizing: border-box;top: 0;bottom: 0;left: 50%;z-index: 0;}#sk-container-id-1 div.sk-serial {display: flex;flex-direction: column;align-items: center;background-color: white;padding-right: 0.2em;padding-left: 0.2em;position: relative;}#sk-container-id-1 div.sk-item {position: relative;z-index: 1;}#sk-container-id-1 div.sk-parallel {display: flex;align-items: stretch;justify-content: center;background-color: white;position: relative;}#sk-container-id-1 div.sk-item::before, #sk-container-id-1 div.sk-parallel-item::before {content: \"\";position: absolute;border-left: 1px solid gray;box-sizing: border-box;top: 0;bottom: 0;left: 50%;z-index: -1;}#sk-container-id-1 div.sk-parallel-item {display: flex;flex-direction: column;z-index: 1;position: relative;background-color: white;}#sk-container-id-1 div.sk-parallel-item:first-child::after {align-self: flex-end;width: 50%;}#sk-container-id-1 div.sk-parallel-item:last-child::after {align-self: flex-start;width: 50%;}#sk-container-id-1 div.sk-parallel-item:only-child::after {width: 0;}#sk-container-id-1 div.sk-dashed-wrapped {border: 1px dashed gray;margin: 0 0.4em 0.5em 0.4em;box-sizing: border-box;padding-bottom: 0.4em;background-color: white;}#sk-container-id-1 div.sk-label label {font-family: monospace;font-weight: bold;display: inline-block;line-height: 1.2em;}#sk-container-id-1 div.sk-label-container {text-align: center;}#sk-container-id-1 div.sk-container {/* jupyter's `normalize.less` sets `[hidden] { display: none; }` but bootstrap.min.css set `[hidden] { display: none !important; }` so we also need the `!important` here to be able to override the default hidden behavior on the sphinx rendered scikit-learn.org. See: https://github.com/scikit-learn/scikit-learn/issues/21755 */display: inline-block !important;position: relative;}#sk-container-id-1 div.sk-text-repr-fallback {display: none;}</style><div id=\"sk-container-id-1\" class=\"sk-top-container\"><div class=\"sk-text-repr-fallback\"><pre>PCA(whiten=True)</pre><b>In a Jupyter environment, please rerun this cell to show the HTML representation or trust the notebook. <br />On GitHub, the HTML representation is unable to render, please try loading this page with nbviewer.org.</b></div><div class=\"sk-container\" hidden><div class=\"sk-item\"><div class=\"sk-estimator sk-toggleable\"><input class=\"sk-toggleable__control sk-hidden--visually\" id=\"sk-estimator-id-1\" type=\"checkbox\" checked><label for=\"sk-estimator-id-1\" class=\"sk-toggleable__label sk-toggleable__label-arrow\">PCA</label><div class=\"sk-toggleable__content\"><pre>PCA(whiten=True)</pre></div></div></div></div></div>"
            ]
          },
          "metadata": {},
          "execution_count": 35
        }
      ]
    },
    {
      "cell_type": "markdown",
      "source": [
        "이제 각 데이터에 대한 Mahalanobis distance를 구해보겠습니다."
      ],
      "metadata": {
        "id": "SukFQrOQPUEC"
      }
    },
    {
      "cell_type": "code",
      "source": [
        "md_train = (MaDis.transform(train_err_np)**2).mean(-1)\n",
        "md_test_normal = (MaDis.transform(test_normal_err_np)**2).mean(-1)\n",
        "md_test_abnormal = (MaDis.transform(test_abnormal_err_np)**2).mean(-1)\n",
        "print(md_train.shape, md_test_normal.shape, md_test_abnormal.shape)"
      ],
      "metadata": {
        "colab": {
          "base_uri": "https://localhost:8080/"
        },
        "id": "vn9hQOtbPgj4",
        "outputId": "4fe855e7-6daa-4f79-ff6a-e9752a5048fd"
      },
      "execution_count": null,
      "outputs": [
        {
          "output_type": "stream",
          "name": "stdout",
          "text": [
            "(5923,) (980,) (980,)\n"
          ]
        }
      ]
    },
    {
      "cell_type": "markdown",
      "source": [
        "이제 이전 모델과 마찬가지로 AUROC, PRAUC 분포 등을 확인해보겠습니다."
      ],
      "metadata": {
        "id": "QjPbU1ZbQDOY"
      }
    },
    {
      "cell_type": "code",
      "source": [
        "all_md_score = np.concatenate([md_test_normal,md_test_abnormal])\n",
        "md_fpr, md_tpr, md_thresh = metrics.roc_curve(all_label, all_md_score)\n",
        "plot_roc_curve(md_fpr,md_tpr)"
      ],
      "metadata": {
        "colab": {
          "base_uri": "https://localhost:8080/",
          "height": 490
        },
        "id": "OQLkzGW6QGzE",
        "outputId": "5d012fae-e1ce-4a52-af65-0b3c64866625"
      },
      "execution_count": null,
      "outputs": [
        {
          "output_type": "display_data",
          "data": {
            "text/plain": [
              "<Figure size 640x480 with 1 Axes>"
            ],
            "image/png": "[encoded data removed]"
          },
          "metadata": {}
        },
        {
          "output_type": "stream",
          "name": "stdout",
          "text": [
            "AUC : 0.9752634319033735\n"
          ]
        }
      ]
    },
    {
      "cell_type": "code",
      "source": [
        "md_precision, md_recall, md_thresh = metrics.precision_recall_curve(all_label, all_md_score)\n",
        "plot_pr_curve(md_precision, md_recall)\n"
      ],
      "metadata": {
        "colab": {
          "base_uri": "https://localhost:8080/",
          "height": 490
        },
        "id": "5Sff5DYsQgv_",
        "outputId": "955a50d5-c534-4053-834f-71f11e1a8507"
      },
      "execution_count": null,
      "outputs": [
        {
          "output_type": "display_data",
          "data": {
            "text/plain": [
              "<Figure size 640x480 with 1 Axes>"
            ],
            "image/png": "[encoded data removed]"
          },
          "metadata": {}
        },
        {
          "output_type": "stream",
          "name": "stdout",
          "text": [
            "AUC : 0.9616181605073342\n"
          ]
        }
      ]
    },
    {
      "cell_type": "code",
      "source": [
        "all_md_score_p = np.concatenate([md_train[:980], all_md_score])\n",
        "all_md_label_p = np.concatenate([-1*np.ones(980), all_label])\n",
        "DF2 = pd.DataFrame({'SCORE':all_md_score_p, 'LABEL':all_md_label_p})"
      ],
      "metadata": {
        "id": "tV4a_aw4Quct"
      },
      "execution_count": null,
      "outputs": []
    },
    {
      "cell_type": "code",
      "source": [
        "sns.histplot(DF2,x='SCORE',hue='LABEL')"
      ],
      "metadata": {
        "colab": {
          "base_uri": "https://localhost:8080/"
        },
        "id": "N6-af2u9RYBG",
        "outputId": "30c976b7-2436-4c76-82f6-35c49a3bcc9f"
      },
      "execution_count": null,
      "outputs": [
        {
          "output_type": "execute_result",
          "data": {
            "text/plain": [
              "2940"
            ]
          },
          "metadata": {},
          "execution_count": 45
        }
      ]
    },
    {
      "cell_type": "markdown",
      "source": [
        "## 맺음말\n",
        "\n",
        "지금까지 오토인코더와 MNIST 데이터셋을 이용한 전체 이상탐지 과정을 포함한 간단한 예제를 살펴보았습니다. \n",
        "\n",
        "다음 실습자료는 테이블 형식의 IRIS 데이터를 바탕으로 머신러닝 및 딥러닝 기반 이상탐지 라이브러리인 PyOD를 사용한 이상탐지 예제를 살펴보도록하겠습니다."
      ],
      "metadata": {
        "id": "KRgsPbctlUYs"
      }
    },
    {
      "cell_type": "markdown",
      "source": [
        "        문제 1. 원하는 모델을 만들어보세요\n",
        "        self.autoencoder = nn.Sequential(\n",
        "            nn.Flatten(),\n",
        "            nn.Linear(28 * 28, 256),\n",
        "            nn.LeakyReLU(),\n",
        "            nn.Linear(256, 64),\n",
        "            nn.LeakyReLU(),\n",
        "            nn.Linear(64, 256),\n",
        "            nn.LeakyReLU(),\n",
        "            nn.Linear(256, 28*28))\n",
        "\n",
        "        문제 2. \n",
        "        output = self.autoencoder(x)\n",
        "        mse = ((x.view(-1,28*28)-output)**2).mean(axis=1)\n"
      ],
      "metadata": {
        "id": "87GfTGNYSAH0"
      }
    }
  ]
}