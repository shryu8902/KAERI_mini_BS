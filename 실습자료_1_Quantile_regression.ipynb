{
  "nbformat": 4,
  "nbformat_minor": 0,
  "metadata": {
    "colab": {
      "provenance": [],
      "toc_visible": true,
      "authorship_tag": "ABX9TyP3o3lWlh1uswmRqv3hZUEo",
      "include_colab_link": true
    },
    "kernelspec": {
      "name": "python3",
      "display_name": "Python 3"
    },
    "language_info": {
      "name": "python"
    },
    "accelerator": "GPU",
    "widgets": {
      "application/vnd.jupyter.widget-state+json": {
        "21fd481e51f244058b98fd9a37663d41": {
          "model_module": "@jupyter-widgets/controls",
          "model_name": "HBoxModel",
          "model_module_version": "1.5.0",
          "state": {
            "_dom_classes": [],
            "_model_module": "@jupyter-widgets/controls",
            "_model_module_version": "1.5.0",
            "_model_name": "HBoxModel",
            "_view_count": null,
            "_view_module": "@jupyter-widgets/controls",
            "_view_module_version": "1.5.0",
            "_view_name": "HBoxView",
            "box_style": "",
            "children": [
              "IPY_MODEL_65222c69a59c4442be804a739e989296",
              "IPY_MODEL_e8dff5debadc4418a3e4782f3a3f9528",
              "IPY_MODEL_862ddd34b2f0495bbde5b0adb91cb19d"
            ],
            "layout": "IPY_MODEL_7495986c20424cc6a51cb9990f6eeb35"
          }
        },
        "65222c69a59c4442be804a739e989296": {
          "model_module": "@jupyter-widgets/controls",
          "model_name": "HTMLModel",
          "model_module_version": "1.5.0",
          "state": {
            "_dom_classes": [],
            "_model_module": "@jupyter-widgets/controls",
            "_model_module_version": "1.5.0",
            "_model_name": "HTMLModel",
            "_view_count": null,
            "_view_module": "@jupyter-widgets/controls",
            "_view_module_version": "1.5.0",
            "_view_name": "HTMLView",
            "description": "",
            "description_tooltip": null,
            "layout": "IPY_MODEL_ff106d3b034a4f65be28e9f234ed7f77",
            "placeholder": "​",
            "style": "IPY_MODEL_4ef7767fb36a4cc1a6648d3ff42d7a70",
            "value": "Epoch 99: 100%"
          }
        },
        "e8dff5debadc4418a3e4782f3a3f9528": {
          "model_module": "@jupyter-widgets/controls",
          "model_name": "FloatProgressModel",
          "model_module_version": "1.5.0",
          "state": {
            "_dom_classes": [],
            "_model_module": "@jupyter-widgets/controls",
            "_model_module_version": "1.5.0",
            "_model_name": "FloatProgressModel",
            "_view_count": null,
            "_view_module": "@jupyter-widgets/controls",
            "_view_module_version": "1.5.0",
            "_view_name": "ProgressView",
            "bar_style": "success",
            "description": "",
            "description_tooltip": null,
            "layout": "IPY_MODEL_1ebf34061bb34545a624871b6e866dad",
            "max": 24,
            "min": 0,
            "orientation": "horizontal",
            "style": "IPY_MODEL_c65200fb3a4e4b02832592950d56e81c",
            "value": 24
          }
        },
        "862ddd34b2f0495bbde5b0adb91cb19d": {
          "model_module": "@jupyter-widgets/controls",
          "model_name": "HTMLModel",
          "model_module_version": "1.5.0",
          "state": {
            "_dom_classes": [],
            "_model_module": "@jupyter-widgets/controls",
            "_model_module_version": "1.5.0",
            "_model_name": "HTMLModel",
            "_view_count": null,
            "_view_module": "@jupyter-widgets/controls",
            "_view_module_version": "1.5.0",
            "_view_name": "HTMLView",
            "description": "",
            "description_tooltip": null,
            "layout": "IPY_MODEL_fdedf53383fb4f0c839507ff4081af9f",
            "placeholder": "​",
            "style": "IPY_MODEL_f8ca09b324974885932e6ab02b1d45c7",
            "value": " 24/24 [00:00&lt;00:00, 215.72it/s, v_num=0]"
          }
        },
        "7495986c20424cc6a51cb9990f6eeb35": {
          "model_module": "@jupyter-widgets/base",
          "model_name": "LayoutModel",
          "model_module_version": "1.2.0",
          "state": {
            "_model_module": "@jupyter-widgets/base",
            "_model_module_version": "1.2.0",
            "_model_name": "LayoutModel",
            "_view_count": null,
            "_view_module": "@jupyter-widgets/base",
            "_view_module_version": "1.2.0",
            "_view_name": "LayoutView",
            "align_content": null,
            "align_items": null,
            "align_self": null,
            "border": null,
            "bottom": null,
            "display": "inline-flex",
            "flex": null,
            "flex_flow": "row wrap",
            "grid_area": null,
            "grid_auto_columns": null,
            "grid_auto_flow": null,
            "grid_auto_rows": null,
            "grid_column": null,
            "grid_gap": null,
            "grid_row": null,
            "grid_template_areas": null,
            "grid_template_columns": null,
            "grid_template_rows": null,
            "height": null,
            "justify_content": null,
            "justify_items": null,
            "left": null,
            "margin": null,
            "max_height": null,
            "max_width": null,
            "min_height": null,
            "min_width": null,
            "object_fit": null,
            "object_position": null,
            "order": null,
            "overflow": null,
            "overflow_x": null,
            "overflow_y": null,
            "padding": null,
            "right": null,
            "top": null,
            "visibility": null,
            "width": "100%"
          }
        },
        "ff106d3b034a4f65be28e9f234ed7f77": {
          "model_module": "@jupyter-widgets/base",
          "model_name": "LayoutModel",
          "model_module_version": "1.2.0",
          "state": {
            "_model_module": "@jupyter-widgets/base",
            "_model_module_version": "1.2.0",
            "_model_name": "LayoutModel",
            "_view_count": null,
            "_view_module": "@jupyter-widgets/base",
            "_view_module_version": "1.2.0",
            "_view_name": "LayoutView",
            "align_content": null,
            "align_items": null,
            "align_self": null,
            "border": null,
            "bottom": null,
            "display": null,
            "flex": null,
            "flex_flow": null,
            "grid_area": null,
            "grid_auto_columns": null,
            "grid_auto_flow": null,
            "grid_auto_rows": null,
            "grid_column": null,
            "grid_gap": null,
            "grid_row": null,
            "grid_template_areas": null,
            "grid_template_columns": null,
            "grid_template_rows": null,
            "height": null,
            "justify_content": null,
            "justify_items": null,
            "left": null,
            "margin": null,
            "max_height": null,
            "max_width": null,
            "min_height": null,
            "min_width": null,
            "object_fit": null,
            "object_position": null,
            "order": null,
            "overflow": null,
            "overflow_x": null,
            "overflow_y": null,
            "padding": null,
            "right": null,
            "top": null,
            "visibility": null,
            "width": null
          }
        },
        "4ef7767fb36a4cc1a6648d3ff42d7a70": {
          "model_module": "@jupyter-widgets/controls",
          "model_name": "DescriptionStyleModel",
          "model_module_version": "1.5.0",
          "state": {
            "_model_module": "@jupyter-widgets/controls",
            "_model_module_version": "1.5.0",
            "_model_name": "DescriptionStyleModel",
            "_view_count": null,
            "_view_module": "@jupyter-widgets/base",
            "_view_module_version": "1.2.0",
            "_view_name": "StyleView",
            "description_width": ""
          }
        },
        "1ebf34061bb34545a624871b6e866dad": {
          "model_module": "@jupyter-widgets/base",
          "model_name": "LayoutModel",
          "model_module_version": "1.2.0",
          "state": {
            "_model_module": "@jupyter-widgets/base",
            "_model_module_version": "1.2.0",
            "_model_name": "LayoutModel",
            "_view_count": null,
            "_view_module": "@jupyter-widgets/base",
            "_view_module_version": "1.2.0",
            "_view_name": "LayoutView",
            "align_content": null,
            "align_items": null,
            "align_self": null,
            "border": null,
            "bottom": null,
            "display": null,
            "flex": "2",
            "flex_flow": null,
            "grid_area": null,
            "grid_auto_columns": null,
            "grid_auto_flow": null,
            "grid_auto_rows": null,
            "grid_column": null,
            "grid_gap": null,
            "grid_row": null,
            "grid_template_areas": null,
            "grid_template_columns": null,
            "grid_template_rows": null,
            "height": null,
            "justify_content": null,
            "justify_items": null,
            "left": null,
            "margin": null,
            "max_height": null,
            "max_width": null,
            "min_height": null,
            "min_width": null,
            "object_fit": null,
            "object_position": null,
            "order": null,
            "overflow": null,
            "overflow_x": null,
            "overflow_y": null,
            "padding": null,
            "right": null,
            "top": null,
            "visibility": null,
            "width": null
          }
        },
        "c65200fb3a4e4b02832592950d56e81c": {
          "model_module": "@jupyter-widgets/controls",
          "model_name": "ProgressStyleModel",
          "model_module_version": "1.5.0",
          "state": {
            "_model_module": "@jupyter-widgets/controls",
            "_model_module_version": "1.5.0",
            "_model_name": "ProgressStyleModel",
            "_view_count": null,
            "_view_module": "@jupyter-widgets/base",
            "_view_module_version": "1.2.0",
            "_view_name": "StyleView",
            "bar_color": null,
            "description_width": ""
          }
        },
        "fdedf53383fb4f0c839507ff4081af9f": {
          "model_module": "@jupyter-widgets/base",
          "model_name": "LayoutModel",
          "model_module_version": "1.2.0",
          "state": {
            "_model_module": "@jupyter-widgets/base",
            "_model_module_version": "1.2.0",
            "_model_name": "LayoutModel",
            "_view_count": null,
            "_view_module": "@jupyter-widgets/base",
            "_view_module_version": "1.2.0",
            "_view_name": "LayoutView",
            "align_content": null,
            "align_items": null,
            "align_self": null,
            "border": null,
            "bottom": null,
            "display": null,
            "flex": null,
            "flex_flow": null,
            "grid_area": null,
            "grid_auto_columns": null,
            "grid_auto_flow": null,
            "grid_auto_rows": null,
            "grid_column": null,
            "grid_gap": null,
            "grid_row": null,
            "grid_template_areas": null,
            "grid_template_columns": null,
            "grid_template_rows": null,
            "height": null,
            "justify_content": null,
            "justify_items": null,
            "left": null,
            "margin": null,
            "max_height": null,
            "max_width": null,
            "min_height": null,
            "min_width": null,
            "object_fit": null,
            "object_position": null,
            "order": null,
            "overflow": null,
            "overflow_x": null,
            "overflow_y": null,
            "padding": null,
            "right": null,
            "top": null,
            "visibility": null,
            "width": null
          }
        },
        "f8ca09b324974885932e6ab02b1d45c7": {
          "model_module": "@jupyter-widgets/controls",
          "model_name": "DescriptionStyleModel",
          "model_module_version": "1.5.0",
          "state": {
            "_model_module": "@jupyter-widgets/controls",
            "_model_module_version": "1.5.0",
            "_model_name": "DescriptionStyleModel",
            "_view_count": null,
            "_view_module": "@jupyter-widgets/base",
            "_view_module_version": "1.2.0",
            "_view_name": "StyleView",
            "description_width": ""
          }
        },
        "a15f5164d4a7408880c4979b3c4f52e2": {
          "model_module": "@jupyter-widgets/controls",
          "model_name": "HBoxModel",
          "model_module_version": "1.5.0",
          "state": {
            "_dom_classes": [],
            "_model_module": "@jupyter-widgets/controls",
            "_model_module_version": "1.5.0",
            "_model_name": "HBoxModel",
            "_view_count": null,
            "_view_module": "@jupyter-widgets/controls",
            "_view_module_version": "1.5.0",
            "_view_name": "HBoxView",
            "box_style": "",
            "children": [
              "IPY_MODEL_17e9260d49684eb695c377d3295ed9e4",
              "IPY_MODEL_f06c0293797247aea48038ad3f3fd685",
              "IPY_MODEL_02b8cbe8cbf449bca7745d9716fb9414"
            ],
            "layout": "IPY_MODEL_b6597aaee28b4ad68f3ac31e2e6db10e"
          }
        },
        "17e9260d49684eb695c377d3295ed9e4": {
          "model_module": "@jupyter-widgets/controls",
          "model_name": "HTMLModel",
          "model_module_version": "1.5.0",
          "state": {
            "_dom_classes": [],
            "_model_module": "@jupyter-widgets/controls",
            "_model_module_version": "1.5.0",
            "_model_name": "HTMLModel",
            "_view_count": null,
            "_view_module": "@jupyter-widgets/controls",
            "_view_module_version": "1.5.0",
            "_view_name": "HTMLView",
            "description": "",
            "description_tooltip": null,
            "layout": "IPY_MODEL_98628f3e9e4b4f4eaa47c004d672c77b",
            "placeholder": "​",
            "style": "IPY_MODEL_e2d83f533edf49a9a3ad7816afda44e6",
            "value": "Predicting DataLoader 0: 100%"
          }
        },
        "f06c0293797247aea48038ad3f3fd685": {
          "model_module": "@jupyter-widgets/controls",
          "model_name": "FloatProgressModel",
          "model_module_version": "1.5.0",
          "state": {
            "_dom_classes": [],
            "_model_module": "@jupyter-widgets/controls",
            "_model_module_version": "1.5.0",
            "_model_name": "FloatProgressModel",
            "_view_count": null,
            "_view_module": "@jupyter-widgets/controls",
            "_view_module_version": "1.5.0",
            "_view_name": "ProgressView",
            "bar_style": "success",
            "description": "",
            "description_tooltip": null,
            "layout": "IPY_MODEL_4ecfdb44eed04b4ebe76a476fe4dca40",
            "max": 8,
            "min": 0,
            "orientation": "horizontal",
            "style": "IPY_MODEL_3c40bc9fdac3411f957f29b1c25da891",
            "value": 8
          }
        },
        "02b8cbe8cbf449bca7745d9716fb9414": {
          "model_module": "@jupyter-widgets/controls",
          "model_name": "HTMLModel",
          "model_module_version": "1.5.0",
          "state": {
            "_dom_classes": [],
            "_model_module": "@jupyter-widgets/controls",
            "_model_module_version": "1.5.0",
            "_model_name": "HTMLModel",
            "_view_count": null,
            "_view_module": "@jupyter-widgets/controls",
            "_view_module_version": "1.5.0",
            "_view_name": "HTMLView",
            "description": "",
            "description_tooltip": null,
            "layout": "IPY_MODEL_fa04ceb01ad242289f966aad77ab5f68",
            "placeholder": "​",
            "style": "IPY_MODEL_99aa57d203364c05b3bc1c4f09cb3326",
            "value": " 8/8 [00:00&lt;00:00, 284.83it/s]"
          }
        },
        "b6597aaee28b4ad68f3ac31e2e6db10e": {
          "model_module": "@jupyter-widgets/base",
          "model_name": "LayoutModel",
          "model_module_version": "1.2.0",
          "state": {
            "_model_module": "@jupyter-widgets/base",
            "_model_module_version": "1.2.0",
            "_model_name": "LayoutModel",
            "_view_count": null,
            "_view_module": "@jupyter-widgets/base",
            "_view_module_version": "1.2.0",
            "_view_name": "LayoutView",
            "align_content": null,
            "align_items": null,
            "align_self": null,
            "border": null,
            "bottom": null,
            "display": "inline-flex",
            "flex": null,
            "flex_flow": "row wrap",
            "grid_area": null,
            "grid_auto_columns": null,
            "grid_auto_flow": null,
            "grid_auto_rows": null,
            "grid_column": null,
            "grid_gap": null,
            "grid_row": null,
            "grid_template_areas": null,
            "grid_template_columns": null,
            "grid_template_rows": null,
            "height": null,
            "justify_content": null,
            "justify_items": null,
            "left": null,
            "margin": null,
            "max_height": null,
            "max_width": null,
            "min_height": null,
            "min_width": null,
            "object_fit": null,
            "object_position": null,
            "order": null,
            "overflow": null,
            "overflow_x": null,
            "overflow_y": null,
            "padding": null,
            "right": null,
            "top": null,
            "visibility": null,
            "width": "100%"
          }
        },
        "98628f3e9e4b4f4eaa47c004d672c77b": {
          "model_module": "@jupyter-widgets/base",
          "model_name": "LayoutModel",
          "model_module_version": "1.2.0",
          "state": {
            "_model_module": "@jupyter-widgets/base",
            "_model_module_version": "1.2.0",
            "_model_name": "LayoutModel",
            "_view_count": null,
            "_view_module": "@jupyter-widgets/base",
            "_view_module_version": "1.2.0",
            "_view_name": "LayoutView",
            "align_content": null,
            "align_items": null,
            "align_self": null,
            "border": null,
            "bottom": null,
            "display": null,
            "flex": null,
            "flex_flow": null,
            "grid_area": null,
            "grid_auto_columns": null,
            "grid_auto_flow": null,
            "grid_auto_rows": null,
            "grid_column": null,
            "grid_gap": null,
            "grid_row": null,
            "grid_template_areas": null,
            "grid_template_columns": null,
            "grid_template_rows": null,
            "height": null,
            "justify_content": null,
            "justify_items": null,
            "left": null,
            "margin": null,
            "max_height": null,
            "max_width": null,
            "min_height": null,
            "min_width": null,
            "object_fit": null,
            "object_position": null,
            "order": null,
            "overflow": null,
            "overflow_x": null,
            "overflow_y": null,
            "padding": null,
            "right": null,
            "top": null,
            "visibility": null,
            "width": null
          }
        },
        "e2d83f533edf49a9a3ad7816afda44e6": {
          "model_module": "@jupyter-widgets/controls",
          "model_name": "DescriptionStyleModel",
          "model_module_version": "1.5.0",
          "state": {
            "_model_module": "@jupyter-widgets/controls",
            "_model_module_version": "1.5.0",
            "_model_name": "DescriptionStyleModel",
            "_view_count": null,
            "_view_module": "@jupyter-widgets/base",
            "_view_module_version": "1.2.0",
            "_view_name": "StyleView",
            "description_width": ""
          }
        },
        "4ecfdb44eed04b4ebe76a476fe4dca40": {
          "model_module": "@jupyter-widgets/base",
          "model_name": "LayoutModel",
          "model_module_version": "1.2.0",
          "state": {
            "_model_module": "@jupyter-widgets/base",
            "_model_module_version": "1.2.0",
            "_model_name": "LayoutModel",
            "_view_count": null,
            "_view_module": "@jupyter-widgets/base",
            "_view_module_version": "1.2.0",
            "_view_name": "LayoutView",
            "align_content": null,
            "align_items": null,
            "align_self": null,
            "border": null,
            "bottom": null,
            "display": null,
            "flex": "2",
            "flex_flow": null,
            "grid_area": null,
            "grid_auto_columns": null,
            "grid_auto_flow": null,
            "grid_auto_rows": null,
            "grid_column": null,
            "grid_gap": null,
            "grid_row": null,
            "grid_template_areas": null,
            "grid_template_columns": null,
            "grid_template_rows": null,
            "height": null,
            "justify_content": null,
            "justify_items": null,
            "left": null,
            "margin": null,
            "max_height": null,
            "max_width": null,
            "min_height": null,
            "min_width": null,
            "object_fit": null,
            "object_position": null,
            "order": null,
            "overflow": null,
            "overflow_x": null,
            "overflow_y": null,
            "padding": null,
            "right": null,
            "top": null,
            "visibility": null,
            "width": null
          }
        },
        "3c40bc9fdac3411f957f29b1c25da891": {
          "model_module": "@jupyter-widgets/controls",
          "model_name": "ProgressStyleModel",
          "model_module_version": "1.5.0",
          "state": {
            "_model_module": "@jupyter-widgets/controls",
            "_model_module_version": "1.5.0",
            "_model_name": "ProgressStyleModel",
            "_view_count": null,
            "_view_module": "@jupyter-widgets/base",
            "_view_module_version": "1.2.0",
            "_view_name": "StyleView",
            "bar_color": null,
            "description_width": ""
          }
        },
        "fa04ceb01ad242289f966aad77ab5f68": {
          "model_module": "@jupyter-widgets/base",
          "model_name": "LayoutModel",
          "model_module_version": "1.2.0",
          "state": {
            "_model_module": "@jupyter-widgets/base",
            "_model_module_version": "1.2.0",
            "_model_name": "LayoutModel",
            "_view_count": null,
            "_view_module": "@jupyter-widgets/base",
            "_view_module_version": "1.2.0",
            "_view_name": "LayoutView",
            "align_content": null,
            "align_items": null,
            "align_self": null,
            "border": null,
            "bottom": null,
            "display": null,
            "flex": null,
            "flex_flow": null,
            "grid_area": null,
            "grid_auto_columns": null,
            "grid_auto_flow": null,
            "grid_auto_rows": null,
            "grid_column": null,
            "grid_gap": null,
            "grid_row": null,
            "grid_template_areas": null,
            "grid_template_columns": null,
            "grid_template_rows": null,
            "height": null,
            "justify_content": null,
            "justify_items": null,
            "left": null,
            "margin": null,
            "max_height": null,
            "max_width": null,
            "min_height": null,
            "min_width": null,
            "object_fit": null,
            "object_position": null,
            "order": null,
            "overflow": null,
            "overflow_x": null,
            "overflow_y": null,
            "padding": null,
            "right": null,
            "top": null,
            "visibility": null,
            "width": null
          }
        },
        "99aa57d203364c05b3bc1c4f09cb3326": {
          "model_module": "@jupyter-widgets/controls",
          "model_name": "DescriptionStyleModel",
          "model_module_version": "1.5.0",
          "state": {
            "_model_module": "@jupyter-widgets/controls",
            "_model_module_version": "1.5.0",
            "_model_name": "DescriptionStyleModel",
            "_view_count": null,
            "_view_module": "@jupyter-widgets/base",
            "_view_module_version": "1.2.0",
            "_view_name": "StyleView",
            "description_width": ""
          }
        },
        "38af3d8c4bce49ca953bbd230ed49266": {
          "model_module": "@jupyter-widgets/controls",
          "model_name": "HBoxModel",
          "model_module_version": "1.5.0",
          "state": {
            "_dom_classes": [],
            "_model_module": "@jupyter-widgets/controls",
            "_model_module_version": "1.5.0",
            "_model_name": "HBoxModel",
            "_view_count": null,
            "_view_module": "@jupyter-widgets/controls",
            "_view_module_version": "1.5.0",
            "_view_name": "HBoxView",
            "box_style": "",
            "children": [
              "IPY_MODEL_842b7625d03a4e25821c9cdc4f07bf2d",
              "IPY_MODEL_70aaa6e3851d4880a8175e0b053face4",
              "IPY_MODEL_2d907ea2bdba439989c25ac67f4a0c1c"
            ],
            "layout": "IPY_MODEL_db5f6a4929fa4d4cb88bdbc7f4e3a9ff"
          }
        },
        "842b7625d03a4e25821c9cdc4f07bf2d": {
          "model_module": "@jupyter-widgets/controls",
          "model_name": "HTMLModel",
          "model_module_version": "1.5.0",
          "state": {
            "_dom_classes": [],
            "_model_module": "@jupyter-widgets/controls",
            "_model_module_version": "1.5.0",
            "_model_name": "HTMLModel",
            "_view_count": null,
            "_view_module": "@jupyter-widgets/controls",
            "_view_module_version": "1.5.0",
            "_view_name": "HTMLView",
            "description": "",
            "description_tooltip": null,
            "layout": "IPY_MODEL_df228ac051ac467f947f6d668ba5d2db",
            "placeholder": "​",
            "style": "IPY_MODEL_45941d1fa241437ea9afbec7ded54df4",
            "value": "Epoch 199: 100%"
          }
        },
        "70aaa6e3851d4880a8175e0b053face4": {
          "model_module": "@jupyter-widgets/controls",
          "model_name": "FloatProgressModel",
          "model_module_version": "1.5.0",
          "state": {
            "_dom_classes": [],
            "_model_module": "@jupyter-widgets/controls",
            "_model_module_version": "1.5.0",
            "_model_name": "FloatProgressModel",
            "_view_count": null,
            "_view_module": "@jupyter-widgets/controls",
            "_view_module_version": "1.5.0",
            "_view_name": "ProgressView",
            "bar_style": "success",
            "description": "",
            "description_tooltip": null,
            "layout": "IPY_MODEL_81d32ffdd7964a989b859e6bfc693a5c",
            "max": 24,
            "min": 0,
            "orientation": "horizontal",
            "style": "IPY_MODEL_67bd1e9537bc46aaa15c942e3c7aa36e",
            "value": 24
          }
        },
        "2d907ea2bdba439989c25ac67f4a0c1c": {
          "model_module": "@jupyter-widgets/controls",
          "model_name": "HTMLModel",
          "model_module_version": "1.5.0",
          "state": {
            "_dom_classes": [],
            "_model_module": "@jupyter-widgets/controls",
            "_model_module_version": "1.5.0",
            "_model_name": "HTMLModel",
            "_view_count": null,
            "_view_module": "@jupyter-widgets/controls",
            "_view_module_version": "1.5.0",
            "_view_name": "HTMLView",
            "description": "",
            "description_tooltip": null,
            "layout": "IPY_MODEL_2fef062888344213ba5b07f85b1a4f17",
            "placeholder": "​",
            "style": "IPY_MODEL_20b43cb6b78049bc8e561b0e22c1c4db",
            "value": " 24/24 [00:00&lt;00:00, 178.29it/s, v_num=1]"
          }
        },
        "db5f6a4929fa4d4cb88bdbc7f4e3a9ff": {
          "model_module": "@jupyter-widgets/base",
          "model_name": "LayoutModel",
          "model_module_version": "1.2.0",
          "state": {
            "_model_module": "@jupyter-widgets/base",
            "_model_module_version": "1.2.0",
            "_model_name": "LayoutModel",
            "_view_count": null,
            "_view_module": "@jupyter-widgets/base",
            "_view_module_version": "1.2.0",
            "_view_name": "LayoutView",
            "align_content": null,
            "align_items": null,
            "align_self": null,
            "border": null,
            "bottom": null,
            "display": "inline-flex",
            "flex": null,
            "flex_flow": "row wrap",
            "grid_area": null,
            "grid_auto_columns": null,
            "grid_auto_flow": null,
            "grid_auto_rows": null,
            "grid_column": null,
            "grid_gap": null,
            "grid_row": null,
            "grid_template_areas": null,
            "grid_template_columns": null,
            "grid_template_rows": null,
            "height": null,
            "justify_content": null,
            "justify_items": null,
            "left": null,
            "margin": null,
            "max_height": null,
            "max_width": null,
            "min_height": null,
            "min_width": null,
            "object_fit": null,
            "object_position": null,
            "order": null,
            "overflow": null,
            "overflow_x": null,
            "overflow_y": null,
            "padding": null,
            "right": null,
            "top": null,
            "visibility": null,
            "width": "100%"
          }
        },
        "df228ac051ac467f947f6d668ba5d2db": {
          "model_module": "@jupyter-widgets/base",
          "model_name": "LayoutModel",
          "model_module_version": "1.2.0",
          "state": {
            "_model_module": "@jupyter-widgets/base",
            "_model_module_version": "1.2.0",
            "_model_name": "LayoutModel",
            "_view_count": null,
            "_view_module": "@jupyter-widgets/base",
            "_view_module_version": "1.2.0",
            "_view_name": "LayoutView",
            "align_content": null,
            "align_items": null,
            "align_self": null,
            "border": null,
            "bottom": null,
            "display": null,
            "flex": null,
            "flex_flow": null,
            "grid_area": null,
            "grid_auto_columns": null,
            "grid_auto_flow": null,
            "grid_auto_rows": null,
            "grid_column": null,
            "grid_gap": null,
            "grid_row": null,
            "grid_template_areas": null,
            "grid_template_columns": null,
            "grid_template_rows": null,
            "height": null,
            "justify_content": null,
            "justify_items": null,
            "left": null,
            "margin": null,
            "max_height": null,
            "max_width": null,
            "min_height": null,
            "min_width": null,
            "object_fit": null,
            "object_position": null,
            "order": null,
            "overflow": null,
            "overflow_x": null,
            "overflow_y": null,
            "padding": null,
            "right": null,
            "top": null,
            "visibility": null,
            "width": null
          }
        },
        "45941d1fa241437ea9afbec7ded54df4": {
          "model_module": "@jupyter-widgets/controls",
          "model_name": "DescriptionStyleModel",
          "model_module_version": "1.5.0",
          "state": {
            "_model_module": "@jupyter-widgets/controls",
            "_model_module_version": "1.5.0",
            "_model_name": "DescriptionStyleModel",
            "_view_count": null,
            "_view_module": "@jupyter-widgets/base",
            "_view_module_version": "1.2.0",
            "_view_name": "StyleView",
            "description_width": ""
          }
        },
        "81d32ffdd7964a989b859e6bfc693a5c": {
          "model_module": "@jupyter-widgets/base",
          "model_name": "LayoutModel",
          "model_module_version": "1.2.0",
          "state": {
            "_model_module": "@jupyter-widgets/base",
            "_model_module_version": "1.2.0",
            "_model_name": "LayoutModel",
            "_view_count": null,
            "_view_module": "@jupyter-widgets/base",
            "_view_module_version": "1.2.0",
            "_view_name": "LayoutView",
            "align_content": null,
            "align_items": null,
            "align_self": null,
            "border": null,
            "bottom": null,
            "display": null,
            "flex": "2",
            "flex_flow": null,
            "grid_area": null,
            "grid_auto_columns": null,
            "grid_auto_flow": null,
            "grid_auto_rows": null,
            "grid_column": null,
            "grid_gap": null,
            "grid_row": null,
            "grid_template_areas": null,
            "grid_template_columns": null,
            "grid_template_rows": null,
            "height": null,
            "justify_content": null,
            "justify_items": null,
            "left": null,
            "margin": null,
            "max_height": null,
            "max_width": null,
            "min_height": null,
            "min_width": null,
            "object_fit": null,
            "object_position": null,
            "order": null,
            "overflow": null,
            "overflow_x": null,
            "overflow_y": null,
            "padding": null,
            "right": null,
            "top": null,
            "visibility": null,
            "width": null
          }
        },
        "67bd1e9537bc46aaa15c942e3c7aa36e": {
          "model_module": "@jupyter-widgets/controls",
          "model_name": "ProgressStyleModel",
          "model_module_version": "1.5.0",
          "state": {
            "_model_module": "@jupyter-widgets/controls",
            "_model_module_version": "1.5.0",
            "_model_name": "ProgressStyleModel",
            "_view_count": null,
            "_view_module": "@jupyter-widgets/base",
            "_view_module_version": "1.2.0",
            "_view_name": "StyleView",
            "bar_color": null,
            "description_width": ""
          }
        },
        "2fef062888344213ba5b07f85b1a4f17": {
          "model_module": "@jupyter-widgets/base",
          "model_name": "LayoutModel",
          "model_module_version": "1.2.0",
          "state": {
            "_model_module": "@jupyter-widgets/base",
            "_model_module_version": "1.2.0",
            "_model_name": "LayoutModel",
            "_view_count": null,
            "_view_module": "@jupyter-widgets/base",
            "_view_module_version": "1.2.0",
            "_view_name": "LayoutView",
            "align_content": null,
            "align_items": null,
            "align_self": null,
            "border": null,
            "bottom": null,
            "display": null,
            "flex": null,
            "flex_flow": null,
            "grid_area": null,
            "grid_auto_columns": null,
            "grid_auto_flow": null,
            "grid_auto_rows": null,
            "grid_column": null,
            "grid_gap": null,
            "grid_row": null,
            "grid_template_areas": null,
            "grid_template_columns": null,
            "grid_template_rows": null,
            "height": null,
            "justify_content": null,
            "justify_items": null,
            "left": null,
            "margin": null,
            "max_height": null,
            "max_width": null,
            "min_height": null,
            "min_width": null,
            "object_fit": null,
            "object_position": null,
            "order": null,
            "overflow": null,
            "overflow_x": null,
            "overflow_y": null,
            "padding": null,
            "right": null,
            "top": null,
            "visibility": null,
            "width": null
          }
        },
        "20b43cb6b78049bc8e561b0e22c1c4db": {
          "model_module": "@jupyter-widgets/controls",
          "model_name": "DescriptionStyleModel",
          "model_module_version": "1.5.0",
          "state": {
            "_model_module": "@jupyter-widgets/controls",
            "_model_module_version": "1.5.0",
            "_model_name": "DescriptionStyleModel",
            "_view_count": null,
            "_view_module": "@jupyter-widgets/base",
            "_view_module_version": "1.2.0",
            "_view_name": "StyleView",
            "description_width": ""
          }
        },
        "5af893b393bd4f1b851ea4fe4feb1df5": {
          "model_module": "@jupyter-widgets/controls",
          "model_name": "HBoxModel",
          "model_module_version": "1.5.0",
          "state": {
            "_dom_classes": [],
            "_model_module": "@jupyter-widgets/controls",
            "_model_module_version": "1.5.0",
            "_model_name": "HBoxModel",
            "_view_count": null,
            "_view_module": "@jupyter-widgets/controls",
            "_view_module_version": "1.5.0",
            "_view_name": "HBoxView",
            "box_style": "",
            "children": [
              "IPY_MODEL_9d263be1619947de9b95dd8b476e922f",
              "IPY_MODEL_39c04fb632254deda4e560761a38fad4",
              "IPY_MODEL_a1e51a89e29f4629a3592b9b63a7c87d"
            ],
            "layout": "IPY_MODEL_4ff403ae91694456b2004d22d75fce4f"
          }
        },
        "9d263be1619947de9b95dd8b476e922f": {
          "model_module": "@jupyter-widgets/controls",
          "model_name": "HTMLModel",
          "model_module_version": "1.5.0",
          "state": {
            "_dom_classes": [],
            "_model_module": "@jupyter-widgets/controls",
            "_model_module_version": "1.5.0",
            "_model_name": "HTMLModel",
            "_view_count": null,
            "_view_module": "@jupyter-widgets/controls",
            "_view_module_version": "1.5.0",
            "_view_name": "HTMLView",
            "description": "",
            "description_tooltip": null,
            "layout": "IPY_MODEL_6101bdebfd40411fa6b40093fd10a06c",
            "placeholder": "​",
            "style": "IPY_MODEL_be63ea90ae84492c8f5d4d8e1938112e",
            "value": "Predicting DataLoader 0: 100%"
          }
        },
        "39c04fb632254deda4e560761a38fad4": {
          "model_module": "@jupyter-widgets/controls",
          "model_name": "FloatProgressModel",
          "model_module_version": "1.5.0",
          "state": {
            "_dom_classes": [],
            "_model_module": "@jupyter-widgets/controls",
            "_model_module_version": "1.5.0",
            "_model_name": "FloatProgressModel",
            "_view_count": null,
            "_view_module": "@jupyter-widgets/controls",
            "_view_module_version": "1.5.0",
            "_view_name": "ProgressView",
            "bar_style": "success",
            "description": "",
            "description_tooltip": null,
            "layout": "IPY_MODEL_9350648c18db4103a8416c356703beef",
            "max": 8,
            "min": 0,
            "orientation": "horizontal",
            "style": "IPY_MODEL_7e26b8b570d043ee963b1a51694f698a",
            "value": 8
          }
        },
        "a1e51a89e29f4629a3592b9b63a7c87d": {
          "model_module": "@jupyter-widgets/controls",
          "model_name": "HTMLModel",
          "model_module_version": "1.5.0",
          "state": {
            "_dom_classes": [],
            "_model_module": "@jupyter-widgets/controls",
            "_model_module_version": "1.5.0",
            "_model_name": "HTMLModel",
            "_view_count": null,
            "_view_module": "@jupyter-widgets/controls",
            "_view_module_version": "1.5.0",
            "_view_name": "HTMLView",
            "description": "",
            "description_tooltip": null,
            "layout": "IPY_MODEL_47da9a93649843219d5ce21e0d656134",
            "placeholder": "​",
            "style": "IPY_MODEL_b1a3d9990c7141bba6a7faa07b2e4884",
            "value": " 8/8 [00:00&lt;00:00, 245.74it/s]"
          }
        },
        "4ff403ae91694456b2004d22d75fce4f": {
          "model_module": "@jupyter-widgets/base",
          "model_name": "LayoutModel",
          "model_module_version": "1.2.0",
          "state": {
            "_model_module": "@jupyter-widgets/base",
            "_model_module_version": "1.2.0",
            "_model_name": "LayoutModel",
            "_view_count": null,
            "_view_module": "@jupyter-widgets/base",
            "_view_module_version": "1.2.0",
            "_view_name": "LayoutView",
            "align_content": null,
            "align_items": null,
            "align_self": null,
            "border": null,
            "bottom": null,
            "display": "inline-flex",
            "flex": null,
            "flex_flow": "row wrap",
            "grid_area": null,
            "grid_auto_columns": null,
            "grid_auto_flow": null,
            "grid_auto_rows": null,
            "grid_column": null,
            "grid_gap": null,
            "grid_row": null,
            "grid_template_areas": null,
            "grid_template_columns": null,
            "grid_template_rows": null,
            "height": null,
            "justify_content": null,
            "justify_items": null,
            "left": null,
            "margin": null,
            "max_height": null,
            "max_width": null,
            "min_height": null,
            "min_width": null,
            "object_fit": null,
            "object_position": null,
            "order": null,
            "overflow": null,
            "overflow_x": null,
            "overflow_y": null,
            "padding": null,
            "right": null,
            "top": null,
            "visibility": null,
            "width": "100%"
          }
        },
        "6101bdebfd40411fa6b40093fd10a06c": {
          "model_module": "@jupyter-widgets/base",
          "model_name": "LayoutModel",
          "model_module_version": "1.2.0",
          "state": {
            "_model_module": "@jupyter-widgets/base",
            "_model_module_version": "1.2.0",
            "_model_name": "LayoutModel",
            "_view_count": null,
            "_view_module": "@jupyter-widgets/base",
            "_view_module_version": "1.2.0",
            "_view_name": "LayoutView",
            "align_content": null,
            "align_items": null,
            "align_self": null,
            "border": null,
            "bottom": null,
            "display": null,
            "flex": null,
            "flex_flow": null,
            "grid_area": null,
            "grid_auto_columns": null,
            "grid_auto_flow": null,
            "grid_auto_rows": null,
            "grid_column": null,
            "grid_gap": null,
            "grid_row": null,
            "grid_template_areas": null,
            "grid_template_columns": null,
            "grid_template_rows": null,
            "height": null,
            "justify_content": null,
            "justify_items": null,
            "left": null,
            "margin": null,
            "max_height": null,
            "max_width": null,
            "min_height": null,
            "min_width": null,
            "object_fit": null,
            "object_position": null,
            "order": null,
            "overflow": null,
            "overflow_x": null,
            "overflow_y": null,
            "padding": null,
            "right": null,
            "top": null,
            "visibility": null,
            "width": null
          }
        },
        "be63ea90ae84492c8f5d4d8e1938112e": {
          "model_module": "@jupyter-widgets/controls",
          "model_name": "DescriptionStyleModel",
          "model_module_version": "1.5.0",
          "state": {
            "_model_module": "@jupyter-widgets/controls",
            "_model_module_version": "1.5.0",
            "_model_name": "DescriptionStyleModel",
            "_view_count": null,
            "_view_module": "@jupyter-widgets/base",
            "_view_module_version": "1.2.0",
            "_view_name": "StyleView",
            "description_width": ""
          }
        },
        "9350648c18db4103a8416c356703beef": {
          "model_module": "@jupyter-widgets/base",
          "model_name": "LayoutModel",
          "model_module_version": "1.2.0",
          "state": {
            "_model_module": "@jupyter-widgets/base",
            "_model_module_version": "1.2.0",
            "_model_name": "LayoutModel",
            "_view_count": null,
            "_view_module": "@jupyter-widgets/base",
            "_view_module_version": "1.2.0",
            "_view_name": "LayoutView",
            "align_content": null,
            "align_items": null,
            "align_self": null,
            "border": null,
            "bottom": null,
            "display": null,
            "flex": "2",
            "flex_flow": null,
            "grid_area": null,
            "grid_auto_columns": null,
            "grid_auto_flow": null,
            "grid_auto_rows": null,
            "grid_column": null,
            "grid_gap": null,
            "grid_row": null,
            "grid_template_areas": null,
            "grid_template_columns": null,
            "grid_template_rows": null,
            "height": null,
            "justify_content": null,
            "justify_items": null,
            "left": null,
            "margin": null,
            "max_height": null,
            "max_width": null,
            "min_height": null,
            "min_width": null,
            "object_fit": null,
            "object_position": null,
            "order": null,
            "overflow": null,
            "overflow_x": null,
            "overflow_y": null,
            "padding": null,
            "right": null,
            "top": null,
            "visibility": null,
            "width": null
          }
        },
        "7e26b8b570d043ee963b1a51694f698a": {
          "model_module": "@jupyter-widgets/controls",
          "model_name": "ProgressStyleModel",
          "model_module_version": "1.5.0",
          "state": {
            "_model_module": "@jupyter-widgets/controls",
            "_model_module_version": "1.5.0",
            "_model_name": "ProgressStyleModel",
            "_view_count": null,
            "_view_module": "@jupyter-widgets/base",
            "_view_module_version": "1.2.0",
            "_view_name": "StyleView",
            "bar_color": null,
            "description_width": ""
          }
        },
        "47da9a93649843219d5ce21e0d656134": {
          "model_module": "@jupyter-widgets/base",
          "model_name": "LayoutModel",
          "model_module_version": "1.2.0",
          "state": {
            "_model_module": "@jupyter-widgets/base",
            "_model_module_version": "1.2.0",
            "_model_name": "LayoutModel",
            "_view_count": null,
            "_view_module": "@jupyter-widgets/base",
            "_view_module_version": "1.2.0",
            "_view_name": "LayoutView",
            "align_content": null,
            "align_items": null,
            "align_self": null,
            "border": null,
            "bottom": null,
            "display": null,
            "flex": null,
            "flex_flow": null,
            "grid_area": null,
            "grid_auto_columns": null,
            "grid_auto_flow": null,
            "grid_auto_rows": null,
            "grid_column": null,
            "grid_gap": null,
            "grid_row": null,
            "grid_template_areas": null,
            "grid_template_columns": null,
            "grid_template_rows": null,
            "height": null,
            "justify_content": null,
            "justify_items": null,
            "left": null,
            "margin": null,
            "max_height": null,
            "max_width": null,
            "min_height": null,
            "min_width": null,
            "object_fit": null,
            "object_position": null,
            "order": null,
            "overflow": null,
            "overflow_x": null,
            "overflow_y": null,
            "padding": null,
            "right": null,
            "top": null,
            "visibility": null,
            "width": null
          }
        },
        "b1a3d9990c7141bba6a7faa07b2e4884": {
          "model_module": "@jupyter-widgets/controls",
          "model_name": "DescriptionStyleModel",
          "model_module_version": "1.5.0",
          "state": {
            "_model_module": "@jupyter-widgets/controls",
            "_model_module_version": "1.5.0",
            "_model_name": "DescriptionStyleModel",
            "_view_count": null,
            "_view_module": "@jupyter-widgets/base",
            "_view_module_version": "1.2.0",
            "_view_name": "StyleView",
            "description_width": ""
          }
        },
        "332137ab44ff4686a43ee5d9b2288516": {
          "model_module": "@jupyter-widgets/controls",
          "model_name": "HBoxModel",
          "model_module_version": "1.5.0",
          "state": {
            "_dom_classes": [],
            "_model_module": "@jupyter-widgets/controls",
            "_model_module_version": "1.5.0",
            "_model_name": "HBoxModel",
            "_view_count": null,
            "_view_module": "@jupyter-widgets/controls",
            "_view_module_version": "1.5.0",
            "_view_name": "HBoxView",
            "box_style": "",
            "children": [
              "IPY_MODEL_cac91f00926d499599ccf3ce01c6c719",
              "IPY_MODEL_bfda43318faf4d5483acb658b93bfd51",
              "IPY_MODEL_97200653aa464545a16c9061d8d46b4c"
            ],
            "layout": "IPY_MODEL_dd204c9d7b5444eeaa6f23db162f0e20"
          }
        },
        "cac91f00926d499599ccf3ce01c6c719": {
          "model_module": "@jupyter-widgets/controls",
          "model_name": "HTMLModel",
          "model_module_version": "1.5.0",
          "state": {
            "_dom_classes": [],
            "_model_module": "@jupyter-widgets/controls",
            "_model_module_version": "1.5.0",
            "_model_name": "HTMLModel",
            "_view_count": null,
            "_view_module": "@jupyter-widgets/controls",
            "_view_module_version": "1.5.0",
            "_view_name": "HTMLView",
            "description": "",
            "description_tooltip": null,
            "layout": "IPY_MODEL_2d5e664e053e46f0983ca2ae1538b404",
            "placeholder": "​",
            "style": "IPY_MODEL_2d6a560353ad4f049c9663a3dda291e5",
            "value": "Epoch 199: 100%"
          }
        },
        "bfda43318faf4d5483acb658b93bfd51": {
          "model_module": "@jupyter-widgets/controls",
          "model_name": "FloatProgressModel",
          "model_module_version": "1.5.0",
          "state": {
            "_dom_classes": [],
            "_model_module": "@jupyter-widgets/controls",
            "_model_module_version": "1.5.0",
            "_model_name": "FloatProgressModel",
            "_view_count": null,
            "_view_module": "@jupyter-widgets/controls",
            "_view_module_version": "1.5.0",
            "_view_name": "ProgressView",
            "bar_style": "success",
            "description": "",
            "description_tooltip": null,
            "layout": "IPY_MODEL_eb3a73ed80ba4671b434e2414546f572",
            "max": 24,
            "min": 0,
            "orientation": "horizontal",
            "style": "IPY_MODEL_ceea97f4f22d45de9837b567faa66ac5",
            "value": 24
          }
        },
        "97200653aa464545a16c9061d8d46b4c": {
          "model_module": "@jupyter-widgets/controls",
          "model_name": "HTMLModel",
          "model_module_version": "1.5.0",
          "state": {
            "_dom_classes": [],
            "_model_module": "@jupyter-widgets/controls",
            "_model_module_version": "1.5.0",
            "_model_name": "HTMLModel",
            "_view_count": null,
            "_view_module": "@jupyter-widgets/controls",
            "_view_module_version": "1.5.0",
            "_view_name": "HTMLView",
            "description": "",
            "description_tooltip": null,
            "layout": "IPY_MODEL_b84d5af290b14148b573c03d6579947d",
            "placeholder": "​",
            "style": "IPY_MODEL_6081595c48ff4346bc0ffcd1b18e7340",
            "value": " 24/24 [00:00&lt;00:00, 197.87it/s, v_num=5]"
          }
        },
        "dd204c9d7b5444eeaa6f23db162f0e20": {
          "model_module": "@jupyter-widgets/base",
          "model_name": "LayoutModel",
          "model_module_version": "1.2.0",
          "state": {
            "_model_module": "@jupyter-widgets/base",
            "_model_module_version": "1.2.0",
            "_model_name": "LayoutModel",
            "_view_count": null,
            "_view_module": "@jupyter-widgets/base",
            "_view_module_version": "1.2.0",
            "_view_name": "LayoutView",
            "align_content": null,
            "align_items": null,
            "align_self": null,
            "border": null,
            "bottom": null,
            "display": "inline-flex",
            "flex": null,
            "flex_flow": "row wrap",
            "grid_area": null,
            "grid_auto_columns": null,
            "grid_auto_flow": null,
            "grid_auto_rows": null,
            "grid_column": null,
            "grid_gap": null,
            "grid_row": null,
            "grid_template_areas": null,
            "grid_template_columns": null,
            "grid_template_rows": null,
            "height": null,
            "justify_content": null,
            "justify_items": null,
            "left": null,
            "margin": null,
            "max_height": null,
            "max_width": null,
            "min_height": null,
            "min_width": null,
            "object_fit": null,
            "object_position": null,
            "order": null,
            "overflow": null,
            "overflow_x": null,
            "overflow_y": null,
            "padding": null,
            "right": null,
            "top": null,
            "visibility": null,
            "width": "100%"
          }
        },
        "2d5e664e053e46f0983ca2ae1538b404": {
          "model_module": "@jupyter-widgets/base",
          "model_name": "LayoutModel",
          "model_module_version": "1.2.0",
          "state": {
            "_model_module": "@jupyter-widgets/base",
            "_model_module_version": "1.2.0",
            "_model_name": "LayoutModel",
            "_view_count": null,
            "_view_module": "@jupyter-widgets/base",
            "_view_module_version": "1.2.0",
            "_view_name": "LayoutView",
            "align_content": null,
            "align_items": null,
            "align_self": null,
            "border": null,
            "bottom": null,
            "display": null,
            "flex": null,
            "flex_flow": null,
            "grid_area": null,
            "grid_auto_columns": null,
            "grid_auto_flow": null,
            "grid_auto_rows": null,
            "grid_column": null,
            "grid_gap": null,
            "grid_row": null,
            "grid_template_areas": null,
            "grid_template_columns": null,
            "grid_template_rows": null,
            "height": null,
            "justify_content": null,
            "justify_items": null,
            "left": null,
            "margin": null,
            "max_height": null,
            "max_width": null,
            "min_height": null,
            "min_width": null,
            "object_fit": null,
            "object_position": null,
            "order": null,
            "overflow": null,
            "overflow_x": null,
            "overflow_y": null,
            "padding": null,
            "right": null,
            "top": null,
            "visibility": null,
            "width": null
          }
        },
        "2d6a560353ad4f049c9663a3dda291e5": {
          "model_module": "@jupyter-widgets/controls",
          "model_name": "DescriptionStyleModel",
          "model_module_version": "1.5.0",
          "state": {
            "_model_module": "@jupyter-widgets/controls",
            "_model_module_version": "1.5.0",
            "_model_name": "DescriptionStyleModel",
            "_view_count": null,
            "_view_module": "@jupyter-widgets/base",
            "_view_module_version": "1.2.0",
            "_view_name": "StyleView",
            "description_width": ""
          }
        },
        "eb3a73ed80ba4671b434e2414546f572": {
          "model_module": "@jupyter-widgets/base",
          "model_name": "LayoutModel",
          "model_module_version": "1.2.0",
          "state": {
            "_model_module": "@jupyter-widgets/base",
            "_model_module_version": "1.2.0",
            "_model_name": "LayoutModel",
            "_view_count": null,
            "_view_module": "@jupyter-widgets/base",
            "_view_module_version": "1.2.0",
            "_view_name": "LayoutView",
            "align_content": null,
            "align_items": null,
            "align_self": null,
            "border": null,
            "bottom": null,
            "display": null,
            "flex": "2",
            "flex_flow": null,
            "grid_area": null,
            "grid_auto_columns": null,
            "grid_auto_flow": null,
            "grid_auto_rows": null,
            "grid_column": null,
            "grid_gap": null,
            "grid_row": null,
            "grid_template_areas": null,
            "grid_template_columns": null,
            "grid_template_rows": null,
            "height": null,
            "justify_content": null,
            "justify_items": null,
            "left": null,
            "margin": null,
            "max_height": null,
            "max_width": null,
            "min_height": null,
            "min_width": null,
            "object_fit": null,
            "object_position": null,
            "order": null,
            "overflow": null,
            "overflow_x": null,
            "overflow_y": null,
            "padding": null,
            "right": null,
            "top": null,
            "visibility": null,
            "width": null
          }
        },
        "ceea97f4f22d45de9837b567faa66ac5": {
          "model_module": "@jupyter-widgets/controls",
          "model_name": "ProgressStyleModel",
          "model_module_version": "1.5.0",
          "state": {
            "_model_module": "@jupyter-widgets/controls",
            "_model_module_version": "1.5.0",
            "_model_name": "ProgressStyleModel",
            "_view_count": null,
            "_view_module": "@jupyter-widgets/base",
            "_view_module_version": "1.2.0",
            "_view_name": "StyleView",
            "bar_color": null,
            "description_width": ""
          }
        },
        "b84d5af290b14148b573c03d6579947d": {
          "model_module": "@jupyter-widgets/base",
          "model_name": "LayoutModel",
          "model_module_version": "1.2.0",
          "state": {
            "_model_module": "@jupyter-widgets/base",
            "_model_module_version": "1.2.0",
            "_model_name": "LayoutModel",
            "_view_count": null,
            "_view_module": "@jupyter-widgets/base",
            "_view_module_version": "1.2.0",
            "_view_name": "LayoutView",
            "align_content": null,
            "align_items": null,
            "align_self": null,
            "border": null,
            "bottom": null,
            "display": null,
            "flex": null,
            "flex_flow": null,
            "grid_area": null,
            "grid_auto_columns": null,
            "grid_auto_flow": null,
            "grid_auto_rows": null,
            "grid_column": null,
            "grid_gap": null,
            "grid_row": null,
            "grid_template_areas": null,
            "grid_template_columns": null,
            "grid_template_rows": null,
            "height": null,
            "justify_content": null,
            "justify_items": null,
            "left": null,
            "margin": null,
            "max_height": null,
            "max_width": null,
            "min_height": null,
            "min_width": null,
            "object_fit": null,
            "object_position": null,
            "order": null,
            "overflow": null,
            "overflow_x": null,
            "overflow_y": null,
            "padding": null,
            "right": null,
            "top": null,
            "visibility": null,
            "width": null
          }
        },
        "6081595c48ff4346bc0ffcd1b18e7340": {
          "model_module": "@jupyter-widgets/controls",
          "model_name": "DescriptionStyleModel",
          "model_module_version": "1.5.0",
          "state": {
            "_model_module": "@jupyter-widgets/controls",
            "_model_module_version": "1.5.0",
            "_model_name": "DescriptionStyleModel",
            "_view_count": null,
            "_view_module": "@jupyter-widgets/base",
            "_view_module_version": "1.2.0",
            "_view_name": "StyleView",
            "description_width": ""
          }
        },
        "1125ec3b419341a9b95a13b8de64ef72": {
          "model_module": "@jupyter-widgets/controls",
          "model_name": "HBoxModel",
          "model_module_version": "1.5.0",
          "state": {
            "_dom_classes": [],
            "_model_module": "@jupyter-widgets/controls",
            "_model_module_version": "1.5.0",
            "_model_name": "HBoxModel",
            "_view_count": null,
            "_view_module": "@jupyter-widgets/controls",
            "_view_module_version": "1.5.0",
            "_view_name": "HBoxView",
            "box_style": "",
            "children": [
              "IPY_MODEL_2ce46f64c7c945f7bc0cd9e49b445042",
              "IPY_MODEL_4de669aa15854ad29125bf45bd198efe",
              "IPY_MODEL_2f2e1c601bdd413ab729afa5101f3b77"
            ],
            "layout": "IPY_MODEL_c6cca5dcc246435591f86df0eae9787e"
          }
        },
        "2ce46f64c7c945f7bc0cd9e49b445042": {
          "model_module": "@jupyter-widgets/controls",
          "model_name": "HTMLModel",
          "model_module_version": "1.5.0",
          "state": {
            "_dom_classes": [],
            "_model_module": "@jupyter-widgets/controls",
            "_model_module_version": "1.5.0",
            "_model_name": "HTMLModel",
            "_view_count": null,
            "_view_module": "@jupyter-widgets/controls",
            "_view_module_version": "1.5.0",
            "_view_name": "HTMLView",
            "description": "",
            "description_tooltip": null,
            "layout": "IPY_MODEL_cf24b5f9a88243449b2513dd3d639210",
            "placeholder": "​",
            "style": "IPY_MODEL_7ed00ce618e54b9e8a488eeaf035af0b",
            "value": "Predicting DataLoader 0: 100%"
          }
        },
        "4de669aa15854ad29125bf45bd198efe": {
          "model_module": "@jupyter-widgets/controls",
          "model_name": "FloatProgressModel",
          "model_module_version": "1.5.0",
          "state": {
            "_dom_classes": [],
            "_model_module": "@jupyter-widgets/controls",
            "_model_module_version": "1.5.0",
            "_model_name": "FloatProgressModel",
            "_view_count": null,
            "_view_module": "@jupyter-widgets/controls",
            "_view_module_version": "1.5.0",
            "_view_name": "ProgressView",
            "bar_style": "success",
            "description": "",
            "description_tooltip": null,
            "layout": "IPY_MODEL_b10c9980aaec4873ba18983cf9e100e6",
            "max": 8,
            "min": 0,
            "orientation": "horizontal",
            "style": "IPY_MODEL_9ecdcf3621b142f891baa6e0627d2bf4",
            "value": 8
          }
        },
        "2f2e1c601bdd413ab729afa5101f3b77": {
          "model_module": "@jupyter-widgets/controls",
          "model_name": "HTMLModel",
          "model_module_version": "1.5.0",
          "state": {
            "_dom_classes": [],
            "_model_module": "@jupyter-widgets/controls",
            "_model_module_version": "1.5.0",
            "_model_name": "HTMLModel",
            "_view_count": null,
            "_view_module": "@jupyter-widgets/controls",
            "_view_module_version": "1.5.0",
            "_view_name": "HTMLView",
            "description": "",
            "description_tooltip": null,
            "layout": "IPY_MODEL_6b583ae7c3f14d6aa2b1612e02db84b0",
            "placeholder": "​",
            "style": "IPY_MODEL_4604dae4a94b49899351cc2849570666",
            "value": " 8/8 [00:00&lt;00:00, 248.49it/s]"
          }
        },
        "c6cca5dcc246435591f86df0eae9787e": {
          "model_module": "@jupyter-widgets/base",
          "model_name": "LayoutModel",
          "model_module_version": "1.2.0",
          "state": {
            "_model_module": "@jupyter-widgets/base",
            "_model_module_version": "1.2.0",
            "_model_name": "LayoutModel",
            "_view_count": null,
            "_view_module": "@jupyter-widgets/base",
            "_view_module_version": "1.2.0",
            "_view_name": "LayoutView",
            "align_content": null,
            "align_items": null,
            "align_self": null,
            "border": null,
            "bottom": null,
            "display": "inline-flex",
            "flex": null,
            "flex_flow": "row wrap",
            "grid_area": null,
            "grid_auto_columns": null,
            "grid_auto_flow": null,
            "grid_auto_rows": null,
            "grid_column": null,
            "grid_gap": null,
            "grid_row": null,
            "grid_template_areas": null,
            "grid_template_columns": null,
            "grid_template_rows": null,
            "height": null,
            "justify_content": null,
            "justify_items": null,
            "left": null,
            "margin": null,
            "max_height": null,
            "max_width": null,
            "min_height": null,
            "min_width": null,
            "object_fit": null,
            "object_position": null,
            "order": null,
            "overflow": null,
            "overflow_x": null,
            "overflow_y": null,
            "padding": null,
            "right": null,
            "top": null,
            "visibility": null,
            "width": "100%"
          }
        },
        "cf24b5f9a88243449b2513dd3d639210": {
          "model_module": "@jupyter-widgets/base",
          "model_name": "LayoutModel",
          "model_module_version": "1.2.0",
          "state": {
            "_model_module": "@jupyter-widgets/base",
            "_model_module_version": "1.2.0",
            "_model_name": "LayoutModel",
            "_view_count": null,
            "_view_module": "@jupyter-widgets/base",
            "_view_module_version": "1.2.0",
            "_view_name": "LayoutView",
            "align_content": null,
            "align_items": null,
            "align_self": null,
            "border": null,
            "bottom": null,
            "display": null,
            "flex": null,
            "flex_flow": null,
            "grid_area": null,
            "grid_auto_columns": null,
            "grid_auto_flow": null,
            "grid_auto_rows": null,
            "grid_column": null,
            "grid_gap": null,
            "grid_row": null,
            "grid_template_areas": null,
            "grid_template_columns": null,
            "grid_template_rows": null,
            "height": null,
            "justify_content": null,
            "justify_items": null,
            "left": null,
            "margin": null,
            "max_height": null,
            "max_width": null,
            "min_height": null,
            "min_width": null,
            "object_fit": null,
            "object_position": null,
            "order": null,
            "overflow": null,
            "overflow_x": null,
            "overflow_y": null,
            "padding": null,
            "right": null,
            "top": null,
            "visibility": null,
            "width": null
          }
        },
        "7ed00ce618e54b9e8a488eeaf035af0b": {
          "model_module": "@jupyter-widgets/controls",
          "model_name": "DescriptionStyleModel",
          "model_module_version": "1.5.0",
          "state": {
            "_model_module": "@jupyter-widgets/controls",
            "_model_module_version": "1.5.0",
            "_model_name": "DescriptionStyleModel",
            "_view_count": null,
            "_view_module": "@jupyter-widgets/base",
            "_view_module_version": "1.2.0",
            "_view_name": "StyleView",
            "description_width": ""
          }
        },
        "b10c9980aaec4873ba18983cf9e100e6": {
          "model_module": "@jupyter-widgets/base",
          "model_name": "LayoutModel",
          "model_module_version": "1.2.0",
          "state": {
            "_model_module": "@jupyter-widgets/base",
            "_model_module_version": "1.2.0",
            "_model_name": "LayoutModel",
            "_view_count": null,
            "_view_module": "@jupyter-widgets/base",
            "_view_module_version": "1.2.0",
            "_view_name": "LayoutView",
            "align_content": null,
            "align_items": null,
            "align_self": null,
            "border": null,
            "bottom": null,
            "display": null,
            "flex": "2",
            "flex_flow": null,
            "grid_area": null,
            "grid_auto_columns": null,
            "grid_auto_flow": null,
            "grid_auto_rows": null,
            "grid_column": null,
            "grid_gap": null,
            "grid_row": null,
            "grid_template_areas": null,
            "grid_template_columns": null,
            "grid_template_rows": null,
            "height": null,
            "justify_content": null,
            "justify_items": null,
            "left": null,
            "margin": null,
            "max_height": null,
            "max_width": null,
            "min_height": null,
            "min_width": null,
            "object_fit": null,
            "object_position": null,
            "order": null,
            "overflow": null,
            "overflow_x": null,
            "overflow_y": null,
            "padding": null,
            "right": null,
            "top": null,
            "visibility": null,
            "width": null
          }
        },
        "9ecdcf3621b142f891baa6e0627d2bf4": {
          "model_module": "@jupyter-widgets/controls",
          "model_name": "ProgressStyleModel",
          "model_module_version": "1.5.0",
          "state": {
            "_model_module": "@jupyter-widgets/controls",
            "_model_module_version": "1.5.0",
            "_model_name": "ProgressStyleModel",
            "_view_count": null,
            "_view_module": "@jupyter-widgets/base",
            "_view_module_version": "1.2.0",
            "_view_name": "StyleView",
            "bar_color": null,
            "description_width": ""
          }
        },
        "6b583ae7c3f14d6aa2b1612e02db84b0": {
          "model_module": "@jupyter-widgets/base",
          "model_name": "LayoutModel",
          "model_module_version": "1.2.0",
          "state": {
            "_model_module": "@jupyter-widgets/base",
            "_model_module_version": "1.2.0",
            "_model_name": "LayoutModel",
            "_view_count": null,
            "_view_module": "@jupyter-widgets/base",
            "_view_module_version": "1.2.0",
            "_view_name": "LayoutView",
            "align_content": null,
            "align_items": null,
            "align_self": null,
            "border": null,
            "bottom": null,
            "display": null,
            "flex": null,
            "flex_flow": null,
            "grid_area": null,
            "grid_auto_columns": null,
            "grid_auto_flow": null,
            "grid_auto_rows": null,
            "grid_column": null,
            "grid_gap": null,
            "grid_row": null,
            "grid_template_areas": null,
            "grid_template_columns": null,
            "grid_template_rows": null,
            "height": null,
            "justify_content": null,
            "justify_items": null,
            "left": null,
            "margin": null,
            "max_height": null,
            "max_width": null,
            "min_height": null,
            "min_width": null,
            "object_fit": null,
            "object_position": null,
            "order": null,
            "overflow": null,
            "overflow_x": null,
            "overflow_y": null,
            "padding": null,
            "right": null,
            "top": null,
            "visibility": null,
            "width": null
          }
        },
        "4604dae4a94b49899351cc2849570666": {
          "model_module": "@jupyter-widgets/controls",
          "model_name": "DescriptionStyleModel",
          "model_module_version": "1.5.0",
          "state": {
            "_model_module": "@jupyter-widgets/controls",
            "_model_module_version": "1.5.0",
            "_model_name": "DescriptionStyleModel",
            "_view_count": null,
            "_view_module": "@jupyter-widgets/base",
            "_view_module_version": "1.2.0",
            "_view_name": "StyleView",
            "description_width": ""
          }
        }
      }
    }
  },
  "cells": [
    {
      "cell_type": "markdown",
      "metadata": {
        "id": "view-in-github",
        "colab_type": "text"
      },
      "source": [
        "<a href=\"https://colab.research.google.com/github/shryu8902/KAERI_mini_BS/blob/main/%EC%8B%A4%EC%8A%B5%EC%9E%90%EB%A3%8C_1_Quantile_regression.ipynb\" target=\"_parent\"><img src=\"https://colab.research.google.com/assets/colab-badge.svg\" alt=\"Open In Colab\"/></a>"
      ]
    },
    {
      "cell_type": "markdown",
      "metadata": {
        "id": "DssbeJ0XvuEp"
      },
      "source": [
        "# 미니석사과정 (03.28) 딥러닝 모델 불확실성 정량화 실습 자료\n",
        "\n",
        "\n",
        "본 실습 자료에서는 불확실성 정량화를 위한 두가지 방법에 대한 실습을 진행합니다.\n",
        "1. Pytorch lightning 커스텀 모델 만들기\n",
        "2. GNLL (Gaussian negative log likelihood) loss 를 활용한 mean, variance estimation. (이하 GNLL 모델)\n",
        "3. Pinball loss를 활용한 multiple quantile regression. (이하 MQR 모델)\n",
        "4. Probabilistic forecasting을 위한 Metric\n"
      ]
    },
    {
      "cell_type": "markdown",
      "source": [
        "# Pytorch-lightning 모델 기초"
      ],
      "metadata": {
        "id": "t7t8iEU9xEjc"
      }
    },
    {
      "cell_type": "markdown",
      "metadata": {
        "id": "tgvrrknGyyqf"
      },
      "source": [
        "실습은 pytorch와 pytorch-lightning 라이브러리를 바탕으로 진행합니다.  \n",
        "아래의 코드 블록을 실행시키면서 결과를 확인 할 수 있습니다.  \n",
        "Heteroscedastic aleatoric uncertainty를 갖는 가상의 데이터에 대해 오토인코더 기반의 GNLL 모델과 MQR 모델을 학습시켜 출력값의 확률 분포를 모델링합니다.\n",
        "두가지 모델은 출력값에서 차이가 발생합니다.  \n",
        "GNLL 모델은 인공신경망의 출력값으로 평균과 표준편차를 얻고 ($\\mu, \\sigma$)  \n",
        "MQR 모델은 median과 타겟 quantile 예측값을 얻습니다. ($[y_{\\tau_1},y_{\\tau_2},...]$)"
      ]
    },
    {
      "cell_type": "markdown",
      "metadata": {
        "id": "CirxOByr0-wk"
      },
      "source": [
        "먼저 아래의 코드를 통해 필요 라이브러리들을 설치 후 import합니다."
      ]
    },
    {
      "cell_type": "code",
      "metadata": {
        "id": "bvCkonnC0-M2"
      },
      "source": [
        "# 기초 라이브러리\n",
        "import numpy as np\n",
        "import pandas as pd\n",
        "import matplotlib.pyplot as plt\n",
        "import torch"
      ],
      "execution_count": 1,
      "outputs": []
    },
    {
      "cell_type": "code",
      "source": [
        "# pytorch-lightning\n",
        "!pip install pytorch-lightning\n",
        "import pytorch_lightning as pl"
      ],
      "metadata": {
        "colab": {
          "base_uri": "https://localhost:8080/"
        },
        "id": "gxjOVKqOlcLg",
        "outputId": "b867b76b-4c46-4909-8b5c-82b5b88ab48a"
      },
      "execution_count": 2,
      "outputs": [
        {
          "output_type": "stream",
          "name": "stdout",
          "text": [
            "Looking in indexes: https://pypi.org/simple, https://us-python.pkg.dev/colab-wheels/public/simple/\n",
            "Collecting pytorch-lightning\n",
            "  Downloading pytorch_lightning-2.0.0-py3-none-any.whl (715 kB)\n",
            "\u001b[2K     \u001b[90m━━━━━━━━━━━━━━━━━━━━━━━━━━━━━━━━━━━━━━\u001b[0m \u001b[32m715.6/715.6 KB\u001b[0m \u001b[31m21.6 MB/s\u001b[0m eta \u001b[36m0:00:00\u001b[0m\n",
            "\u001b[?25hRequirement already satisfied: numpy>=1.17.2 in /usr/local/lib/python3.9/dist-packages (from pytorch-lightning) (1.22.4)\n",
            "Requirement already satisfied: tqdm>=4.57.0 in /usr/local/lib/python3.9/dist-packages (from pytorch-lightning) (4.65.0)\n",
            "Collecting torchmetrics>=0.7.0\n",
            "  Downloading torchmetrics-0.11.4-py3-none-any.whl (519 kB)\n",
            "\u001b[2K     \u001b[90m━━━━━━━━━━━━━━━━━━━━━━━━━━━━━━━━━━━━━━\u001b[0m \u001b[32m519.2/519.2 KB\u001b[0m \u001b[31m29.2 MB/s\u001b[0m eta \u001b[36m0:00:00\u001b[0m\n",
            "\u001b[?25hCollecting lightning-utilities>=0.7.0\n",
            "  Downloading lightning_utilities-0.8.0-py3-none-any.whl (20 kB)\n",
            "Requirement already satisfied: packaging>=17.1 in /usr/local/lib/python3.9/dist-packages (from pytorch-lightning) (23.0)\n",
            "Requirement already satisfied: typing-extensions>=4.0.0 in /usr/local/lib/python3.9/dist-packages (from pytorch-lightning) (4.5.0)\n",
            "Requirement already satisfied: fsspec[http]>2021.06.0 in /usr/local/lib/python3.9/dist-packages (from pytorch-lightning) (2023.3.0)\n",
            "Requirement already satisfied: torch>=1.11.0 in /usr/local/lib/python3.9/dist-packages (from pytorch-lightning) (1.13.1+cu116)\n",
            "Requirement already satisfied: PyYAML>=5.4 in /usr/local/lib/python3.9/dist-packages (from pytorch-lightning) (6.0)\n",
            "Collecting aiohttp!=4.0.0a0,!=4.0.0a1\n",
            "  Downloading aiohttp-3.8.4-cp39-cp39-manylinux_2_17_x86_64.manylinux2014_x86_64.whl (1.0 MB)\n",
            "\u001b[2K     \u001b[90m━━━━━━━━━━━━━━━━━━━━━━━━━━━━━━━━━━━━━━━━\u001b[0m \u001b[32m1.0/1.0 MB\u001b[0m \u001b[31m35.8 MB/s\u001b[0m eta \u001b[36m0:00:00\u001b[0m\n",
            "\u001b[?25hRequirement already satisfied: requests in /usr/local/lib/python3.9/dist-packages (from fsspec[http]>2021.06.0->pytorch-lightning) (2.27.1)\n",
            "Collecting aiosignal>=1.1.2\n",
            "  Downloading aiosignal-1.3.1-py3-none-any.whl (7.6 kB)\n",
            "Collecting yarl<2.0,>=1.0\n",
            "  Downloading yarl-1.8.2-cp39-cp39-manylinux_2_17_x86_64.manylinux2014_x86_64.whl (264 kB)\n",
            "\u001b[2K     \u001b[90m━━━━━━━━━━━━━━━━━━━━━━━━━━━━━━━━━━━━━━\u001b[0m \u001b[32m264.6/264.6 KB\u001b[0m \u001b[31m29.1 MB/s\u001b[0m eta \u001b[36m0:00:00\u001b[0m\n",
            "\u001b[?25hCollecting multidict<7.0,>=4.5\n",
            "  Downloading multidict-6.0.4-cp39-cp39-manylinux_2_17_x86_64.manylinux2014_x86_64.whl (114 kB)\n",
            "\u001b[2K     \u001b[90m━━━━━━━━━━━━━━━━━━━━━━━━━━━━━━━━━━━━━━\u001b[0m \u001b[32m114.2/114.2 KB\u001b[0m \u001b[31m10.6 MB/s\u001b[0m eta \u001b[36m0:00:00\u001b[0m\n",
            "\u001b[?25hRequirement already satisfied: attrs>=17.3.0 in /usr/local/lib/python3.9/dist-packages (from aiohttp!=4.0.0a0,!=4.0.0a1->fsspec[http]>2021.06.0->pytorch-lightning) (22.2.0)\n",
            "Requirement already satisfied: charset-normalizer<4.0,>=2.0 in /usr/local/lib/python3.9/dist-packages (from aiohttp!=4.0.0a0,!=4.0.0a1->fsspec[http]>2021.06.0->pytorch-lightning) (2.0.12)\n",
            "Collecting async-timeout<5.0,>=4.0.0a3\n",
            "  Downloading async_timeout-4.0.2-py3-none-any.whl (5.8 kB)\n",
            "Collecting frozenlist>=1.1.1\n",
            "  Downloading frozenlist-1.3.3-cp39-cp39-manylinux_2_5_x86_64.manylinux1_x86_64.manylinux_2_17_x86_64.manylinux2014_x86_64.whl (158 kB)\n",
            "\u001b[2K     \u001b[90m━━━━━━━━━━━━━━━━━━━━━━━━━━━━━━━━━━━━━━\u001b[0m \u001b[32m158.8/158.8 KB\u001b[0m \u001b[31m20.9 MB/s\u001b[0m eta \u001b[36m0:00:00\u001b[0m\n",
            "\u001b[?25hRequirement already satisfied: certifi>=2017.4.17 in /usr/local/lib/python3.9/dist-packages (from requests->fsspec[http]>2021.06.0->pytorch-lightning) (2022.12.7)\n",
            "Requirement already satisfied: idna<4,>=2.5 in /usr/local/lib/python3.9/dist-packages (from requests->fsspec[http]>2021.06.0->pytorch-lightning) (3.4)\n",
            "Requirement already satisfied: urllib3<1.27,>=1.21.1 in /usr/local/lib/python3.9/dist-packages (from requests->fsspec[http]>2021.06.0->pytorch-lightning) (1.26.15)\n",
            "Installing collected packages: multidict, lightning-utilities, frozenlist, async-timeout, yarl, torchmetrics, aiosignal, aiohttp, pytorch-lightning\n",
            "Successfully installed aiohttp-3.8.4 aiosignal-1.3.1 async-timeout-4.0.2 frozenlist-1.3.3 lightning-utilities-0.8.0 multidict-6.0.4 pytorch-lightning-2.0.0 torchmetrics-0.11.4 yarl-1.8.2\n"
          ]
        }
      ]
    },
    {
      "cell_type": "markdown",
      "metadata": {
        "id": "KCt-JtkLc2YA"
      },
      "source": [
        "## 가상의 데이터셋 생성하기\n",
        "불확실성 정량화 모델을 테스트하기 위하여 임의의 평균과 분산을 가정하여(Heterocedatic aleatoric uncertainty*) Sine function을 이용한 간단한 가상의 데이터셋을 생성해보도록 하겠습니다.\n",
        "\n",
        "\n",
        "> Heterocedatic aleatoric uncertainty : 입력에 따라서 분포가 달라지는 경우 (등분산이 아닌 경우)\n",
        "\n",
        "\n",
        "$y=sin(3x)+\\frac{x}{2}+\\epsilon$으로 가정하고\n",
        "관측하는 샘플의 불확실성을 유도하는 노이즈 $\\epsilon$이 $x$에 따라 상이한 variance를 갖는 정규분포로 모델링하겠습니다."
      ]
    },
    {
      "cell_type": "code",
      "metadata": {
        "id": "yGR5F2h0YsYI"
      },
      "source": [
        "x = np.linspace(-2,2,10000)\n",
        "y_mean = np.sin(3*x)+x/2\n",
        "y_std = np.abs(y_mean/2)\n",
        "y_unc = np.random.normal(0,y_std)\n",
        "y = y_mean + y_unc"
      ],
      "execution_count": 3,
      "outputs": []
    },
    {
      "cell_type": "markdown",
      "metadata": {
        "id": "y89DGgTNc55N"
      },
      "source": [
        "다음의 그래프는 true y값과 노이즈가 섞인 sample 데이터를 나타낸 그래프입니다."
      ]
    },
    {
      "cell_type": "code",
      "metadata": {
        "colab": {
          "base_uri": "https://localhost:8080/",
          "height": 298
        },
        "id": "CNIU7bp1bfbG",
        "outputId": "25a00c0d-ef6a-48cc-abfa-440c3f90f2cb"
      },
      "source": [
        "plt.plot(x,y_mean,'-k',label='y=f(x)')\n",
        "plt.scatter(x,y,s =2, label='observation of y with uncertainty')\n",
        "plt.legend()\n",
        "plt.grid()\n",
        "plt.title('True y and observed samples')"
      ],
      "execution_count": 4,
      "outputs": [
        {
          "output_type": "execute_result",
          "data": {
            "text/plain": [
              "Text(0.5, 1.0, 'True y and observed samples')"
            ]
          },
          "metadata": {},
          "execution_count": 4
        },
        {
          "output_type": "display_data",
          "data": {
            "text/plain": [
              "<Figure size 432x288 with 1 Axes>"
            ],
            "image/png": "[encoded data removed]"
          },
          "metadata": {
            "needs_background": "light"
          }
        }
      ]
    },
    {
      "cell_type": "markdown",
      "metadata": {
        "id": "_I-Ms-Veeg9U"
      },
      "source": [
        "다음 그래프는 $x$에 따른 표준편차 그래프입니다."
      ]
    },
    {
      "cell_type": "code",
      "metadata": {
        "colab": {
          "base_uri": "https://localhost:8080/",
          "height": 298
        },
        "id": "zznMRDj6e-Jl",
        "outputId": "02ef2390-1bfd-4ab7-b1ba-fec0025e3230"
      },
      "source": [
        "plt.plot(x,y_std,'-k')\n",
        "plt.grid()\n",
        "plt.title('standard deviation of y according to x')"
      ],
      "execution_count": 5,
      "outputs": [
        {
          "output_type": "execute_result",
          "data": {
            "text/plain": [
              "Text(0.5, 1.0, 'standard deviation of y according to x')"
            ]
          },
          "metadata": {},
          "execution_count": 5
        },
        {
          "output_type": "display_data",
          "data": {
            "text/plain": [
              "<Figure size 432x288 with 1 Axes>"
            ],
            "image/png": "[encoded data removed]"
          },
          "metadata": {
            "needs_background": "light"
          }
        }
      ]
    },
    {
      "cell_type": "markdown",
      "source": [
        "## Pytorch-lightning을 활용한 딥러닝 모델 만들기\n",
        "\n",
        "Pytorch-lightining 라이브러리 (이하 PL)를 활용하여 간단한 신경망 모델을 만들어보도록 하겠습니다.\n",
        "PL활용시 Keras API와 유사하게 모델 학습 과정을 쉽게 진행할 수 있습니다."
      ],
      "metadata": {
        "id": "Sf9qkBWzlu8a"
      }
    },
    {
      "cell_type": "code",
      "source": [
        "from torch import nn\n",
        "from torch.nn import functional as F"
      ],
      "metadata": {
        "id": "rpodTQmImOAz"
      },
      "execution_count": 6,
      "outputs": []
    },
    {
      "cell_type": "markdown",
      "source": [
        "PL 커스텀 모델은 Trainer를 통해 학습, 테스트, 검증 등을 수행할 수 있습니다.\n",
        "이를 위해서는 PL 커스텀 모델에서는 다음의 주요 함수들을 정의해야합니다.\n",
        "\n",
        "필수 요소\n",
        "-  ```__init__``` : 모델 초기화 및 각종 정보 정의\n",
        "- ```forward``` : 신경망의 forward path 정의\n",
        "- ```training_step``` : 신경망 학습 루프 정의 + trainer.fit() 에서 수행되는 내용\n",
        "- ```configure_optimzier``` : 옵티마이저 셋팅에 대한 내용, e.g., 스케쥴러 사용 등\n",
        "\n",
        "부가 요소\n",
        "- ```validation_step``` : 검증 데이터셋에 대한 수행 내용 정의 + trainer.fit() 또는 trainer.validate()\n",
        "- ```test_step``` : 테스트용 데이터셋에 대한 수행 내용 정의 + trainer.test()에서 수행되는 내용\n",
        "-```predict_step``` : trainer.predict()에서 수행되는 내용\n"
      ],
      "metadata": {
        "id": "mqxMIV1imcfD"
      }
    },
    {
      "cell_type": "markdown",
      "source": [
        "SimpleMLP라는 이름으로 커스텀 클래스를 생성해보도록하겠습니다. \n",
        "\n",
        "본 모델은 2개의 은닉층과 leaky ReLU 활성함수로 구성된 신경망입니다."
      ],
      "metadata": {
        "id": "e_v4RNOHpcwR"
      }
    },
    {
      "cell_type": "code",
      "source": [
        "class SimpleMLP(pl.LightningModule):\n",
        "    def __init__(self, input_dim = 100):\n",
        "        super().__init__()\n",
        "        self.input_dim = input_dim\n",
        "\n",
        "        self.model = nn.Sequential(\n",
        "            nn.Linear(input_dim, 128),\n",
        "            nn.LeakyReLU(),\n",
        "            nn.Linear(128, 1)\n",
        "        )\n",
        "\n",
        "        self.loss = nn.MSELoss()\n",
        "\n",
        "    def forward(self, x):\n",
        "        output = self.model(x)\n",
        "        return output\n",
        "\n",
        "    def training_step(self, batch, batch_idx):\n",
        "        x, y = batch\n",
        "        output = self(x)\n",
        "        loss = self.loss(y, output)\n",
        "        self.log('train_loss', loss)\n",
        "        return loss\n",
        "\n",
        "    def predict_step(self, batch, batch_idx):\n",
        "        x, y = batch\n",
        "        output = self(x)\n",
        "        return x, output, y\n",
        "\n",
        "    def configure_optimizers(self):\n",
        "        optimizer = torch.optim.Adam(self.parameters(), lr=1e-3)    \n",
        "        return optimizer\n"
      ],
      "metadata": {
        "id": "8nj9HjgZpP2l"
      },
      "execution_count": 7,
      "outputs": []
    },
    {
      "cell_type": "markdown",
      "source": [
        "커스텀 클래스로부터 Trainer를 활용하여 모델 학습을 진행해보도록하겠습니다.\n",
        "이를 위해서 가상의 학습용 데이터를 구성해보도록합니다."
      ],
      "metadata": {
        "id": "ppCe0Y7soKVF"
      }
    },
    {
      "cell_type": "markdown",
      "metadata": {
        "id": "4ptJukACk3Xp"
      },
      "source": [
        "## 학습 데이터셋 구성\n",
        "\n",
        "모델 학습이 가능한 형태로 데이터셋을 준비하도록 하겠습니다.\n",
        "\n",
        "랜덤하게 생성된 10000개의 입/출력 데이터에서 8000, 2000, 2000 개씩 나눠서 \n",
        "\n",
        "트레이닝, 밸리데이션 셋을 구성하도록 하겠습니다."
      ]
    },
    {
      "cell_type": "code",
      "source": [
        "X=np.random.uniform(-2,2,10000).reshape((-1,1))\n",
        "Y_MEAN = np.sin(3*X)+X/2\n",
        "Y_STD = np.abs(Y_MEAN/2)\n",
        "Y_UNC = np.random.normal(0,Y_STD)\n",
        "Y=(Y_MEAN + Y_UNC).reshape((-1,1))"
      ],
      "metadata": {
        "id": "_0owcwsSoI8D"
      },
      "execution_count": 8,
      "outputs": []
    },
    {
      "cell_type": "code",
      "source": [
        "from torch.utils.data import DataLoader, TensorDataset\n",
        "\n",
        "training_set = TensorDataset(torch.Tensor(X[:6000, ...]), torch.Tensor(Y[:6000, ...]))\n",
        "validation_set = TensorDataset(torch.Tensor(X[6000:8000, ...]), torch.Tensor(Y[6000:8000, ...]))\n",
        "test_set = TensorDataset(torch.Tensor(X[8000:, ...]), torch.Tensor(Y[8000:, ...]))\n",
        "\n",
        "train_loader = DataLoader(training_set, batch_size = 256)\n",
        "validation_loader = DataLoader(validation_set, batch_size = 256)\n",
        "test_loader = DataLoader(test_set, batch_size = 256)"
      ],
      "metadata": {
        "id": "XMkDVAFgpJdF"
      },
      "execution_count": 10,
      "outputs": []
    },
    {
      "cell_type": "markdown",
      "metadata": {
        "id": "kUMR55XpoNT_"
      },
      "source": [
        "## 모델 학습\n",
        "\n",
        "이제 데이터, 손실함수, 모델이 모두 준비되었으므로, 모델 학습을 시작해보도록 하겠습니다."
      ]
    },
    {
      "cell_type": "code",
      "source": [
        "from pytorch_lightning.callbacks import EarlyStopping\n",
        "\n",
        "Model = SimpleMLP(input_dim = 1)\n",
        "\n",
        "trainer = pl.Trainer(max_epochs = 100)\n",
        "trainer.fit(Model, train_loader)  "
      ],
      "metadata": {
        "colab": {
          "base_uri": "https://localhost:8080/",
          "height": 379,
          "referenced_widgets": [
            "21fd481e51f244058b98fd9a37663d41",
            "65222c69a59c4442be804a739e989296",
            "e8dff5debadc4418a3e4782f3a3f9528",
            "862ddd34b2f0495bbde5b0adb91cb19d",
            "7495986c20424cc6a51cb9990f6eeb35",
            "ff106d3b034a4f65be28e9f234ed7f77",
            "4ef7767fb36a4cc1a6648d3ff42d7a70",
            "1ebf34061bb34545a624871b6e866dad",
            "c65200fb3a4e4b02832592950d56e81c",
            "fdedf53383fb4f0c839507ff4081af9f",
            "f8ca09b324974885932e6ab02b1d45c7"
          ]
        },
        "id": "vlnn9V9Fp4qv",
        "outputId": "24b8a2b7-fb3d-4baa-9ee0-0028ab732cbc"
      },
      "execution_count": 13,
      "outputs": [
        {
          "output_type": "stream",
          "name": "stderr",
          "text": [
            "INFO:pytorch_lightning.utilities.rank_zero:GPU available: True (cuda), used: True\n",
            "INFO:pytorch_lightning.utilities.rank_zero:TPU available: False, using: 0 TPU cores\n",
            "INFO:pytorch_lightning.utilities.rank_zero:IPU available: False, using: 0 IPUs\n",
            "INFO:pytorch_lightning.utilities.rank_zero:HPU available: False, using: 0 HPUs\n",
            "WARNING:pytorch_lightning.loggers.tensorboard:Missing logger folder: /content/lightning_logs\n",
            "INFO:pytorch_lightning.accelerators.cuda:LOCAL_RANK: 0 - CUDA_VISIBLE_DEVICES: [0]\n",
            "INFO:pytorch_lightning.callbacks.model_summary:\n",
            "  | Name  | Type       | Params\n",
            "-------------------------------------\n",
            "0 | model | Sequential | 385   \n",
            "1 | loss  | MSELoss    | 0     \n",
            "-------------------------------------\n",
            "385       Trainable params\n",
            "0         Non-trainable params\n",
            "385       Total params\n",
            "0.002     Total estimated model params size (MB)\n",
            "/usr/local/lib/python3.9/dist-packages/pytorch_lightning/loops/fit_loop.py:280: PossibleUserWarning: The number of training batches (24) is smaller than the logging interval Trainer(log_every_n_steps=50). Set a lower value for log_every_n_steps if you want to see logs for the training epoch.\n",
            "  rank_zero_warn(\n"
          ]
        },
        {
          "output_type": "display_data",
          "data": {
            "text/plain": [
              "Training: 0it [00:00, ?it/s]"
            ],
            "application/vnd.jupyter.widget-view+json": {
              "version_major": 2,
              "version_minor": 0,
              "model_id": "21fd481e51f244058b98fd9a37663d41"
            }
          },
          "metadata": {}
        },
        {
          "output_type": "stream",
          "name": "stderr",
          "text": [
            "INFO:pytorch_lightning.utilities.rank_zero:`Trainer.fit` stopped: `max_epochs=100` reached.\n"
          ]
        }
      ]
    },
    {
      "cell_type": "markdown",
      "source": [
        "테스트 셋에 대한 모델 예측결과를 살펴보겠습니다."
      ],
      "metadata": {
        "id": "NOcBc6ynrVqp"
      }
    },
    {
      "cell_type": "code",
      "source": [
        "results = trainer.predict(Model, test_loader)"
      ],
      "metadata": {
        "colab": {
          "base_uri": "https://localhost:8080/",
          "height": 66,
          "referenced_widgets": [
            "a15f5164d4a7408880c4979b3c4f52e2",
            "17e9260d49684eb695c377d3295ed9e4",
            "f06c0293797247aea48038ad3f3fd685",
            "02b8cbe8cbf449bca7745d9716fb9414",
            "b6597aaee28b4ad68f3ac31e2e6db10e",
            "98628f3e9e4b4f4eaa47c004d672c77b",
            "e2d83f533edf49a9a3ad7816afda44e6",
            "4ecfdb44eed04b4ebe76a476fe4dca40",
            "3c40bc9fdac3411f957f29b1c25da891",
            "fa04ceb01ad242289f966aad77ab5f68",
            "99aa57d203364c05b3bc1c4f09cb3326"
          ]
        },
        "id": "RSSVYhi5rUmF",
        "outputId": "680c8277-53e5-457b-d4b0-b7ae787fd62e"
      },
      "execution_count": 14,
      "outputs": [
        {
          "output_type": "stream",
          "name": "stderr",
          "text": [
            "INFO:pytorch_lightning.accelerators.cuda:LOCAL_RANK: 0 - CUDA_VISIBLE_DEVICES: [0]\n"
          ]
        },
        {
          "output_type": "display_data",
          "data": {
            "text/plain": [
              "Predicting: 0it [00:00, ?it/s]"
            ],
            "application/vnd.jupyter.widget-view+json": {
              "version_major": 2,
              "version_minor": 0,
              "model_id": "a15f5164d4a7408880c4979b3c4f52e2"
            }
          },
          "metadata": {}
        }
      ]
    },
    {
      "cell_type": "code",
      "source": [
        "print(type(results))\n",
        "print('length of results :', len(results))\n",
        "print('length of [0]-th element in results :', len(results[0]))"
      ],
      "metadata": {
        "colab": {
          "base_uri": "https://localhost:8080/"
        },
        "id": "NxR_ZcAMtKzg",
        "outputId": "ceb9668b-45a5-4b01-c3b2-73550098869f"
      },
      "execution_count": 15,
      "outputs": [
        {
          "output_type": "stream",
          "name": "stdout",
          "text": [
            "<class 'list'>\n",
            "length of results : 8\n",
            "length of [0]-th element in results : 3\n"
          ]
        }
      ]
    },
    {
      "cell_type": "markdown",
      "source": [
        "Predict step에서 입력 x, 이에 대한 모델 출력 output 및 정답 y를 출력하도록 만들었기 때문에 결과는 미니배치 수 만큼의 길이를 갖는 리스트에 각 리스트 안에는 다시 길이가 3인 리스트가 정의되어있습니다."
      ],
      "metadata": {
        "id": "UJnlBm1LtG-C"
      }
    },
    {
      "cell_type": "code",
      "source": [
        "test_X = np.concatenate([x[0].detach().numpy() for x in results])\n",
        "test_Y_HAT = np.concatenate([x[1].detach().numpy() for x in results])\n",
        "test_Y = np.concatenate([x[2].detach().numpy() for x in results])"
      ],
      "metadata": {
        "id": "fdqr9QUasfoH"
      },
      "execution_count": 16,
      "outputs": []
    },
    {
      "cell_type": "code",
      "source": [
        "test_Y.shape"
      ],
      "metadata": {
        "colab": {
          "base_uri": "https://localhost:8080/"
        },
        "id": "VUiCUpUMs4Y8",
        "outputId": "27c751f8-b0ba-493f-e855-24638febb34e"
      },
      "execution_count": 17,
      "outputs": [
        {
          "output_type": "execute_result",
          "data": {
            "text/plain": [
              "(2000, 1)"
            ]
          },
          "metadata": {},
          "execution_count": 17
        }
      ]
    },
    {
      "cell_type": "markdown",
      "source": [
        "이제 예측이 잘되었는지 그래프를 그려보도록하겠습니다."
      ],
      "metadata": {
        "id": "aOUZdisOt2vU"
      }
    },
    {
      "cell_type": "code",
      "source": [
        "plt.figure(figsize=(10,7))\n",
        "plt.plot(x,y_mean,'-k',label='y=f(x)')\n",
        "plt.scatter(test_X,test_Y, linewidth=1, label='labels')\n",
        "plt.scatter(test_X,test_Y_HAT, linewidth=2, label='predict')\n",
        "\n",
        "plt.legend()\n",
        "plt.grid()"
      ],
      "metadata": {
        "colab": {
          "base_uri": "https://localhost:8080/",
          "height": 428
        },
        "id": "sX6MPMAItwfa",
        "outputId": "d3caa572-b7d4-4db7-9ef6-bec54d847efa"
      },
      "execution_count": 18,
      "outputs": [
        {
          "output_type": "display_data",
          "data": {
            "text/plain": [
              "<Figure size 720x504 with 1 Axes>"
            ],
            "image/png": "[encoded data removed]"
          },
          "metadata": {
            "needs_background": "light"
          }
        }
      ]
    },
    {
      "cell_type": "markdown",
      "metadata": {
        "id": "BFU7sxHcte-U"
      },
      "source": [
        "# Probabilistic forecasting을 위한 Custom loss\n",
        "\n",
        "불확실성을 고려하기 위해 이전에 설명드렸던 두가지 Loss (GNLL, MQR)를 구현해보도록 하겠습니다.\n",
        "\n",
        "pytorch를 기반으로 커스텀 클래스를 생성해보도록 하겠습니다."
      ]
    },
    {
      "cell_type": "code",
      "metadata": {
        "id": "_5P1ehBAuiRS"
      },
      "source": [
        "from torch import nn\n",
        "from torch.nn import functional as F\n",
        "from torch.utils.data import DataLoader, TensorDataset\n",
        "from torch.utils.data import random_split\n",
        "from torchvision import transforms\n",
        "import pytorch_lightning as pl\n",
        "import torch.optim as optim\n"
      ],
      "execution_count": 19,
      "outputs": []
    },
    {
      "cell_type": "markdown",
      "metadata": {
        "id": "nzdJowXr4VaA"
      },
      "source": [
        "## 1. GNLL loss\n",
        "일반적인 regression은 mean squared error를 줄이는데, 이루어지며  \n",
        "이는 Guassian noise distribution에 대한 Maximum likelihood estimation에서  \n",
        "variance를 상수로 둔 케이스와 같습니다.\n",
        "\n",
        "따라서 variance를 인공신경망의 출력값으로 함께 고려하는 경우 Guassian negative log likelihood를 loss function으로 활용할 수 있습니다.\n",
        "\n",
        "Guassina negative loglikelihood의 수식은 다음과 같습니다.\n",
        "\n",
        "$\\frac{1}{2} (\\log \\sigma^2 +\\frac{(y-\\mu)^2}{\\sigma^2}) + const$\n",
        "\n",
        "해당 loss를 구현하는데 있어서 일반적으로 상수항은 무시되고 \n",
        "출력을 통해 예측한 평균과 분산을 가지고 loss가 계산됩니다.\n",
        "\n",
        "분산을 고려하는 방식은 크게\n",
        "1. $\\sigma$ 혹은 $\\sigma^2$ 를 예측하는 방식\n",
        "2. $\\log \\sigma^2$를 예측하는 방식\n",
        "\n",
        "두가지로 구분할 수 있으며,\n",
        "1번 방식의 경우 학습 안정성과 양수 출력값을 얻기위한 조치들이 필요합니다.\n",
        "\n",
        "Pytorch에서 GNLL loss function이 구현이 되어있기때문에 이를 활용해보도록하겠습니다.\n",
        "\n",
        "https://pytorch.org/docs/stable/generated/torch.nn.GaussianNLLLoss.html"
      ]
    },
    {
      "cell_type": "markdown",
      "source": [
        "구현된 GNLL loss를 보면, MSE에서 input, target을 입력으로 받던것에 더해 var 텀이 추가되어있는 것을 확인할 수 있습니다.\n",
        "\n",
        "이제 MSE 대신 GNLL loss가 적용된 커스텀 모델을 만들어보겠습니다.\n",
        "해당 모델의 가장 큰 차이점은 다음과 같습니다.\n",
        "1. GNLL loss 사용,\n",
        "2. GNLL loss를 사용하기 위해서 모델이 var 값을 추가적으로 출력\n"
      ],
      "metadata": {
        "id": "AbtvTVmQzChk"
      }
    },
    {
      "cell_type": "code",
      "metadata": {
        "id": "V5gmTqKLuTD4"
      },
      "source": [
        "class GNLL_MLP(pl.LightningModule):\n",
        "    def __init__(self, input_dim = 100):\n",
        "        super().__init__()\n",
        "        self.input_dim = input_dim\n",
        "\n",
        "        self.model = nn.Sequential(\n",
        "            nn.Linear(input_dim, 128),\n",
        "            nn.LeakyReLU(),\n",
        "        )\n",
        "        self.mu_layer = nn.Linear(128,1)\n",
        "        # var<0 일때 error 가 발생하기 때문에 양수 값으로 출력, ValueError: var has negative entry/entries\n",
        "        self.var_layer = nn.Sequential(\n",
        "                            nn.Linear(128,1),\n",
        "                            nn.Softplus())  \n",
        "        self.loss = nn.GaussianNLLLoss()\n",
        "\n",
        "    def forward(self, x):\n",
        "        latent = self.model(x)\n",
        "        mu_hat = self.mu_layer(latent) \n",
        "        var_hat = self.var_layer(latent)\n",
        "        return mu_hat, var_hat\n",
        "\n",
        "    def training_step(self, batch, batch_idx):\n",
        "        x, y = batch\n",
        "        mu_hat, var_hat  = self(x)\n",
        "        loss = self.loss(y, mu_hat, var_hat)\n",
        "        self.log('train_loss', loss)\n",
        "        return loss\n",
        "\n",
        "    def predict_step(self, batch, batch_idx):\n",
        "        x, y = batch\n",
        "        mu_hat, var_hat = self(x)\n",
        "        return x, (mu_hat, var_hat), y\n",
        "\n",
        "    def configure_optimizers(self):\n",
        "        optimizer = torch.optim.Adam(self.parameters(), lr=1e-3)    \n",
        "        return optimizer\n"
      ],
      "execution_count": 20,
      "outputs": []
    },
    {
      "cell_type": "markdown",
      "source": [
        "마찬가지로 Trainer를 통해서 모델을 학습시켜보겠습니다."
      ],
      "metadata": {
        "id": "yxX4cr9o07ZP"
      }
    },
    {
      "cell_type": "code",
      "source": [
        "Model = GNLL_MLP(input_dim = 1)\n",
        "\n",
        "trainer = pl.Trainer(max_epochs = 200)\n",
        "trainer.fit(Model, train_loader)  "
      ],
      "metadata": {
        "colab": {
          "base_uri": "https://localhost:8080/",
          "height": 361,
          "referenced_widgets": [
            "38af3d8c4bce49ca953bbd230ed49266",
            "842b7625d03a4e25821c9cdc4f07bf2d",
            "70aaa6e3851d4880a8175e0b053face4",
            "2d907ea2bdba439989c25ac67f4a0c1c",
            "db5f6a4929fa4d4cb88bdbc7f4e3a9ff",
            "df228ac051ac467f947f6d668ba5d2db",
            "45941d1fa241437ea9afbec7ded54df4",
            "81d32ffdd7964a989b859e6bfc693a5c",
            "67bd1e9537bc46aaa15c942e3c7aa36e",
            "2fef062888344213ba5b07f85b1a4f17",
            "20b43cb6b78049bc8e561b0e22c1c4db"
          ]
        },
        "id": "cI-8pJ3b062D",
        "outputId": "c6bfc41c-fdca-4cf0-dd3d-85404347343c"
      },
      "execution_count": 22,
      "outputs": [
        {
          "output_type": "stream",
          "name": "stderr",
          "text": [
            "INFO:pytorch_lightning.utilities.rank_zero:GPU available: True (cuda), used: True\n",
            "INFO:pytorch_lightning.utilities.rank_zero:TPU available: False, using: 0 TPU cores\n",
            "INFO:pytorch_lightning.utilities.rank_zero:IPU available: False, using: 0 IPUs\n",
            "INFO:pytorch_lightning.utilities.rank_zero:HPU available: False, using: 0 HPUs\n",
            "INFO:pytorch_lightning.accelerators.cuda:LOCAL_RANK: 0 - CUDA_VISIBLE_DEVICES: [0]\n",
            "INFO:pytorch_lightning.callbacks.model_summary:\n",
            "  | Name      | Type            | Params\n",
            "----------------------------------------------\n",
            "0 | model     | Sequential      | 256   \n",
            "1 | mu_layer  | Linear          | 129   \n",
            "2 | var_layer | Sequential      | 129   \n",
            "3 | loss      | GaussianNLLLoss | 0     \n",
            "----------------------------------------------\n",
            "514       Trainable params\n",
            "0         Non-trainable params\n",
            "514       Total params\n",
            "0.002     Total estimated model params size (MB)\n"
          ]
        },
        {
          "output_type": "display_data",
          "data": {
            "text/plain": [
              "Training: 0it [00:00, ?it/s]"
            ],
            "application/vnd.jupyter.widget-view+json": {
              "version_major": 2,
              "version_minor": 0,
              "model_id": "38af3d8c4bce49ca953bbd230ed49266"
            }
          },
          "metadata": {}
        },
        {
          "output_type": "stream",
          "name": "stderr",
          "text": [
            "INFO:pytorch_lightning.utilities.rank_zero:`Trainer.fit` stopped: `max_epochs=200` reached.\n"
          ]
        }
      ]
    },
    {
      "cell_type": "markdown",
      "source": [
        "테스트 셋에 대한 결과를 살펴봅니다."
      ],
      "metadata": {
        "id": "0ebcz2OW_F8M"
      }
    },
    {
      "cell_type": "code",
      "source": [
        "results = trainer.predict(Model, test_loader)"
      ],
      "metadata": {
        "colab": {
          "base_uri": "https://localhost:8080/",
          "height": 66,
          "referenced_widgets": [
            "5af893b393bd4f1b851ea4fe4feb1df5",
            "9d263be1619947de9b95dd8b476e922f",
            "39c04fb632254deda4e560761a38fad4",
            "a1e51a89e29f4629a3592b9b63a7c87d",
            "4ff403ae91694456b2004d22d75fce4f",
            "6101bdebfd40411fa6b40093fd10a06c",
            "be63ea90ae84492c8f5d4d8e1938112e",
            "9350648c18db4103a8416c356703beef",
            "7e26b8b570d043ee963b1a51694f698a",
            "47da9a93649843219d5ce21e0d656134",
            "b1a3d9990c7141bba6a7faa07b2e4884"
          ]
        },
        "id": "aOnNBPXe1kOT",
        "outputId": "226642ee-1488-46c4-8aa4-95ac3bd19504"
      },
      "execution_count": 23,
      "outputs": [
        {
          "output_type": "stream",
          "name": "stderr",
          "text": [
            "INFO:pytorch_lightning.accelerators.cuda:LOCAL_RANK: 0 - CUDA_VISIBLE_DEVICES: [0]\n"
          ]
        },
        {
          "output_type": "display_data",
          "data": {
            "text/plain": [
              "Predicting: 0it [00:00, ?it/s]"
            ],
            "application/vnd.jupyter.widget-view+json": {
              "version_major": 2,
              "version_minor": 0,
              "model_id": "5af893b393bd4f1b851ea4fe4feb1df5"
            }
          },
          "metadata": {}
        }
      ]
    },
    {
      "cell_type": "code",
      "source": [
        "test_X = np.concatenate([x[0].detach().numpy() for x in results])\n",
        "test_Y_HAT = np.concatenate([x[1][0].detach().numpy() for x in results])\n",
        "test_Y_VAR = np.concatenate([x[1][1].detach().numpy() for x in results])\n",
        "test_Y = np.concatenate([x[2].detach().numpy() for x in results])"
      ],
      "metadata": {
        "id": "21XRUUx51pEf"
      },
      "execution_count": 24,
      "outputs": []
    },
    {
      "cell_type": "code",
      "source": [
        "plt.figure(figsize=(10,7))\n",
        "plt.plot(x,y_mean,'-k',label='y=f(x)')\n",
        "plt.scatter(test_X,test_Y, linewidth=1, label='labels')\n",
        "plt.scatter(test_X,test_Y_HAT, linewidth=2, label='predict')\n",
        "plt.scatter(test_X,test_Y_HAT+np.sqrt(test_Y_VAR), s=1, label='predict + std')\n",
        "plt.scatter(test_X,test_Y_HAT-np.sqrt(test_Y_VAR), s=1, label='predict - std')\n",
        "plt.legend()\n",
        "plt.grid()"
      ],
      "metadata": {
        "colab": {
          "base_uri": "https://localhost:8080/",
          "height": 428
        },
        "id": "J44YsXRI1zvm",
        "outputId": "7db29d8e-9f35-4d63-d3fa-1b382381a5c2"
      },
      "execution_count": 25,
      "outputs": [
        {
          "output_type": "display_data",
          "data": {
            "text/plain": [
              "<Figure size 720x504 with 1 Axes>"
            ],
            "image/png": "[encoded data removed]"
          },
          "metadata": {
            "needs_background": "light"
          }
        }
      ]
    },
    {
      "cell_type": "markdown",
      "source": [
        "저희가 가정했던 standard deviation과 GNLL 트레이닝 결과 얻은 stdard deviation을 비교해보도록하겠습니다."
      ],
      "metadata": {
        "id": "MXCi7d2N_Ksq"
      }
    },
    {
      "cell_type": "code",
      "source": [
        "from scipy.stats import norm\n",
        "plt.plot(x,y_std,'-k',label = 'Real') # 실제 표준편차\n",
        "plt.scatter(test_X, np.sqrt(test_Y_VAR), label='STD from GNLL')\n",
        "plt.grid()\n",
        "plt.legend()\n",
        "plt.title('standard deviation of y according to x')"
      ],
      "metadata": {
        "colab": {
          "base_uri": "https://localhost:8080/",
          "height": 298
        },
        "id": "n7mM-sKn-ABA",
        "outputId": "c82a4600-9265-4d7f-ba4c-c12adf2e659f"
      },
      "execution_count": 26,
      "outputs": [
        {
          "output_type": "execute_result",
          "data": {
            "text/plain": [
              "Text(0.5, 1.0, 'standard deviation of y according to x')"
            ]
          },
          "metadata": {},
          "execution_count": 26
        },
        {
          "output_type": "display_data",
          "data": {
            "text/plain": [
              "<Figure size 432x288 with 1 Axes>"
            ],
            "image/png": "[encoded data removed]"
          },
          "metadata": {
            "needs_background": "light"
          }
        }
      ]
    },
    {
      "cell_type": "markdown",
      "metadata": {
        "id": "R2eeqKxV1zfu"
      },
      "source": [
        "## 2. MQR loss\n",
        "MQR Loss 는 서로다른 target quantile에 대한 pinball loss의 합입니다.\n",
        "pinball loss의 수식은 다음과 같습니다.\n",
        "\n",
        "예측하고자 하는 target quantile을 $\\tau$, 실제값을 $y$, $\\tau$를 예측한 값을 $\\hat{y}_\\tau$라 하겠습니다.\n",
        "\n",
        "\n",
        "\\begin{equation}\n",
        "L_\\tau(y,\\hat{y}_\\tau) =\n",
        "\\begin{cases}\n",
        "  \\tau(y-\\hat{y}_\\tau) & \\text{if $y \\geq \\hat{y}_\\tau$} \\\\\n",
        "  (1-\\tau)(\\hat{y}_\\tau-y) & \\text{if $y < \\hat{y}_\\tau$}\n",
        "\\end{cases}\n",
        "\\end{equation}\n",
        "\n",
        "MQR loss 는 $\\tau_i \\in [\\tau_1,...,\\tau_N]$에 대해서\n",
        "$\\sum_{\\tau_i} L_{\\tau_i}(y,\\hat{y}_{\\tau_i})$ 입니다.\n",
        "\n",
        "위 내용을 바탕으로 Quantile loss function을 만들어보도록하겠습니다.\n"
      ]
    },
    {
      "cell_type": "markdown",
      "source": [
        "MQR loss function은 입력과 출력은 다음과 같이 구성할 수 있습니다.\n",
        "\n",
        "입력\n",
        "- 예측 대상 $\\tau$들의 리스트\n",
        "- 대상 $\\tau$에 대한 모델의 예측값\n",
        "- 실제 label y\n",
        "\n",
        "출력\n",
        "- 대상 $\\tau$에 대한 합산 pinball loss\n",
        "\n",
        "가정\n",
        "- 출력은 d차원 변수\n"
      ],
      "metadata": {
        "id": "CT_iT0Q4VBIY"
      }
    },
    {
      "cell_type": "code",
      "metadata": {
        "id": "xrGxWrSk3v96"
      },
      "source": [
        "class QuantileLoss(nn.Module):\n",
        "    def __init__(self, quantiles = [0.1, 0.5, 0.9], reduction='mean'):\n",
        "        super().__init__()\n",
        "        self.quantiles = quantiles\n",
        "        self.reduction = reduction\n",
        "        self.qs = torch.Tensor(quantiles)\n",
        "    \n",
        "    def forward(self, y_preds, y_true):\n",
        "        assert y_preds.size()[-1]==len(self.quantiles)\n",
        "\n",
        "        # y의 사이즈 수정 (N x d -> N x d x q)\n",
        "        y_trues = y_true.unsqueeze(-1).expand(*(y_true.size()),len(self.quantiles)) \n",
        "        # 오차 계산\n",
        "        # y_preds 는 (N x d x q)의 사이즈를 갖음.\n",
        "        errors = y_trues - y_preds\n",
        "        # 오차를 바탕으로 각 q에 대해서 조건문에 맞는 loss를 계산\n",
        "        losses = torch.max(\n",
        "            errors*(self.qs.cuda()-1), errors*self.qs.cuda()\n",
        "        )\n",
        "        #전체 대상 tau에 대한 summation 수행\n",
        "        ret = torch.sum(losses,dim=-1)\n",
        "\n",
        "        if self.reduction != 'none':\n",
        "            ret = torch.mean(ret) if self.reduction == 'mean' else torch.sum(ret)\n",
        "        return ret\n"
      ],
      "execution_count": 34,
      "outputs": []
    },
    {
      "cell_type": "markdown",
      "metadata": {
        "id": "Td26LTeAfpya"
      },
      "source": [
        "## 딥러닝 모델 만들기\n",
        "\n",
        "가상의 데이터셋 생성과 모델 학습을 위한 loss function를 구현하였으므로, 불확실성을 모델링하기 위한 기본적인 딥러닝 모델을 작성하도록 하겠습니다.\n",
        "\n",
        "Simple MLP 모델을 기반으로\n",
        "MQR 모델은 다중 퀀타일을 출력하고\n",
        "loss function은 MQR loss를 사용"
      ]
    },
    {
      "cell_type": "code",
      "source": [
        "class MQR_MLP(pl.LightningModule):\n",
        "    def __init__(self, target_qs = [0.1,0.3,0.5,0.7,0.9], input_dim = 100):\n",
        "        super().__init__()\n",
        "        self.input_dim = input_dim\n",
        "        self.target_qs = target_qs\n",
        "\n",
        "        self.model = nn.Sequential(\n",
        "            nn.Linear(input_dim, 128),\n",
        "            nn.LeakyReLU(),\n",
        "            nn.Linear(128, len(target_qs) )\n",
        "        )\n",
        "        self.loss = QuantileLoss(quantiles = target_qs)\n",
        "\n",
        "    def forward(self, x):\n",
        "        q_outputs = self.model(x)\n",
        "        return q_outputs.view([-1, 1, len(self.target_qs)])\n",
        "\n",
        "    def training_step(self, batch, batch_idx):\n",
        "        x, y = batch\n",
        "        q_outputs  = self(x)\n",
        "        loss = self.loss(y_preds = q_outputs, y_true = y)\n",
        "        self.log('train_loss', loss)\n",
        "        return loss\n",
        "\n",
        "    def predict_step(self, batch, batch_idx):\n",
        "        x, y = batch\n",
        "        q_outputs  = self(x)\n",
        "        return x, q_outputs, y\n",
        "\n",
        "    def configure_optimizers(self):\n",
        "        optimizer = torch.optim.Adam(self.parameters(), lr=1e-3)    \n",
        "        return optimizer\n"
      ],
      "metadata": {
        "id": "gv8lDFc1dfD6"
      },
      "execution_count": 35,
      "outputs": []
    },
    {
      "cell_type": "code",
      "metadata": {
        "id": "6hzUtz3ozkTZ",
        "colab": {
          "base_uri": "https://localhost:8080/",
          "height": 361,
          "referenced_widgets": [
            "332137ab44ff4686a43ee5d9b2288516",
            "cac91f00926d499599ccf3ce01c6c719",
            "bfda43318faf4d5483acb658b93bfd51",
            "97200653aa464545a16c9061d8d46b4c",
            "dd204c9d7b5444eeaa6f23db162f0e20",
            "2d5e664e053e46f0983ca2ae1538b404",
            "2d6a560353ad4f049c9663a3dda291e5",
            "eb3a73ed80ba4671b434e2414546f572",
            "ceea97f4f22d45de9837b567faa66ac5",
            "b84d5af290b14148b573c03d6579947d",
            "6081595c48ff4346bc0ffcd1b18e7340"
          ]
        },
        "outputId": "6fbbb975-6617-4b4d-8307-c3aaf73ae74e"
      },
      "source": [
        "Model = MQR_MLP(input_dim = 1)\n",
        "\n",
        "trainer = pl.Trainer(max_epochs = 200)\n",
        "trainer.fit(Model, train_loader)  "
      ],
      "execution_count": 36,
      "outputs": [
        {
          "output_type": "stream",
          "name": "stderr",
          "text": [
            "INFO:pytorch_lightning.utilities.rank_zero:GPU available: True (cuda), used: True\n",
            "INFO:pytorch_lightning.utilities.rank_zero:TPU available: False, using: 0 TPU cores\n",
            "INFO:pytorch_lightning.utilities.rank_zero:IPU available: False, using: 0 IPUs\n",
            "INFO:pytorch_lightning.utilities.rank_zero:HPU available: False, using: 0 HPUs\n",
            "INFO:pytorch_lightning.accelerators.cuda:LOCAL_RANK: 0 - CUDA_VISIBLE_DEVICES: [0]\n",
            "INFO:pytorch_lightning.callbacks.model_summary:\n",
            "  | Name  | Type         | Params\n",
            "---------------------------------------\n",
            "0 | model | Sequential   | 901   \n",
            "1 | loss  | QuantileLoss | 0     \n",
            "---------------------------------------\n",
            "901       Trainable params\n",
            "0         Non-trainable params\n",
            "901       Total params\n",
            "0.004     Total estimated model params size (MB)\n",
            "/usr/local/lib/python3.9/dist-packages/pytorch_lightning/loops/fit_loop.py:280: PossibleUserWarning: The number of training batches (24) is smaller than the logging interval Trainer(log_every_n_steps=50). Set a lower value for log_every_n_steps if you want to see logs for the training epoch.\n",
            "  rank_zero_warn(\n"
          ]
        },
        {
          "output_type": "display_data",
          "data": {
            "text/plain": [
              "Training: 0it [00:00, ?it/s]"
            ],
            "application/vnd.jupyter.widget-view+json": {
              "version_major": 2,
              "version_minor": 0,
              "model_id": "332137ab44ff4686a43ee5d9b2288516"
            }
          },
          "metadata": {}
        },
        {
          "output_type": "stream",
          "name": "stderr",
          "text": [
            "INFO:pytorch_lightning.utilities.rank_zero:`Trainer.fit` stopped: `max_epochs=200` reached.\n"
          ]
        }
      ]
    },
    {
      "cell_type": "markdown",
      "source": [
        "마찬가지로 테스트 데이터에 대한 결과를 정리하고 그래프로 플롯해보겠습니다."
      ],
      "metadata": {
        "id": "1rJ1JPYKppEO"
      }
    },
    {
      "cell_type": "code",
      "source": [
        "results = trainer.predict(Model, test_loader)\n",
        "test_X = np.concatenate([x[0].detach().numpy() for x in results])\n",
        "test_Y_HATS = np.concatenate([x[1].detach().numpy() for x in results])\n",
        "test_Y = np.concatenate([x[2].detach().numpy() for x in results])"
      ],
      "metadata": {
        "id": "lIMmVU39f8kE",
        "colab": {
          "base_uri": "https://localhost:8080/",
          "height": 66,
          "referenced_widgets": [
            "1125ec3b419341a9b95a13b8de64ef72",
            "2ce46f64c7c945f7bc0cd9e49b445042",
            "4de669aa15854ad29125bf45bd198efe",
            "2f2e1c601bdd413ab729afa5101f3b77",
            "c6cca5dcc246435591f86df0eae9787e",
            "cf24b5f9a88243449b2513dd3d639210",
            "7ed00ce618e54b9e8a488eeaf035af0b",
            "b10c9980aaec4873ba18983cf9e100e6",
            "9ecdcf3621b142f891baa6e0627d2bf4",
            "6b583ae7c3f14d6aa2b1612e02db84b0",
            "4604dae4a94b49899351cc2849570666"
          ]
        },
        "outputId": "838831b4-45c2-47be-87e6-26d0421b789b"
      },
      "execution_count": 37,
      "outputs": [
        {
          "output_type": "stream",
          "name": "stderr",
          "text": [
            "INFO:pytorch_lightning.accelerators.cuda:LOCAL_RANK: 0 - CUDA_VISIBLE_DEVICES: [0]\n"
          ]
        },
        {
          "output_type": "display_data",
          "data": {
            "text/plain": [
              "Predicting: 0it [00:00, ?it/s]"
            ],
            "application/vnd.jupyter.widget-view+json": {
              "version_major": 2,
              "version_minor": 0,
              "model_id": "1125ec3b419341a9b95a13b8de64ef72"
            }
          },
          "metadata": {}
        }
      ]
    },
    {
      "cell_type": "code",
      "source": [
        "plt.figure(figsize=(10,7))\n",
        "plt.plot(x,y_mean,'-k',label='y=f(x)')\n",
        "plt.scatter(test_X,test_Y, linewidth=1, label='labels')\n",
        "plt.scatter(test_X,test_Y_HATS[...,2], linewidth=2, label='predict')\n",
        "plt.scatter(test_X,test_Y_HATS[...,0], s=1, label='Q_0.1')\n",
        "plt.scatter(test_X,test_Y_HATS[...,4], s=1, label='Q_0.9')\n",
        "plt.legend()\n",
        "plt.grid()"
      ],
      "metadata": {
        "id": "9Slm0EiagFP5",
        "colab": {
          "base_uri": "https://localhost:8080/",
          "height": 428
        },
        "outputId": "dad0171f-472c-4f9a-b37f-3dd6f4627e85"
      },
      "execution_count": 42,
      "outputs": [
        {
          "output_type": "display_data",
          "data": {
            "text/plain": [
              "<Figure size 720x504 with 1 Axes>"
            ],
            "image/png": "[encoded data removed]"
          },
          "metadata": {
            "needs_background": "light"
          }
        }
      ]
    },
    {
      "cell_type": "code",
      "source": [
        "from scipy.stats import norm\n",
        "plt.plot(x,y_std,'-k',label = 'Real') # 실제 표준편차\n",
        "std_MQR = ((test_Y_HATS[...,2]-test_Y_HATS[...,1]) + (test_Y_HATS[...,3]-test_Y_HATS[...,2]))/(2*norm.ppf(0.8))\n",
        "plt.scatter(test_X,std_MQR,label='STD from MQR')\n",
        "plt.grid()\n",
        "plt.legend()\n",
        "plt.title('standard deviation of y according to x')"
      ],
      "metadata": {
        "id": "QUDbxC0hgRAD",
        "colab": {
          "base_uri": "https://localhost:8080/",
          "height": 298
        },
        "outputId": "775c9358-4b39-4080-ec87-f4baa705546a"
      },
      "execution_count": 49,
      "outputs": [
        {
          "output_type": "execute_result",
          "data": {
            "text/plain": [
              "Text(0.5, 1.0, 'standard deviation of y according to x')"
            ]
          },
          "metadata": {},
          "execution_count": 49
        },
        {
          "output_type": "display_data",
          "data": {
            "text/plain": [
              "<Figure size 432x288 with 1 Axes>"
            ],
            "image/png": "[encoded data removed]"
          },
          "metadata": {
            "needs_background": "light"
          }
        }
      ]
    },
    {
      "cell_type": "code",
      "source": [],
      "metadata": {
        "id": "HqG8kjzdKcim"
      },
      "execution_count": null,
      "outputs": []
    },
    {
      "cell_type": "markdown",
      "source": [
        "# Probabilistic Evaluation Metric\n",
        "\n",
        "지금까지 GNLL, Quantile regression을 통한 확률적 예측 수행 방법을 살펴보았습니다. 다음으로 모델을 통해 얻은 확률적 예측 결과를 평가하는 지표인 Winkler score를 만들어 보도록하겠습니다.\n",
        "\n",
        "Winkler score는 prediction interval 사이의 거리를 기준으로 실제값이 관측 범위를 벗어나면 페널티를 부과합니다."
      ],
      "metadata": {
        "id": "ezaIsZuVKdNS"
      }
    },
    {
      "cell_type": "code",
      "source": [
        "\n",
        "#80% (1-a) = 80, a = 0.2\n",
        "alpha = 0.2\n",
        "#Winkler score 80%\n",
        "U = test_Y_HATS[...,4]\n",
        "L = test_Y_HATS[...,0]\n",
        "delta = U-L\n",
        "winkler_score = delta.copy()\n",
        "winkler_score[test_Y<L] = (delta +2*(L-test_Y)/alpha)[test_Y<L]\n",
        "winkler_score[test_Y>U] = (delta +2*(test_Y-U)/alpha)[test_Y>U]\n",
        "winklers = winkler_score.mean(axis=1)\n"
      ],
      "metadata": {
        "id": "UjhdSyNALVDr"
      },
      "execution_count": 50,
      "outputs": []
    },
    {
      "cell_type": "code",
      "source": [
        "print(\"평균 Winkler score\", winklers.mean())\n"
      ],
      "metadata": {
        "colab": {
          "base_uri": "https://localhost:8080/"
        },
        "id": "Dw12k6r2rQ4x",
        "outputId": "212ac997-ce0d-4304-d9ad-88d5b93cd4b8"
      },
      "execution_count": 53,
      "outputs": [
        {
          "output_type": "stream",
          "name": "stdout",
          "text": [
            "평균 Winkler score 1.1015779\n"
          ]
        }
      ]
    }
  ]
}